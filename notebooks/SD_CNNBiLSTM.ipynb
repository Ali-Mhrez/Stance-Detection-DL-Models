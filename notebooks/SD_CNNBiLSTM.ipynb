{
  "nbformat": 4,
  "nbformat_minor": 0,
  "metadata": {
    "colab": {
      "provenance": [],
      "gpuType": "T4",
      "toc_visible": true
    },
    "kernelspec": {
      "name": "python3",
      "display_name": "Python 3"
    },
    "language_info": {
      "name": "python"
    },
    "accelerator": "GPU"
  },
  "cells": [
    {
      "cell_type": "markdown",
      "source": [
        "# Stance Detection Using Convolutional Neural Network Followed By Bidirectional Long Short-Term Memory\n",
        "\n",
        "`Convolutional Neural Networks` `Bidirectional Long Short-Term Memory`  \n",
        "`AraVec Word Vectors`  \n",
        "`AraStance Dataset`  \n",
        "`Stance Detection` `Arabic Language` `Transfer Learning`\n",
        "\n",
        "---\n",
        "\n",
        "In this notebook, we rely on a hybrid architecture comprising a very simple convolutional neural network followed by a bidirectional long short-term memory to classify the stances of the articles in the AraStance dataset. The dataset was introduced in the paper:\n",
        "```\n",
        "AraStance: A Multi-Country and Multi-Domain Dataset of Arabic Stance Detection for Fact Checking.\n",
        "```\n",
        "The pretrained vectors (AraVec project) was introduced in the paper:\n",
        "```\n",
        "AraVec: A set of Arabic Word Embedding Models for use in Arabic NLP.\n",
        "```"
      ],
      "metadata": {
        "id": "5H1RrMEJPOXN"
      }
    },
    {
      "cell_type": "markdown",
      "source": [
        "## Packages"
      ],
      "metadata": {
        "id": "ze1WVX-tPTs0"
      }
    },
    {
      "cell_type": "code",
      "execution_count": null,
      "metadata": {
        "id": "uTVzv6NOPIow"
      },
      "outputs": [],
      "source": [
        "!pip install gensim\n",
        "!pip install pyarabic"
      ]
    },
    {
      "cell_type": "code",
      "source": [
        "import gensim\n",
        "import numpy as np\n",
        "import tensorflow as tf\n",
        "from matplotlib import pyplot as plt\n",
        "from preprocessing import *\n",
        "from utils import AraStanceData, evaluate, stance_to_int"
      ],
      "metadata": {
        "id": "MXI8hIO7RXdp"
      },
      "execution_count": null,
      "outputs": []
    },
    {
      "cell_type": "markdown",
      "source": [
        "## Raw data"
      ],
      "metadata": {
        "id": "xgjr5SIkPbgP"
      }
    },
    {
      "cell_type": "markdown",
      "source": [
        "- Download the raw data:\n",
        "\n"
      ],
      "metadata": {
        "id": "veGgEXfZbS6D"
      }
    },
    {
      "cell_type": "code",
      "source": [
        "!wget https://github.com/Tariq60/arastance/archive/refs/heads/main.zip\n",
        "!unzip /content/main.zip"
      ],
      "metadata": {
        "id": "BZL5h8rmPiPX"
      },
      "execution_count": null,
      "outputs": []
    },
    {
      "cell_type": "markdown",
      "source": [
        "- Let's start by reading the raw data:"
      ],
      "metadata": {
        "id": "RPMF6e2qbWt8"
      }
    },
    {
      "cell_type": "code",
      "source": [
        "raw_train = AraStanceData(\"/content/arastance-main/data/train.jsonl\")\n",
        "raw_val = AraStanceData(\"/content/arastance-main/data/dev.jsonl\")\n",
        "raw_test = AraStanceData(\"/content/arastance-main/data/test.jsonl\")\n",
        "\n",
        "print(f'# training instances: {len(raw_train.stances)}')\n",
        "print(f'# validation instances: {len(raw_val.stances)}')\n",
        "print(f'# testing instances: {len(raw_test.stances)}')"
      ],
      "metadata": {
        "colab": {
          "base_uri": "https://localhost:8080/"
        },
        "id": "UHvBzBq3Pv7O",
        "outputId": "af2282b3-ab2d-47d9-fb6e-7212a9ddfbce"
      },
      "execution_count": null,
      "outputs": [
        {
          "output_type": "stream",
          "name": "stdout",
          "text": [
            "# training instances: 2848\n",
            "# validation instances: 569\n",
            "# testing instances: 646\n"
          ]
        }
      ]
    },
    {
      "cell_type": "markdown",
      "source": [
        "- Let's see an instance from the data:"
      ],
      "metadata": {
        "id": "6-RhBKLObZcc"
      }
    },
    {
      "cell_type": "code",
      "source": [
        "instance_no = 60\n",
        "print(f\"Claim text: {raw_train.claims[raw_train.article_claim[instance_no]]}\")\n",
        "print(f\"Article text: {raw_train.articles[instance_no]}\")\n",
        "print(f\"Stance: {raw_train.stances[instance_no]}\")"
      ],
      "metadata": {
        "colab": {
          "base_uri": "https://localhost:8080/"
        },
        "id": "1-cQ_grOTW2L",
        "outputId": "8bc380cd-de8f-4f57-a5b7-2e39cae09c9f"
      },
      "execution_count": null,
      "outputs": [
        {
          "output_type": "stream",
          "name": "stdout",
          "text": [
            "Claim text: محمد صلاح يظهر في  كأس العالم 2018 بحارس شخصي\n",
            "Article text: أليسون: سعيد للعب مع «مو».. وأحب إظهار قدراتى فى الملعب وليس بالكلام كشف أليسون بيكر، حارس المنتخب البرازيلى، المنتقل حديثا لصفوف نادى ليفربول الإنجليزى، قادما من نادى روما الإيطالى فى صفقة تاريخية تعتبر الأكبر فى تاريخ كرة القدم على مستوى حراس المرمى، ووصلت إلى 72.5 مليون يورو- عن مضمون الرسالة التى وجهها له نجم المنتخب المصرى والريدز محمد صلاح. وقال بيكر فى حوار للموقع الرسمى لليفربول: صلاح أرسل رسالة لى أمس الأول، وقال لى: ماذا تنتظر؟ فقلت له: اهدأ أنا فى الطريق. وتابع البرازيلى: أنا سعيد جدا للعب معه مجددا، فهو لاعب ممتاز وشخص رائع وعظيم. وأضاف: «هذا هو الأهم بالنسبة لى، وهو أن أكون برفقة أناس رائعين، أحبهم كما أننى أحب إظهار قدراتى على أرضية الملعب وليس بالحديث وأتطلع للمشاركة وأنا حارس هادئ يسعى للفوز فقط. أعتقد أن أسلوب لعبى سيتماشى مع أسلوب كلوب. سأبذل كل ما لدىّ من أجل النادى والجماهير». وعن السبب فى موافقته على اللعب مع الريدز، قال الحارس البرازيلى: «ليفربول فريق معتاد على الفوز، ويمتلك جماهير رائعة تقف خلفه. اختبرت الأجواء خلال مواجهة العام الماضى فى دورى الأبطال. فور أن علمت باهتمام النادى بضمى، بدأت أفكر فى إمكانية تحقيق الأمر. أنا قادم من ناد كنت سعيداً للغاية فيه، وأنا واثق من أننى سأكون سعيداً هنا. سأبذل قصارى جهدى من أجل النادى والجماهير. الوصول لنهائى دورى الأبطال يحفزنى كثيراً، وأعتقد أن اللعب لليفربول سيضيف لى الكثير». من جهته، قال يورجن كلوب، المدير الفنى لليفربول: «فى الأسابيع القليلة الماضية ظهرت الفرصة أمامنا للتعاقد مع أحد أفضل حراس المرمى فى العالم، ولم أستغرق وقتًا كبيرًا فى التفكير، تحدثت مع ملاك النادى وكانوا مهتمين أيضا بالتعاقد معه، لذا قمنا بذلك بالفعل». وأكد كلوب «كان يجب علينا التعاقد معه. وهو أمر لا علاقة له بقيمة الصفقة المادية، هذا هو سوق الانتقالات وهذه هى طبيعته. وهذا يظهر أهمية مركز حراسة المرمى، وأنا سعيدة بانضمامه لنا الآن». وأضاف مدرب الريدز «لغته الإنجليزية جيدة بشكل مفاجئ ولديه شخصية مميزة. كما اكتسب الكثير من الخبرات خلال الأعوام الماضية مع روما وأخيراً فى كأس العالم ظهر كذلك بمستوى رائع». واختتم كلوب حديثه عن أليسون قائلًا: «هو يحتاج للتأقلم مع أجواء الدورى الإنجليزى الممتاز، بالطبع كل شىء مختلف بالنسبة لما اعتاد عليه، ولكنه سوف يتأقلم معنا وبالتأكيد سوف يتطور مستواه لا شك فى ذلك. المهم هو أنه لاعب فى صفوف ليفربول الآن».\n",
            "Stance: Unrelated\n"
          ]
        }
      ]
    },
    {
      "cell_type": "markdown",
      "source": [
        "- Thus, the instances are triplets, Claim/Article/Stance.\n",
        "- Note that the original language of the data is Arabic."
      ],
      "metadata": {
        "id": "gI6qegIAbc40"
      }
    },
    {
      "cell_type": "markdown",
      "source": [
        "## Embedding layer"
      ],
      "metadata": {
        "id": "OSVmC4sOQZrQ"
      }
    },
    {
      "cell_type": "markdown",
      "source": [
        "- We will use AraVec pretrained word vectors to represent the input."
      ],
      "metadata": {
        "id": "CVidrwrpb018"
      }
    },
    {
      "cell_type": "markdown",
      "source": [
        "### Preprocessing"
      ],
      "metadata": {
        "id": "IUTsUjodPyoO"
      }
    },
    {
      "cell_type": "markdown",
      "source": [
        "- To increase the hit rate between the words in our raw data and the tokens (i.e. the keys in AraVec dictionary) in AraVec dictionary, we need to preprocess the data in a way similar to the preprocessing performed to produce those tokens."
      ],
      "metadata": {
        "id": "Db5XqX7HcBCk"
      }
    },
    {
      "cell_type": "markdown",
      "source": [
        "- Let's use the following function to preprocess the training, validation, and testing data:"
      ],
      "metadata": {
        "id": "T3ZshVO6dSbs"
      }
    },
    {
      "cell_type": "code",
      "source": [
        "# this function is resposible for the preprocessing routine\n",
        "def preprocess(instances):\n",
        "  instances = list(map(remove_puncuation, instances))\n",
        "  instances = list(map(remove_diacritics, instances))\n",
        "  instances = list(map(remove_longation, instances))\n",
        "  instances = list(map(remove_unicode_codes, instances))\n",
        "  instances = list(map(process_numerals, instances))\n",
        "  instances = list(map(normalize, instances))\n",
        "  instances = list(map(remove_extra_spaces, instances))\n",
        "  return instances"
      ],
      "metadata": {
        "id": "XnIRNj4uUJEw"
      },
      "execution_count": null,
      "outputs": []
    },
    {
      "cell_type": "markdown",
      "source": [
        "- Before preprocessing each claim article pair, we need to concatenate them."
      ],
      "metadata": {
        "id": "da_w2Ht6l-7r"
      }
    },
    {
      "cell_type": "code",
      "source": [
        "# preprocess training data\n",
        "train_instances = [raw_train.claims[raw_train.article_claim[idx]] + \" \" + article \\\n",
        "                  for idx, article in enumerate(raw_train.articles)]\n",
        "preprocessed_train_instances = preprocess(train_instances)\n",
        "\n",
        "# preprocess validation data\n",
        "val_instances = [raw_val.claims[raw_val.article_claim[idx]] + \" \" + article \\\n",
        "                  for idx, article in enumerate(raw_val.articles)]\n",
        "preprocessed_val_instances = preprocess(val_instances)\n",
        "\n",
        "# preprocess testing data\n",
        "test_instances = [raw_test.claims[raw_test.article_claim[idx]] + \" \" + article \\\n",
        "                  for idx, article in enumerate(raw_test.articles)]\n",
        "preprocessed_test_instances = preprocess(test_instances)"
      ],
      "metadata": {
        "id": "GMzoQNPHQp-F"
      },
      "execution_count": null,
      "outputs": []
    },
    {
      "cell_type": "markdown",
      "source": [
        "- Let's see a preprocessed instance:"
      ],
      "metadata": {
        "id": "dNMDVgALl2Mj"
      }
    },
    {
      "cell_type": "code",
      "source": [
        "instance_no = 60\n",
        "print(f\"Claim Article text: {preprocessed_train_instances[instance_no]}\")\n",
        "print(f\"Stance: {raw_train.stances[instance_no]}\")"
      ],
      "metadata": {
        "colab": {
          "base_uri": "https://localhost:8080/"
        },
        "id": "zSPVkWNSl74q",
        "outputId": "42a3e05b-cb04-4710-b061-c02b49874587"
      },
      "execution_count": null,
      "outputs": [
        {
          "output_type": "stream",
          "name": "stdout",
          "text": [
            "Claim Article text: محمد صلاح يظهر في كاس العالم الفان و ثماني عشره بحارس شخصي اليسون سعيد للعب مع مو واحب اظهار قدراتي في الملعب وليس بالكلام كشف اليسون بيكر حارس المنتخب البرازيلي المنتقل حديثا لصفوف نادي ليفربول الانجليزي قادما من نادي روما الايطالي في صفقه تاريخيه تعتبر الاكبر في تاريخ كره القدم علي مستوي حراس المرمي ووصلت الي اثنان و سبعون خمس مليون يورو عن مضمون الرساله التي وجهها له نجم المنتخب المصري والريدز محمد صلاح وقال بيكر في حوار للموقع الرسمي لليفربول صلاح ارسل رساله لي امس الاول وقال لي ماذا تنتظر ؟ فقلت له اهدا انا في الطريق وتابع البرازيلي انا سعيد جدا للعب معه مجددا فهو لاعب ممتاز وشخص رائع وعظيم واضاف هذا هو الاهم بالنسبه لي وهو ان اكون برفقه اناس رائعين احبهم كما انني احب اظهار قدراتي علي ارضيه الملعب وليس بالحديث واتطلع للمشاركه وانا حارس هادئ يسعي للفوز فقط اعتقد ان اسلوب لعبي سيتماشي مع اسلوب كلوب سابذل كل ما لدي من اجل النادي والجماهير وعن السبب في موافقته علي اللعب مع الريدز قال الحارس البرازيلي ليفربول فريق معتاد علي الفوز ويمتلك جماهير رائعه تقف خلفه اختبرت الاجواء خلال مواجهه العام الماضي في دوري الابطال فور ان علمت باهتمام النادي بضمي بدات افكر في امكانيه تحقيق الامر انا قادم من ناد كنت سعيدا للغايه فيه وانا واثق من انني ساكون سعيدا هنا سابذل قصاري جهدي من اجل النادي والجماهير الوصول لنهائي دوري الابطال يحفزني كثيرا واعتقد ان اللعب لليفربول سيضيف لي الكثير من جهته قال يورجن كلوب المدير الفني لليفربول في الاسابيع القليله الماضيه ظهرت الفرصه امامنا للتعاقد مع احد افضل حراس المرمي في العالم ولم استغرق وقتا كبيرا في التفكير تحدثت مع ملاك النادي وكانوا مهتمين ايضا بالتعاقد معه لذا قمنا بذلك بالفعل واكد كلوب كان يجب علينا التعاقد معه وهو امر لا علاقه له بقيمه الصفقه الماديه هذا هو سوق الانتقالات وهذه هي طبيعته وهذا يظهر اهميه مركز حراسه المرمي وانا سعيده بانضمامه لنا الان واضاف مدرب الريدز لغته الانجليزيه جيده بشكل مفاجئ ولديه شخصيه مميزه كما اكتسب الكثير من الخبرات خلال الاعوام الماضيه مع روما واخيرا في كاس العالم ظهر كذلك بمستوي رائع واختتم كلوب حديثه عن اليسون قائلا هو يحتاج للتاقلم مع اجواء الدوري الانجليزي الممتاز بالطبع كل شيء مختلف بالنسبه لما اعتاد عليه ولكنه سوف يتاقلم معنا وبالتاكيد سوف يتطور مستواه لا شك في ذلك المهم هو انه لاعب في صفوف ليفربول الان \n",
            "Stance: Unrelated\n"
          ]
        }
      ]
    },
    {
      "cell_type": "markdown",
      "source": [
        "### Initialization"
      ],
      "metadata": {
        "id": "CBUk122SeWEW"
      }
    },
    {
      "cell_type": "markdown",
      "source": [
        "- Download the pretrained vectors first:"
      ],
      "metadata": {
        "id": "jjBZW2LgeJc2"
      }
    },
    {
      "cell_type": "code",
      "source": [
        "!wget \"https://bakrianoo.ewr1.vultrobjects.com/aravec/full_uni_cbow_300_wiki.zip\"\n",
        "!unzip \"full_uni_cbow_300_wiki.zip\""
      ],
      "metadata": {
        "id": "xU0r6MLEPkln"
      },
      "execution_count": null,
      "outputs": []
    },
    {
      "cell_type": "markdown",
      "source": [
        "- Load the pretrained vectors:"
      ],
      "metadata": {
        "id": "0Eks7x5BepPb"
      }
    },
    {
      "cell_type": "code",
      "source": [
        "embedding_model = gensim.models.Word2Vec.load(\"full_uni_cbow_300_wiki.mdl\")\n",
        "print(\"AraVect project contains\",len(embedding_model.wv.index_to_key),\"tokens\")"
      ],
      "metadata": {
        "colab": {
          "base_uri": "https://localhost:8080/"
        },
        "id": "RUv2QkVfPxmH",
        "outputId": "b415eaac-7cc3-4008-de05-8542ad4290ac"
      },
      "execution_count": null,
      "outputs": [
        {
          "output_type": "stream",
          "name": "stdout",
          "text": [
            "AraVect project contains 320636 tokens\n"
          ]
        }
      ]
    },
    {
      "cell_type": "markdown",
      "source": [
        "- We need to decide on the words we are going to use in the final representation of each instance, so we will use a vectorization layer to learn a vocabulary from our training data. We allowed 30K tokens in our vocabulary.\n",
        "- We also going to need a word index, which maps words to indices like `{word1-->idx1, word2-->idx2, ...}`. The indices will be used to store the vector representation of each word in the embedding matrix."
      ],
      "metadata": {
        "id": "pRcSTqrQf0sc"
      }
    },
    {
      "cell_type": "code",
      "source": [
        "# Option 1 using TextVectorization layer\n",
        "# max_tokens represents the maximum size of the vocabulary\n",
        "vectorizer = tf.keras.layers.TextVectorization(max_tokens=30000, output_sequence_length=300, standardize=None)\n",
        "text_ds = tf.data.Dataset.from_tensor_slices(preprocessed_train_instances).batch(128)\n",
        "\n",
        "# learn the vocabulary based on the training data\n",
        "vectorizer.adapt(text_ds)\n",
        "\n",
        "voc = vectorizer.get_vocabulary()\n",
        "word_index = dict(zip(voc, range(len(voc))))\n",
        "\n",
        "# Option 2 using NLTK tokenizer\n",
        "# import nltk\n",
        "# from nltk import  word_tokenize\n",
        "# nltk.download('punkt')\n",
        "\n",
        "# def tokenization(text):\n",
        "#   return word_tokenize(text)\n",
        "\n",
        "# train_tokenized = list(map(tokenization, train_samples))\n",
        "# tokens = [token for sublist in train_tokenized for token in sublist]\n",
        "# tokens = set(tokens)\n",
        "# word_index = dict(zip(tokens, range(len(tokens))))\n",
        "# len(tokens)"
      ],
      "metadata": {
        "id": "iqA6lTkrQdu3"
      },
      "execution_count": null,
      "outputs": []
    },
    {
      "cell_type": "markdown",
      "source": [
        "- We are now ready to create an embedding matrix which maps token indices of our vocabulary to pretrained word vectors from AraVec project:"
      ],
      "metadata": {
        "id": "PPep_ER2h7xE"
      }
    },
    {
      "cell_type": "code",
      "source": [
        "num_tokens = len(voc) + 2\n",
        "embedding_dim = 300\n",
        "hits = 0\n",
        "misses = 0\n",
        "\n",
        "embedding_matrix = np.zeros((num_tokens, embedding_dim))\n",
        "for word, i in word_index.items():\n",
        "  if embedding_model.wv.__contains__(word):\n",
        "    embedding_matrix[i] = embedding_model.wv.get_vector(word)\n",
        "    hits += 1\n",
        "  else:\n",
        "    misses += 1\n",
        "print(\"Converted %d words (%d misses)\" % (hits, misses))"
      ],
      "metadata": {
        "colab": {
          "base_uri": "https://localhost:8080/"
        },
        "id": "Umm6q1LWQmae",
        "outputId": "7a6199dd-6079-439c-b97e-df3dad2aef5c"
      },
      "execution_count": null,
      "outputs": [
        {
          "output_type": "stream",
          "name": "stdout",
          "text": [
            "Converted 29578 words (422 misses)\n"
          ]
        }
      ]
    },
    {
      "cell_type": "markdown",
      "source": [
        "- Let's see the representation of a random token:"
      ],
      "metadata": {
        "id": "e9ACmLvGr2aO"
      }
    },
    {
      "cell_type": "code",
      "source": [
        "print(f\"The word 'الثلاثاء' is at index {word_index['مرحبا']}\")\n",
        "print(f\"The vector representation of 'الثلاثاء' is {embedding_matrix[word_index['الثلاثاء']]}\")"
      ],
      "metadata": {
        "colab": {
          "base_uri": "https://localhost:8080/"
        },
        "id": "uIMGs7g4r9Mw",
        "outputId": "e05a17fd-dafa-4cbc-a3a5-8c1ffaa5d37a"
      },
      "execution_count": null,
      "outputs": [
        {
          "output_type": "stream",
          "name": "stdout",
          "text": [
            "The word 'الثلاثاء' is at index 16121\n",
            "The vector representation of 'الثلاثاء' is [-3.09224582  0.55125713  0.58136082  0.55690795  0.62209177 -0.24616468\n",
            " -1.16805744  2.19624591  1.66737878 -1.71842837  0.80009604 -0.37939593\n",
            "  2.26472807  1.35227621  0.27937481  1.37363136 -0.23499569  0.39701912\n",
            "  1.49357843 -2.04478192  0.63254964 -0.36052722  0.66476351  1.13239837\n",
            " -0.19957216 -1.77682912  0.81066442 -0.24381542 -2.89442635 -0.28781021\n",
            " -1.91728437  0.08221091  0.15285496 -0.12959445  0.48114997 -1.24328351\n",
            "  1.27518427  1.41444397 -2.2336452  -0.11999038  2.12921119 -1.84557533\n",
            "  0.88319498  0.3521311  -0.68388164  1.42089999  1.83691549  1.02546704\n",
            "  2.96264768 -1.84282851  0.23209584 -0.7614786   1.60187769 -0.70626545\n",
            " -1.13750899  1.24974394  0.17311509 -0.83907795 -2.61143136  0.16617733\n",
            " -2.49376202  1.14178491 -1.10266149  0.52799869  0.39724782  1.32616937\n",
            " -0.35095277  1.11568666  1.60204899  2.4259572   0.86045963 -0.79930484\n",
            " -0.20987584 -1.6634897  -2.4445765  -0.77239984 -1.29490793 -1.0489645\n",
            " -0.08083718 -1.55442739 -2.53163099 -0.84112787  1.8424722  -1.09009039\n",
            "  1.17907345  0.46934608  2.75391889  0.43510255 -1.33596802 -1.45377791\n",
            " -0.81524009 -2.70662928  1.87368882 -1.50784123 -0.85125738 -0.15397246\n",
            "  0.03732038  1.06526613  1.93124247 -0.66195816  1.28704143  0.66423357\n",
            "  1.53689671  1.61996198  0.33086711 -0.33080912  1.72540259 -1.30694664\n",
            " -1.89779782 -0.98722649 -0.08539358 -0.22849603  1.58840716 -0.46072647\n",
            " -0.77075326  1.39078844  0.39798847 -0.66647363 -1.70508039  1.71034217\n",
            " -3.00447631  0.85914779 -2.21788692 -1.58211935  1.44308758  0.31107837\n",
            " -3.31213951  0.60834223  0.92716229  0.10478837 -0.72195828  0.30969822\n",
            " -1.2164892   1.43188655  1.02672172 -0.02302722 -1.27477336  0.43938005\n",
            " -0.14987023 -0.94386131  0.21190859 -0.30859616  0.32563636 -0.81990445\n",
            "  0.70892686  0.74632525  0.80980051  1.88275945  1.04481745 -0.38527232\n",
            " -0.32178426  1.6043582   1.07316422  1.13982236 -0.11515301  0.28908613\n",
            "  0.22562812  1.51107609  1.19238818  1.93607402  1.38488734 -0.2849212\n",
            " -1.99675763 -0.20033357 -0.13778028  0.87850612 -1.49915838 -1.4313246\n",
            "  1.49748611  2.32905483  0.56951278 -0.88401717 -0.70065516  2.28625751\n",
            " -0.24052639  1.36291671 -0.63474721  0.81857729  0.9382019   0.43187907\n",
            " -1.30613196  0.50054771  1.84283423  0.16383226 -0.22686701  0.1619426\n",
            "  0.29736832  0.53605169  0.24865027 -0.00720302 -1.49249768  1.95365453\n",
            " -0.37425172  0.07758982 -0.31173134  1.17650723 -0.76024258 -0.68610513\n",
            " -0.03682563  0.40847841 -1.82636261 -0.56881887  0.72012818 -0.25839025\n",
            " -0.68546337 -0.55906761 -0.56634116  1.28582191  1.67498434 -2.1935935\n",
            " -0.54489946  1.12519836 -0.13416664 -2.49458385  1.29845989  1.80037045\n",
            " -1.58178747 -0.17013226 -1.82998073 -2.49183083 -0.43393829 -3.10523343\n",
            "  1.6272372  -0.53535604  1.68147361  1.71834624  0.6957221   0.8700465\n",
            "  1.51509678 -2.4264214  -0.01974578  1.03017092  0.86942106 -0.88264304\n",
            " -0.03810648 -1.00905323 -1.71316504 -2.87916589 -1.42858326 -1.98843145\n",
            " -0.63087207  0.94994181  0.85962552 -1.27847016  1.16926968  1.64757442\n",
            " -1.25571609  1.61948681  0.7713455   0.04884133  1.18526888  0.15328172\n",
            " -3.6827445   1.80045676 -1.99995613 -1.56153357 -1.97850871  1.00208879\n",
            "  2.12822461 -0.84756297  0.45958525 -0.2205987  -1.32117522  0.90456957\n",
            " -0.50511009  0.86372292 -0.73950785  0.91561824 -2.11824298  1.69894075\n",
            " -0.17125143 -0.85803968 -0.78567958  0.72124404 -2.23515034 -0.45182678\n",
            "  1.31142414  1.0765568  -1.32913411 -1.74829376 -1.9770925   1.89366615\n",
            "  1.75039482 -0.23799738  0.3307665   0.08115189  0.28445017 -2.99676371\n",
            "  1.68117607 -1.60569036 -2.78301072 -3.42948508 -1.29105723 -0.11554553\n",
            " -0.98068684 -3.8057425  -0.86579043 -1.57286882  0.27889395  1.80497718]\n"
          ]
        }
      ]
    },
    {
      "cell_type": "markdown",
      "source": [
        "- Let's initialize our embedding layer with the embedding matrix:"
      ],
      "metadata": {
        "id": "EOUrwkWEiKdN"
      }
    },
    {
      "cell_type": "code",
      "source": [
        "embedding_layer = tf.keras.layers.Embedding(\n",
        "    num_tokens,\n",
        "    embedding_dim,\n",
        "    embeddings_initializer=tf.keras.initializers.Constant(embedding_matrix),\n",
        "    trainable=False,\n",
        ")"
      ],
      "metadata": {
        "id": "Yrox_SSDiJyl"
      },
      "execution_count": null,
      "outputs": []
    },
    {
      "cell_type": "markdown",
      "source": [
        "## Datasets"
      ],
      "metadata": {
        "id": "rMoc7pwxQnv9"
      }
    },
    {
      "cell_type": "code",
      "source": [
        "batch_size = 64"
      ],
      "metadata": {
        "id": "TSO0rSyQQovs"
      },
      "execution_count": null,
      "outputs": []
    },
    {
      "cell_type": "markdown",
      "source": [
        "- Before creating the dataset, we need to vectorize the training, validation, and testing data using the adapted vectorizer. This means replace every word in an instance by its index in the word index:"
      ],
      "metadata": {
        "id": "2i4i2uS3g6zz"
      }
    },
    {
      "cell_type": "code",
      "source": [
        "x_train = vectorizer(np.array([[s] for s in preprocessed_train_instances])).numpy()\n",
        "x_val = vectorizer(np.array([[s] for s in preprocessed_val_instances])).numpy()\n",
        "x_test = vectorizer(np.array([[s] for s in preprocessed_test_instances])).numpy()"
      ],
      "metadata": {
        "id": "qvtv1-IfeKXM"
      },
      "execution_count": null,
      "outputs": []
    },
    {
      "cell_type": "markdown",
      "source": [
        "- Let's see a vectorized instance:"
      ],
      "metadata": {
        "id": "yNzH7VjZoaY3"
      }
    },
    {
      "cell_type": "code",
      "source": [
        "instance_no = 60\n",
        "print(f\"Original preprocessed instance: {preprocessed_train_instances[instance_no]}\")\n",
        "print(f\"Vectorized instance: {x_train[instance_no]}\")"
      ],
      "metadata": {
        "colab": {
          "base_uri": "https://localhost:8080/"
        },
        "id": "uK9Xg60socwR",
        "outputId": "83fab042-f18a-4261-de57-5e46ec26551c"
      },
      "execution_count": null,
      "outputs": [
        {
          "output_type": "stream",
          "name": "stdout",
          "text": [
            "Original preprocessed instance: محمد صلاح يظهر في كاس العالم الفان و ثماني عشره بحارس شخصي اليسون سعيد للعب مع مو واحب اظهار قدراتي في الملعب وليس بالكلام كشف اليسون بيكر حارس المنتخب البرازيلي المنتقل حديثا لصفوف نادي ليفربول الانجليزي قادما من نادي روما الايطالي في صفقه تاريخيه تعتبر الاكبر في تاريخ كره القدم علي مستوي حراس المرمي ووصلت الي اثنان و سبعون خمس مليون يورو عن مضمون الرساله التي وجهها له نجم المنتخب المصري والريدز محمد صلاح وقال بيكر في حوار للموقع الرسمي لليفربول صلاح ارسل رساله لي امس الاول وقال لي ماذا تنتظر ؟ فقلت له اهدا انا في الطريق وتابع البرازيلي انا سعيد جدا للعب معه مجددا فهو لاعب ممتاز وشخص رائع وعظيم واضاف هذا هو الاهم بالنسبه لي وهو ان اكون برفقه اناس رائعين احبهم كما انني احب اظهار قدراتي علي ارضيه الملعب وليس بالحديث واتطلع للمشاركه وانا حارس هادئ يسعي للفوز فقط اعتقد ان اسلوب لعبي سيتماشي مع اسلوب كلوب سابذل كل ما لدي من اجل النادي والجماهير وعن السبب في موافقته علي اللعب مع الريدز قال الحارس البرازيلي ليفربول فريق معتاد علي الفوز ويمتلك جماهير رائعه تقف خلفه اختبرت الاجواء خلال مواجهه العام الماضي في دوري الابطال فور ان علمت باهتمام النادي بضمي بدات افكر في امكانيه تحقيق الامر انا قادم من ناد كنت سعيدا للغايه فيه وانا واثق من انني ساكون سعيدا هنا سابذل قصاري جهدي من اجل النادي والجماهير الوصول لنهائي دوري الابطال يحفزني كثيرا واعتقد ان اللعب لليفربول سيضيف لي الكثير من جهته قال يورجن كلوب المدير الفني لليفربول في الاسابيع القليله الماضيه ظهرت الفرصه امامنا للتعاقد مع احد افضل حراس المرمي في العالم ولم استغرق وقتا كبيرا في التفكير تحدثت مع ملاك النادي وكانوا مهتمين ايضا بالتعاقد معه لذا قمنا بذلك بالفعل واكد كلوب كان يجب علينا التعاقد معه وهو امر لا علاقه له بقيمه الصفقه الماديه هذا هو سوق الانتقالات وهذه هي طبيعته وهذا يظهر اهميه مركز حراسه المرمي وانا سعيده بانضمامه لنا الان واضاف مدرب الريدز لغته الانجليزيه جيده بشكل مفاجئ ولديه شخصيه مميزه كما اكتسب الكثير من الخبرات خلال الاعوام الماضيه مع روما واخيرا في كاس العالم ظهر كذلك بمستوي رائع واختتم كلوب حديثه عن اليسون قائلا هو يحتاج للتاقلم مع اجواء الدوري الانجليزي الممتاز بالطبع كل شيء مختلف بالنسبه لما اعتاد عليه ولكنه سوف يتاقلم معنا وبالتاكيد سوف يتطور مستواه لا شك في ذلك المهم هو انه لاعب في صفوف ليفربول الان \n",
            "Vectorized instance: [   61   916   978     2   467    94    16     4    29    14 23686 10378\n",
            " 18324  1714  8056    10 16089     1  8931     1     2  3201   443 28092\n",
            "   970 18324     1  3479   584  1589 28282  5035 27228   782  2787  1933\n",
            "  6980     3   782  2137  1399     2  1679  3042   870   991     2   411\n",
            "   810   358     5   188 10115  3520  8369     7    35     4    82    19\n",
            "   137  1903     9  9731  2845     8  5752    73  2271   584   141     1\n",
            "    61   916    59     1     2  2385 10327   795 24912   916  4732   943\n",
            "  1040   178   108    59  1040  2026  7931    75 25102    73     1   845\n",
            "     2   786  1264  1589   845  1714   299  8056   469  1563   746   515\n",
            " 18896     1  6856     1   158    18    45  4070   417  1040    58     6\n",
            "  5734  7585 10463     1     1    36  1417  8000  8931     1     5  3926\n",
            "  3201   443 12297     1  2556  2827  3479 18851  2103  4130   168  1656\n",
            "     6  3807     1     1    10  3807     1     1    39    11   238     3\n",
            "   212   697 22832  1466  1126     2 14671     5  2755    10 22259   120\n",
            "  1952  1589  2787   362 29731     5   975 13418  6632  3440  2773  5978\n",
            "     1  4298    37   768    50   102     2   922  5067  3365     6  6725\n",
            "  9565   697     1   470 19664     2  1359   347   138   845 13101     3\n",
            "  8989   805 11397  1110   146  2827 14030     3  1417 19172 11397   678\n",
            "     1 20255     1     3   212   697 22832   838     1   922  5067     1\n",
            "   575  5760     6  2755 24912     1  1040   312     3  1752   120     1\n",
            "     1  1409  1800 24912     2  3600  1996   428  1960  2110  9578 14111\n",
            "    10    48   337 10115  3520     2    94   191 15176  5939   683     2\n",
            "  2331  4143    10 24774   697  6698     1    85 25653   469  1515  5406\n",
            "   799  1096   344     1    32   189  1205  3265   469    58   504    15\n",
            "   909    73   858  4152  4394    18    45   788  9646  1031    72 23331]\n"
          ]
        }
      ]
    },
    {
      "cell_type": "markdown",
      "source": [
        "- Let's initialize the datasets we are going to use for the training and testing:"
      ],
      "metadata": {
        "id": "I0JLlGnYpKdn"
      }
    },
    {
      "cell_type": "code",
      "source": [
        "AUTOTUNE = tf.data.experimental.AUTOTUNE\n",
        "\n",
        "train_size = len(raw_train.stances)\n",
        "\n",
        "train_labels = [stance_to_int[s] for s in raw_train.stances]\n",
        "train_dataset = tf.data.Dataset.from_tensor_slices((x_train, train_labels))\n",
        "train_dataset = train_dataset.shuffle(train_size)\n",
        "train_dataset = train_dataset.batch(batch_size)\n",
        "train_dataset = train_dataset.cache().prefetch(buffer_size=AUTOTUNE)\n",
        "\n",
        "val_labels = [stance_to_int[s] for s in raw_val.stances]\n",
        "val_dataset = tf.data.Dataset.from_tensor_slices((x_val, val_labels))\n",
        "val_dataset = val_dataset.batch(batch_size)\n",
        "val_dataset = val_dataset.cache().prefetch(buffer_size=AUTOTUNE)\n",
        "\n",
        "test_labels = [stance_to_int[s] for s in raw_test.stances]\n",
        "test_dataset = tf.data.Dataset.from_tensor_slices((x_test, test_labels))\n",
        "test_dataset = test_dataset.batch(batch_size).cache().prefetch(buffer_size=AUTOTUNE)"
      ],
      "metadata": {
        "id": "6b1vQn7CQsy4"
      },
      "execution_count": null,
      "outputs": []
    },
    {
      "cell_type": "markdown",
      "source": [
        "## Model"
      ],
      "metadata": {
        "id": "YaVXv2oMQtpB"
      }
    },
    {
      "cell_type": "markdown",
      "source": [
        "- Now the datasets are ready, we can work on the model:"
      ],
      "metadata": {
        "id": "1tYFaJXwpSO9"
      }
    },
    {
      "cell_type": "code",
      "source": [
        "def create_model(lr):\n",
        "  int_sequences_input = tf.keras.Input(shape=(None,), dtype=\"int64\")\n",
        "  embedded_sequences = embedding_layer(int_sequences_input)\n",
        "  conv1 = tf.keras.layers.Conv1D(100, 2, activation=\"relu\", use_bias=True)(embedded_sequences)\n",
        "  conv2 = tf.keras.layers.Conv1D(100, 3, activation=\"relu\", use_bias=True)(embedded_sequences)\n",
        "  conv3 = tf.keras.layers.Conv1D(100, 4, activation=\"relu\", use_bias=True)(embedded_sequences)\n",
        "\n",
        "  concatenated = tf.keras.layers.Concatenate(axis=1)([conv1, conv2, conv3])\n",
        "\n",
        "  lstm_output = tf.keras.layers.Bidirectional(tf.keras.layers.LSTM(32))(concatenated)\n",
        "\n",
        "  logits = tf.keras.layers.Dense(4)(lstm_output)\n",
        "\n",
        "  model = tf.keras.models.Model(inputs=int_sequences_input, outputs=logits)\n",
        "\n",
        "  loss = tf.keras.losses.SparseCategoricalCrossentropy(from_logits=True)\n",
        "  metrics = tf.keras.metrics.SparseCategoricalAccuracy('accuracy', dtype=tf.float32)\n",
        "  optimizer = tf.keras.optimizers.Adam(learning_rate=lr)\n",
        "\n",
        "  model.compile(optimizer=optimizer, loss=loss, metrics=[metrics])\n",
        "\n",
        "  return model"
      ],
      "metadata": {
        "id": "G0Aa909tnb_y"
      },
      "execution_count": null,
      "outputs": []
    },
    {
      "cell_type": "code",
      "source": [
        "plotting_model = create_model(lr=0.)\n",
        "tf.keras.utils.plot_model(plotting_model, show_shapes=True, dpi=60)"
      ],
      "metadata": {
        "colab": {
          "base_uri": "https://localhost:8080/",
          "height": 594
        },
        "id": "fB_mHTiPQwei",
        "outputId": "07cb5fac-e674-4880-9266-8199bd38d8de"
      },
      "execution_count": null,
      "outputs": [
        {
          "output_type": "execute_result",
          "data": {
            "image/png": "[encoded data removed]",
            "text/plain": [
              "<IPython.core.display.Image object>"
            ]
          },
          "metadata": {},
          "execution_count": 21
        }
      ]
    },
    {
      "cell_type": "code",
      "source": [
        "plotting_model.summary()"
      ],
      "metadata": {
        "colab": {
          "base_uri": "https://localhost:8080/",
          "height": 459
        },
        "id": "tf_6NShDphMS",
        "outputId": "b049a41c-0aa2-425e-9de6-be057b8a205b"
      },
      "execution_count": null,
      "outputs": [
        {
          "output_type": "display_data",
          "data": {
            "text/plain": [
              "\u001b[1mModel: \"functional\"\u001b[0m\n"
            ],
            "text/html": [
              "<pre style=\"white-space:pre;overflow-x:auto;line-height:normal;font-family:Menlo,'DejaVu Sans Mono',consolas,'Courier New',monospace\"><span style=\"font-weight: bold\">Model: \"functional\"</span>\n",
              "</pre>\n"
            ]
          },
          "metadata": {}
        },
        {
          "output_type": "display_data",
          "data": {
            "text/plain": [
              "┏━━━━━━━━━━━━━━━━━━━━━━━━━━━┳━━━━━━━━━━━━━━━━━━━━━━━━┳━━━━━━━━━━━━━━━━┳━━━━━━━━━━━━━━━━━━━━━━━━┓\n",
              "┃\u001b[1m \u001b[0m\u001b[1mLayer (type)             \u001b[0m\u001b[1m \u001b[0m┃\u001b[1m \u001b[0m\u001b[1mOutput Shape          \u001b[0m\u001b[1m \u001b[0m┃\u001b[1m \u001b[0m\u001b[1m       Param #\u001b[0m\u001b[1m \u001b[0m┃\u001b[1m \u001b[0m\u001b[1mConnected to          \u001b[0m\u001b[1m \u001b[0m┃\n",
              "┡━━━━━━━━━━━━━━━━━━━━━━━━━━━╇━━━━━━━━━━━━━━━━━━━━━━━━╇━━━━━━━━━━━━━━━━╇━━━━━━━━━━━━━━━━━━━━━━━━┩\n",
              "│ input_layer (\u001b[38;5;33mInputLayer\u001b[0m)  │ (\u001b[38;5;45mNone\u001b[0m, \u001b[38;5;45mNone\u001b[0m)           │              \u001b[38;5;34m0\u001b[0m │ -                      │\n",
              "├───────────────────────────┼────────────────────────┼────────────────┼────────────────────────┤\n",
              "│ embedding (\u001b[38;5;33mEmbedding\u001b[0m)     │ (\u001b[38;5;45mNone\u001b[0m, \u001b[38;5;45mNone\u001b[0m, \u001b[38;5;34m300\u001b[0m)      │      \u001b[38;5;34m9,000,600\u001b[0m │ input_layer[\u001b[38;5;34m0\u001b[0m][\u001b[38;5;34m0\u001b[0m]      │\n",
              "├───────────────────────────┼────────────────────────┼────────────────┼────────────────────────┤\n",
              "│ conv1d (\u001b[38;5;33mConv1D\u001b[0m)           │ (\u001b[38;5;45mNone\u001b[0m, \u001b[38;5;45mNone\u001b[0m, \u001b[38;5;34m100\u001b[0m)      │         \u001b[38;5;34m60,100\u001b[0m │ embedding[\u001b[38;5;34m0\u001b[0m][\u001b[38;5;34m0\u001b[0m]        │\n",
              "├───────────────────────────┼────────────────────────┼────────────────┼────────────────────────┤\n",
              "│ conv1d_1 (\u001b[38;5;33mConv1D\u001b[0m)         │ (\u001b[38;5;45mNone\u001b[0m, \u001b[38;5;45mNone\u001b[0m, \u001b[38;5;34m100\u001b[0m)      │         \u001b[38;5;34m90,100\u001b[0m │ embedding[\u001b[38;5;34m0\u001b[0m][\u001b[38;5;34m0\u001b[0m]        │\n",
              "├───────────────────────────┼────────────────────────┼────────────────┼────────────────────────┤\n",
              "│ conv1d_2 (\u001b[38;5;33mConv1D\u001b[0m)         │ (\u001b[38;5;45mNone\u001b[0m, \u001b[38;5;45mNone\u001b[0m, \u001b[38;5;34m100\u001b[0m)      │        \u001b[38;5;34m120,100\u001b[0m │ embedding[\u001b[38;5;34m0\u001b[0m][\u001b[38;5;34m0\u001b[0m]        │\n",
              "├───────────────────────────┼────────────────────────┼────────────────┼────────────────────────┤\n",
              "│ concatenate (\u001b[38;5;33mConcatenate\u001b[0m) │ (\u001b[38;5;45mNone\u001b[0m, \u001b[38;5;45mNone\u001b[0m, \u001b[38;5;34m100\u001b[0m)      │              \u001b[38;5;34m0\u001b[0m │ conv1d[\u001b[38;5;34m0\u001b[0m][\u001b[38;5;34m0\u001b[0m],          │\n",
              "│                           │                        │                │ conv1d_1[\u001b[38;5;34m0\u001b[0m][\u001b[38;5;34m0\u001b[0m],        │\n",
              "│                           │                        │                │ conv1d_2[\u001b[38;5;34m0\u001b[0m][\u001b[38;5;34m0\u001b[0m]         │\n",
              "├───────────────────────────┼────────────────────────┼────────────────┼────────────────────────┤\n",
              "│ bidirectional             │ (\u001b[38;5;45mNone\u001b[0m, \u001b[38;5;34m64\u001b[0m)             │         \u001b[38;5;34m34,048\u001b[0m │ concatenate[\u001b[38;5;34m0\u001b[0m][\u001b[38;5;34m0\u001b[0m]      │\n",
              "│ (\u001b[38;5;33mBidirectional\u001b[0m)           │                        │                │                        │\n",
              "├───────────────────────────┼────────────────────────┼────────────────┼────────────────────────┤\n",
              "│ dense (\u001b[38;5;33mDense\u001b[0m)             │ (\u001b[38;5;45mNone\u001b[0m, \u001b[38;5;34m4\u001b[0m)              │            \u001b[38;5;34m260\u001b[0m │ bidirectional[\u001b[38;5;34m0\u001b[0m][\u001b[38;5;34m0\u001b[0m]    │\n",
              "└───────────────────────────┴────────────────────────┴────────────────┴────────────────────────┘\n"
            ],
            "text/html": [
              "<pre style=\"white-space:pre;overflow-x:auto;line-height:normal;font-family:Menlo,'DejaVu Sans Mono',consolas,'Courier New',monospace\">┏━━━━━━━━━━━━━━━━━━━━━━━━━━━┳━━━━━━━━━━━━━━━━━━━━━━━━┳━━━━━━━━━━━━━━━━┳━━━━━━━━━━━━━━━━━━━━━━━━┓\n",
              "┃<span style=\"font-weight: bold\"> Layer (type)              </span>┃<span style=\"font-weight: bold\"> Output Shape           </span>┃<span style=\"font-weight: bold\">        Param # </span>┃<span style=\"font-weight: bold\"> Connected to           </span>┃\n",
              "┡━━━━━━━━━━━━━━━━━━━━━━━━━━━╇━━━━━━━━━━━━━━━━━━━━━━━━╇━━━━━━━━━━━━━━━━╇━━━━━━━━━━━━━━━━━━━━━━━━┩\n",
              "│ input_layer (<span style=\"color: #0087ff; text-decoration-color: #0087ff\">InputLayer</span>)  │ (<span style=\"color: #00d7ff; text-decoration-color: #00d7ff\">None</span>, <span style=\"color: #00d7ff; text-decoration-color: #00d7ff\">None</span>)           │              <span style=\"color: #00af00; text-decoration-color: #00af00\">0</span> │ -                      │\n",
              "├───────────────────────────┼────────────────────────┼────────────────┼────────────────────────┤\n",
              "│ embedding (<span style=\"color: #0087ff; text-decoration-color: #0087ff\">Embedding</span>)     │ (<span style=\"color: #00d7ff; text-decoration-color: #00d7ff\">None</span>, <span style=\"color: #00d7ff; text-decoration-color: #00d7ff\">None</span>, <span style=\"color: #00af00; text-decoration-color: #00af00\">300</span>)      │      <span style=\"color: #00af00; text-decoration-color: #00af00\">9,000,600</span> │ input_layer[<span style=\"color: #00af00; text-decoration-color: #00af00\">0</span>][<span style=\"color: #00af00; text-decoration-color: #00af00\">0</span>]      │\n",
              "├───────────────────────────┼────────────────────────┼────────────────┼────────────────────────┤\n",
              "│ conv1d (<span style=\"color: #0087ff; text-decoration-color: #0087ff\">Conv1D</span>)           │ (<span style=\"color: #00d7ff; text-decoration-color: #00d7ff\">None</span>, <span style=\"color: #00d7ff; text-decoration-color: #00d7ff\">None</span>, <span style=\"color: #00af00; text-decoration-color: #00af00\">100</span>)      │         <span style=\"color: #00af00; text-decoration-color: #00af00\">60,100</span> │ embedding[<span style=\"color: #00af00; text-decoration-color: #00af00\">0</span>][<span style=\"color: #00af00; text-decoration-color: #00af00\">0</span>]        │\n",
              "├───────────────────────────┼────────────────────────┼────────────────┼────────────────────────┤\n",
              "│ conv1d_1 (<span style=\"color: #0087ff; text-decoration-color: #0087ff\">Conv1D</span>)         │ (<span style=\"color: #00d7ff; text-decoration-color: #00d7ff\">None</span>, <span style=\"color: #00d7ff; text-decoration-color: #00d7ff\">None</span>, <span style=\"color: #00af00; text-decoration-color: #00af00\">100</span>)      │         <span style=\"color: #00af00; text-decoration-color: #00af00\">90,100</span> │ embedding[<span style=\"color: #00af00; text-decoration-color: #00af00\">0</span>][<span style=\"color: #00af00; text-decoration-color: #00af00\">0</span>]        │\n",
              "├───────────────────────────┼────────────────────────┼────────────────┼────────────────────────┤\n",
              "│ conv1d_2 (<span style=\"color: #0087ff; text-decoration-color: #0087ff\">Conv1D</span>)         │ (<span style=\"color: #00d7ff; text-decoration-color: #00d7ff\">None</span>, <span style=\"color: #00d7ff; text-decoration-color: #00d7ff\">None</span>, <span style=\"color: #00af00; text-decoration-color: #00af00\">100</span>)      │        <span style=\"color: #00af00; text-decoration-color: #00af00\">120,100</span> │ embedding[<span style=\"color: #00af00; text-decoration-color: #00af00\">0</span>][<span style=\"color: #00af00; text-decoration-color: #00af00\">0</span>]        │\n",
              "├───────────────────────────┼────────────────────────┼────────────────┼────────────────────────┤\n",
              "│ concatenate (<span style=\"color: #0087ff; text-decoration-color: #0087ff\">Concatenate</span>) │ (<span style=\"color: #00d7ff; text-decoration-color: #00d7ff\">None</span>, <span style=\"color: #00d7ff; text-decoration-color: #00d7ff\">None</span>, <span style=\"color: #00af00; text-decoration-color: #00af00\">100</span>)      │              <span style=\"color: #00af00; text-decoration-color: #00af00\">0</span> │ conv1d[<span style=\"color: #00af00; text-decoration-color: #00af00\">0</span>][<span style=\"color: #00af00; text-decoration-color: #00af00\">0</span>],          │\n",
              "│                           │                        │                │ conv1d_1[<span style=\"color: #00af00; text-decoration-color: #00af00\">0</span>][<span style=\"color: #00af00; text-decoration-color: #00af00\">0</span>],        │\n",
              "│                           │                        │                │ conv1d_2[<span style=\"color: #00af00; text-decoration-color: #00af00\">0</span>][<span style=\"color: #00af00; text-decoration-color: #00af00\">0</span>]         │\n",
              "├───────────────────────────┼────────────────────────┼────────────────┼────────────────────────┤\n",
              "│ bidirectional             │ (<span style=\"color: #00d7ff; text-decoration-color: #00d7ff\">None</span>, <span style=\"color: #00af00; text-decoration-color: #00af00\">64</span>)             │         <span style=\"color: #00af00; text-decoration-color: #00af00\">34,048</span> │ concatenate[<span style=\"color: #00af00; text-decoration-color: #00af00\">0</span>][<span style=\"color: #00af00; text-decoration-color: #00af00\">0</span>]      │\n",
              "│ (<span style=\"color: #0087ff; text-decoration-color: #0087ff\">Bidirectional</span>)           │                        │                │                        │\n",
              "├───────────────────────────┼────────────────────────┼────────────────┼────────────────────────┤\n",
              "│ dense (<span style=\"color: #0087ff; text-decoration-color: #0087ff\">Dense</span>)             │ (<span style=\"color: #00d7ff; text-decoration-color: #00d7ff\">None</span>, <span style=\"color: #00af00; text-decoration-color: #00af00\">4</span>)              │            <span style=\"color: #00af00; text-decoration-color: #00af00\">260</span> │ bidirectional[<span style=\"color: #00af00; text-decoration-color: #00af00\">0</span>][<span style=\"color: #00af00; text-decoration-color: #00af00\">0</span>]    │\n",
              "└───────────────────────────┴────────────────────────┴────────────────┴────────────────────────┘\n",
              "</pre>\n"
            ]
          },
          "metadata": {}
        },
        {
          "output_type": "display_data",
          "data": {
            "text/plain": [
              "\u001b[1m Total params: \u001b[0m\u001b[38;5;34m9,305,208\u001b[0m (35.50 MB)\n"
            ],
            "text/html": [
              "<pre style=\"white-space:pre;overflow-x:auto;line-height:normal;font-family:Menlo,'DejaVu Sans Mono',consolas,'Courier New',monospace\"><span style=\"font-weight: bold\"> Total params: </span><span style=\"color: #00af00; text-decoration-color: #00af00\">9,305,208</span> (35.50 MB)\n",
              "</pre>\n"
            ]
          },
          "metadata": {}
        },
        {
          "output_type": "display_data",
          "data": {
            "text/plain": [
              "\u001b[1m Trainable params: \u001b[0m\u001b[38;5;34m304,608\u001b[0m (1.16 MB)\n"
            ],
            "text/html": [
              "<pre style=\"white-space:pre;overflow-x:auto;line-height:normal;font-family:Menlo,'DejaVu Sans Mono',consolas,'Courier New',monospace\"><span style=\"font-weight: bold\"> Trainable params: </span><span style=\"color: #00af00; text-decoration-color: #00af00\">304,608</span> (1.16 MB)\n",
              "</pre>\n"
            ]
          },
          "metadata": {}
        },
        {
          "output_type": "display_data",
          "data": {
            "text/plain": [
              "\u001b[1m Non-trainable params: \u001b[0m\u001b[38;5;34m9,000,600\u001b[0m (34.33 MB)\n"
            ],
            "text/html": [
              "<pre style=\"white-space:pre;overflow-x:auto;line-height:normal;font-family:Menlo,'DejaVu Sans Mono',consolas,'Courier New',monospace\"><span style=\"font-weight: bold\"> Non-trainable params: </span><span style=\"color: #00af00; text-decoration-color: #00af00\">9,000,600</span> (34.33 MB)\n",
              "</pre>\n"
            ]
          },
          "metadata": {}
        }
      ]
    },
    {
      "cell_type": "markdown",
      "source": [
        "## Training & Evaluation"
      ],
      "metadata": {
        "id": "hEd2acyhRAbk"
      }
    },
    {
      "cell_type": "code",
      "source": [
        "reps = 5\n",
        "lr = 6e-4\n",
        "epochs = 10\n",
        "\n",
        "histories = []\n",
        "val_accuracy, val_f1score, val_mf1score = [], [], []\n",
        "test_accuracy, test_f1score, test_mf1score = [], [], []\n",
        "for _ in range(reps):\n",
        "  model = create_model(lr)\n",
        "\n",
        "  history = model.fit(x=train_dataset, validation_data=val_dataset, epochs=epochs)\n",
        "  histories.append(history)\n",
        "\n",
        "  _, accuracy, f1score, mf1score = evaluate(model, val_dataset, val_labels)\n",
        "  val_accuracy.append(accuracy)\n",
        "  val_f1score.append(f1score)\n",
        "  val_mf1score.append(mf1score)\n",
        "\n",
        "  _, accuracy, f1score, mf1score = evaluate(model, test_dataset, test_labels)\n",
        "  test_accuracy.append(accuracy)\n",
        "  test_f1score.append(f1score)\n",
        "  test_mf1score.append(mf1score)"
      ],
      "metadata": {
        "id": "soMbSvlrQu0h",
        "colab": {
          "base_uri": "https://localhost:8080/"
        },
        "outputId": "6727ff57-cbff-4d4c-fac9-97f2633fc99a"
      },
      "execution_count": null,
      "outputs": [
        {
          "output_type": "stream",
          "name": "stdout",
          "text": [
            "Epoch 1/10\n",
            "\u001b[1m45/45\u001b[0m \u001b[32m━━━━━━━━━━━━━━━━━━━━\u001b[0m\u001b[37m\u001b[0m \u001b[1m10s\u001b[0m 128ms/step - accuracy: 0.5588 - loss: 1.1057 - val_accuracy: 0.5501 - val_loss: 1.0801\n",
            "Epoch 2/10\n",
            "\u001b[1m45/45\u001b[0m \u001b[32m━━━━━━━━━━━━━━━━━━━━\u001b[0m\u001b[37m\u001b[0m \u001b[1m5s\u001b[0m 66ms/step - accuracy: 0.7129 - loss: 0.7431 - val_accuracy: 0.6432 - val_loss: 0.9677\n",
            "Epoch 3/10\n",
            "\u001b[1m45/45\u001b[0m \u001b[32m━━━━━━━━━━━━━━━━━━━━\u001b[0m\u001b[37m\u001b[0m \u001b[1m3s\u001b[0m 68ms/step - accuracy: 0.8228 - loss: 0.5431 - val_accuracy: 0.6784 - val_loss: 0.8967\n",
            "Epoch 4/10\n",
            "\u001b[1m45/45\u001b[0m \u001b[32m━━━━━━━━━━━━━━━━━━━━\u001b[0m\u001b[37m\u001b[0m \u001b[1m5s\u001b[0m 68ms/step - accuracy: 0.8803 - loss: 0.4085 - val_accuracy: 0.7153 - val_loss: 0.8835\n",
            "Epoch 5/10\n",
            "\u001b[1m45/45\u001b[0m \u001b[32m━━━━━━━━━━━━━━━━━━━━\u001b[0m\u001b[37m\u001b[0m \u001b[1m3s\u001b[0m 71ms/step - accuracy: 0.9006 - loss: 0.3146 - val_accuracy: 0.7311 - val_loss: 0.8958\n",
            "Epoch 6/10\n",
            "\u001b[1m45/45\u001b[0m \u001b[32m━━━━━━━━━━━━━━━━━━━━\u001b[0m\u001b[37m\u001b[0m \u001b[1m3s\u001b[0m 77ms/step - accuracy: 0.9166 - loss: 0.2545 - val_accuracy: 0.7100 - val_loss: 0.9847\n",
            "Epoch 7/10\n",
            "\u001b[1m45/45\u001b[0m \u001b[32m━━━━━━━━━━━━━━━━━━━━\u001b[0m\u001b[37m\u001b[0m \u001b[1m4s\u001b[0m 79ms/step - accuracy: 0.9220 - loss: 0.2265 - val_accuracy: 0.7258 - val_loss: 1.0520\n",
            "Epoch 8/10\n",
            "\u001b[1m45/45\u001b[0m \u001b[32m━━━━━━━━━━━━━━━━━━━━\u001b[0m\u001b[37m\u001b[0m \u001b[1m3s\u001b[0m 67ms/step - accuracy: 0.9277 - loss: 0.2221 - val_accuracy: 0.7329 - val_loss: 0.9552\n",
            "Epoch 9/10\n",
            "\u001b[1m45/45\u001b[0m \u001b[32m━━━━━━━━━━━━━━━━━━━━\u001b[0m\u001b[37m\u001b[0m \u001b[1m3s\u001b[0m 60ms/step - accuracy: 0.9531 - loss: 0.1690 - val_accuracy: 0.7434 - val_loss: 0.9431\n",
            "Epoch 10/10\n",
            "\u001b[1m45/45\u001b[0m \u001b[32m━━━━━━━━━━━━━━━━━━━━\u001b[0m\u001b[37m\u001b[0m \u001b[1m3s\u001b[0m 60ms/step - accuracy: 0.9568 - loss: 0.1316 - val_accuracy: 0.7381 - val_loss: 0.9779\n",
            "\u001b[1m9/9\u001b[0m \u001b[32m━━━━━━━━━━━━━━━━━━━━\u001b[0m\u001b[37m\u001b[0m \u001b[1m0s\u001b[0m 43ms/step - accuracy: 0.7534 - loss: 0.9776\n",
            "\u001b[1m9/9\u001b[0m \u001b[32m━━━━━━━━━━━━━━━━━━━━\u001b[0m\u001b[37m\u001b[0m \u001b[1m1s\u001b[0m 79ms/step\n",
            "\u001b[1m11/11\u001b[0m \u001b[32m━━━━━━━━━━━━━━━━━━━━\u001b[0m\u001b[37m\u001b[0m \u001b[1m0s\u001b[0m 42ms/step - accuracy: 0.8201 - loss: 0.5744\n",
            "\u001b[1m11/11\u001b[0m \u001b[32m━━━━━━━━━━━━━━━━━━━━\u001b[0m\u001b[37m\u001b[0m \u001b[1m0s\u001b[0m 24ms/step\n",
            "Epoch 1/10\n",
            "\u001b[1m45/45\u001b[0m \u001b[32m━━━━━━━━━━━━━━━━━━━━\u001b[0m\u001b[37m\u001b[0m \u001b[1m5s\u001b[0m 69ms/step - accuracy: 0.5168 - loss: 1.1301 - val_accuracy: 0.5536 - val_loss: 1.0831\n",
            "Epoch 2/10\n",
            "\u001b[1m45/45\u001b[0m \u001b[32m━━━━━━━━━━━━━━━━━━━━\u001b[0m\u001b[37m\u001b[0m \u001b[1m5s\u001b[0m 65ms/step - accuracy: 0.7205 - loss: 0.7539 - val_accuracy: 0.6081 - val_loss: 0.9790\n",
            "Epoch 3/10\n",
            "\u001b[1m45/45\u001b[0m \u001b[32m━━━━━━━━━━━━━━━━━━━━\u001b[0m\u001b[37m\u001b[0m \u001b[1m3s\u001b[0m 75ms/step - accuracy: 0.8084 - loss: 0.5547 - val_accuracy: 0.6573 - val_loss: 0.9182\n",
            "Epoch 4/10\n",
            "\u001b[1m45/45\u001b[0m \u001b[32m━━━━━━━━━━━━━━━━━━━━\u001b[0m\u001b[37m\u001b[0m \u001b[1m4s\u001b[0m 59ms/step - accuracy: 0.8639 - loss: 0.4077 - val_accuracy: 0.6801 - val_loss: 0.8906\n",
            "Epoch 5/10\n",
            "\u001b[1m45/45\u001b[0m \u001b[32m━━━━━━━━━━━━━━━━━━━━\u001b[0m\u001b[37m\u001b[0m \u001b[1m3s\u001b[0m 64ms/step - accuracy: 0.9017 - loss: 0.3088 - val_accuracy: 0.6889 - val_loss: 0.9389\n",
            "Epoch 6/10\n",
            "\u001b[1m45/45\u001b[0m \u001b[32m━━━━━━━━━━━━━━━━━━━━\u001b[0m\u001b[37m\u001b[0m \u001b[1m3s\u001b[0m 66ms/step - accuracy: 0.9259 - loss: 0.2492 - val_accuracy: 0.7047 - val_loss: 0.9818\n",
            "Epoch 7/10\n",
            "\u001b[1m45/45\u001b[0m \u001b[32m━━━━━━━━━━━━━━━━━━━━\u001b[0m\u001b[37m\u001b[0m \u001b[1m4s\u001b[0m 82ms/step - accuracy: 0.9402 - loss: 0.2083 - val_accuracy: 0.6977 - val_loss: 1.0675\n",
            "Epoch 8/10\n",
            "\u001b[1m45/45\u001b[0m \u001b[32m━━━━━━━━━━━━━━━━━━━━\u001b[0m\u001b[37m\u001b[0m \u001b[1m4s\u001b[0m 61ms/step - accuracy: 0.9449 - loss: 0.1816 - val_accuracy: 0.6977 - val_loss: 1.0922\n",
            "Epoch 9/10\n",
            "\u001b[1m45/45\u001b[0m \u001b[32m━━━━━━━━━━━━━━━━━━━━\u001b[0m\u001b[37m\u001b[0m \u001b[1m5s\u001b[0m 69ms/step - accuracy: 0.9435 - loss: 0.1858 - val_accuracy: 0.7206 - val_loss: 1.0451\n",
            "Epoch 10/10\n",
            "\u001b[1m45/45\u001b[0m \u001b[32m━━━━━━━━━━━━━━━━━━━━\u001b[0m\u001b[37m\u001b[0m \u001b[1m5s\u001b[0m 63ms/step - accuracy: 0.9468 - loss: 0.1559 - val_accuracy: 0.7223 - val_loss: 1.0894\n",
            "\u001b[1m9/9\u001b[0m \u001b[32m━━━━━━━━━━━━━━━━━━━━\u001b[0m\u001b[37m\u001b[0m \u001b[1m0s\u001b[0m 26ms/step - accuracy: 0.7267 - loss: 1.1187\n",
            "\u001b[1m9/9\u001b[0m \u001b[32m━━━━━━━━━━━━━━━━━━━━\u001b[0m\u001b[37m\u001b[0m \u001b[1m1s\u001b[0m 47ms/step\n",
            "\u001b[1m11/11\u001b[0m \u001b[32m━━━━━━━━━━━━━━━━━━━━\u001b[0m\u001b[37m\u001b[0m \u001b[1m0s\u001b[0m 25ms/step - accuracy: 0.8121 - loss: 0.6768\n",
            "\u001b[1m11/11\u001b[0m \u001b[32m━━━━━━━━━━━━━━━━━━━━\u001b[0m\u001b[37m\u001b[0m \u001b[1m0s\u001b[0m 23ms/step\n",
            "Epoch 1/10\n",
            "\u001b[1m45/45\u001b[0m \u001b[32m━━━━━━━━━━━━━━━━━━━━\u001b[0m\u001b[37m\u001b[0m \u001b[1m6s\u001b[0m 78ms/step - accuracy: 0.5168 - loss: 1.1283 - val_accuracy: 0.5694 - val_loss: 1.0769\n",
            "Epoch 2/10\n",
            "\u001b[1m45/45\u001b[0m \u001b[32m━━━━━━━━━━━━━━━━━━━━\u001b[0m\u001b[37m\u001b[0m \u001b[1m4s\u001b[0m 61ms/step - accuracy: 0.7222 - loss: 0.7408 - val_accuracy: 0.6257 - val_loss: 0.9827\n",
            "Epoch 3/10\n",
            "\u001b[1m45/45\u001b[0m \u001b[32m━━━━━━━━━━━━━━━━━━━━\u001b[0m\u001b[37m\u001b[0m \u001b[1m3s\u001b[0m 61ms/step - accuracy: 0.8136 - loss: 0.5424 - val_accuracy: 0.6643 - val_loss: 0.9558\n",
            "Epoch 4/10\n",
            "\u001b[1m45/45\u001b[0m \u001b[32m━━━━━━━━━━━━━━━━━━━━\u001b[0m\u001b[37m\u001b[0m \u001b[1m3s\u001b[0m 61ms/step - accuracy: 0.8642 - loss: 0.4159 - val_accuracy: 0.6907 - val_loss: 0.9316\n",
            "Epoch 5/10\n",
            "\u001b[1m45/45\u001b[0m \u001b[32m━━━━━━━━━━━━━━━━━━━━\u001b[0m\u001b[37m\u001b[0m \u001b[1m5s\u001b[0m 67ms/step - accuracy: 0.8909 - loss: 0.3371 - val_accuracy: 0.6995 - val_loss: 0.9397\n",
            "Epoch 6/10\n",
            "\u001b[1m45/45\u001b[0m \u001b[32m━━━━━━━━━━━━━━━━━━━━\u001b[0m\u001b[37m\u001b[0m \u001b[1m5s\u001b[0m 62ms/step - accuracy: 0.9091 - loss: 0.2823 - val_accuracy: 0.7206 - val_loss: 0.9409\n",
            "Epoch 7/10\n",
            "\u001b[1m45/45\u001b[0m \u001b[32m━━━━━━━━━━━━━━━━━━━━\u001b[0m\u001b[37m\u001b[0m \u001b[1m3s\u001b[0m 61ms/step - accuracy: 0.9217 - loss: 0.2443 - val_accuracy: 0.7047 - val_loss: 1.0386\n",
            "Epoch 8/10\n",
            "\u001b[1m45/45\u001b[0m \u001b[32m━━━━━━━━━━━━━━━━━━━━\u001b[0m\u001b[37m\u001b[0m \u001b[1m4s\u001b[0m 79ms/step - accuracy: 0.9146 - loss: 0.2284 - val_accuracy: 0.7293 - val_loss: 0.9978\n",
            "Epoch 9/10\n",
            "\u001b[1m45/45\u001b[0m \u001b[32m━━━━━━━━━━━━━━━━━━━━\u001b[0m\u001b[37m\u001b[0m \u001b[1m4s\u001b[0m 62ms/step - accuracy: 0.9451 - loss: 0.1752 - val_accuracy: 0.7047 - val_loss: 0.9795\n",
            "Epoch 10/10\n",
            "\u001b[1m45/45\u001b[0m \u001b[32m━━━━━━━━━━━━━━━━━━━━\u001b[0m\u001b[37m\u001b[0m \u001b[1m3s\u001b[0m 61ms/step - accuracy: 0.9544 - loss: 0.1515 - val_accuracy: 0.7329 - val_loss: 1.0310\n",
            "\u001b[1m9/9\u001b[0m \u001b[32m━━━━━━━━━━━━━━━━━━━━\u001b[0m\u001b[37m\u001b[0m \u001b[1m0s\u001b[0m 37ms/step - accuracy: 0.7388 - loss: 1.0702\n",
            "\u001b[1m9/9\u001b[0m \u001b[32m━━━━━━━━━━━━━━━━━━━━\u001b[0m\u001b[37m\u001b[0m \u001b[1m1s\u001b[0m 67ms/step\n",
            "\u001b[1m11/11\u001b[0m \u001b[32m━━━━━━━━━━━━━━━━━━━━\u001b[0m\u001b[37m\u001b[0m \u001b[1m0s\u001b[0m 32ms/step - accuracy: 0.8545 - loss: 0.5317\n",
            "\u001b[1m11/11\u001b[0m \u001b[32m━━━━━━━━━━━━━━━━━━━━\u001b[0m\u001b[37m\u001b[0m \u001b[1m0s\u001b[0m 33ms/step\n",
            "Epoch 1/10\n",
            "\u001b[1m45/45\u001b[0m \u001b[32m━━━━━━━━━━━━━━━━━━━━\u001b[0m\u001b[37m\u001b[0m \u001b[1m6s\u001b[0m 70ms/step - accuracy: 0.5859 - loss: 1.0778 - val_accuracy: 0.5764 - val_loss: 1.0770\n",
            "Epoch 2/10\n",
            "\u001b[1m45/45\u001b[0m \u001b[32m━━━━━━━━━━━━━━━━━━━━\u001b[0m\u001b[37m\u001b[0m \u001b[1m5s\u001b[0m 68ms/step - accuracy: 0.7315 - loss: 0.7004 - val_accuracy: 0.6432 - val_loss: 0.9725\n",
            "Epoch 3/10\n",
            "\u001b[1m45/45\u001b[0m \u001b[32m━━━━━━━━━━━━━━━━━━━━\u001b[0m\u001b[37m\u001b[0m \u001b[1m5s\u001b[0m 62ms/step - accuracy: 0.8232 - loss: 0.5096 - val_accuracy: 0.6889 - val_loss: 0.9287\n",
            "Epoch 4/10\n",
            "\u001b[1m45/45\u001b[0m \u001b[32m━━━━━━━━━━━━━━━━━━━━\u001b[0m\u001b[37m\u001b[0m \u001b[1m5s\u001b[0m 63ms/step - accuracy: 0.8842 - loss: 0.3843 - val_accuracy: 0.6942 - val_loss: 0.9261\n",
            "Epoch 5/10\n",
            "\u001b[1m45/45\u001b[0m \u001b[32m━━━━━━━━━━━━━━━━━━━━\u001b[0m\u001b[37m\u001b[0m \u001b[1m6s\u001b[0m 75ms/step - accuracy: 0.9064 - loss: 0.2998 - val_accuracy: 0.7241 - val_loss: 0.9514\n",
            "Epoch 6/10\n",
            "\u001b[1m45/45\u001b[0m \u001b[32m━━━━━━━━━━━━━━━━━━━━\u001b[0m\u001b[37m\u001b[0m \u001b[1m3s\u001b[0m 61ms/step - accuracy: 0.9192 - loss: 0.2496 - val_accuracy: 0.7276 - val_loss: 1.0346\n",
            "Epoch 7/10\n",
            "\u001b[1m45/45\u001b[0m \u001b[32m━━━━━━━━━━━━━━━━━━━━\u001b[0m\u001b[37m\u001b[0m \u001b[1m3s\u001b[0m 61ms/step - accuracy: 0.9244 - loss: 0.2333 - val_accuracy: 0.7258 - val_loss: 0.9541\n",
            "Epoch 8/10\n",
            "\u001b[1m45/45\u001b[0m \u001b[32m━━━━━━━━━━━━━━━━━━━━\u001b[0m\u001b[37m\u001b[0m \u001b[1m6s\u001b[0m 74ms/step - accuracy: 0.9352 - loss: 0.1797 - val_accuracy: 0.7417 - val_loss: 1.0597\n",
            "Epoch 9/10\n",
            "\u001b[1m45/45\u001b[0m \u001b[32m━━━━━━━━━━━━━━━━━━━━\u001b[0m\u001b[37m\u001b[0m \u001b[1m3s\u001b[0m 69ms/step - accuracy: 0.9496 - loss: 0.1457 - val_accuracy: 0.7118 - val_loss: 1.0482\n",
            "Epoch 10/10\n",
            "\u001b[1m45/45\u001b[0m \u001b[32m━━━━━━━━━━━━━━━━━━━━\u001b[0m\u001b[37m\u001b[0m \u001b[1m5s\u001b[0m 63ms/step - accuracy: 0.9605 - loss: 0.1273 - val_accuracy: 0.7364 - val_loss: 1.0536\n",
            "\u001b[1m9/9\u001b[0m \u001b[32m━━━━━━━━━━━━━━━━━━━━\u001b[0m\u001b[37m\u001b[0m \u001b[1m0s\u001b[0m 40ms/step - accuracy: 0.7261 - loss: 1.2092\n",
            "\u001b[1m9/9\u001b[0m \u001b[32m━━━━━━━━━━━━━━━━━━━━\u001b[0m\u001b[37m\u001b[0m \u001b[1m1s\u001b[0m 48ms/step\n",
            "\u001b[1m11/11\u001b[0m \u001b[32m━━━━━━━━━━━━━━━━━━━━\u001b[0m\u001b[37m\u001b[0m \u001b[1m0s\u001b[0m 29ms/step - accuracy: 0.8230 - loss: 0.6573\n",
            "\u001b[1m11/11\u001b[0m \u001b[32m━━━━━━━━━━━━━━━━━━━━\u001b[0m\u001b[37m\u001b[0m \u001b[1m0s\u001b[0m 32ms/step\n",
            "Epoch 1/10\n",
            "\u001b[1m45/45\u001b[0m \u001b[32m━━━━━━━━━━━━━━━━━━━━\u001b[0m\u001b[37m\u001b[0m \u001b[1m6s\u001b[0m 69ms/step - accuracy: 0.5306 - loss: 1.1237 - val_accuracy: 0.5571 - val_loss: 1.0804\n",
            "Epoch 2/10\n",
            "\u001b[1m45/45\u001b[0m \u001b[32m━━━━━━━━━━━━━━━━━━━━\u001b[0m\u001b[37m\u001b[0m \u001b[1m5s\u001b[0m 63ms/step - accuracy: 0.7288 - loss: 0.7314 - val_accuracy: 0.6432 - val_loss: 0.9784\n",
            "Epoch 3/10\n",
            "\u001b[1m45/45\u001b[0m \u001b[32m━━━━━━━━━━━━━━━━━━━━\u001b[0m\u001b[37m\u001b[0m \u001b[1m6s\u001b[0m 73ms/step - accuracy: 0.8265 - loss: 0.5271 - val_accuracy: 0.6784 - val_loss: 0.9455\n",
            "Epoch 4/10\n",
            "\u001b[1m45/45\u001b[0m \u001b[32m━━━━━━━━━━━━━━━━━━━━\u001b[0m\u001b[37m\u001b[0m \u001b[1m5s\u001b[0m 62ms/step - accuracy: 0.8791 - loss: 0.3959 - val_accuracy: 0.7012 - val_loss: 0.9657\n",
            "Epoch 5/10\n",
            "\u001b[1m45/45\u001b[0m \u001b[32m━━━━━━━━━━━━━━━━━━━━\u001b[0m\u001b[37m\u001b[0m \u001b[1m3s\u001b[0m 61ms/step - accuracy: 0.8976 - loss: 0.3135 - val_accuracy: 0.7083 - val_loss: 0.9867\n",
            "Epoch 6/10\n",
            "\u001b[1m45/45\u001b[0m \u001b[32m━━━━━━━━━━━━━━━━━━━━\u001b[0m\u001b[37m\u001b[0m \u001b[1m3s\u001b[0m 72ms/step - accuracy: 0.9212 - loss: 0.2500 - val_accuracy: 0.7188 - val_loss: 1.0175\n",
            "Epoch 7/10\n",
            "\u001b[1m45/45\u001b[0m \u001b[32m━━━━━━━━━━━━━━━━━━━━\u001b[0m\u001b[37m\u001b[0m \u001b[1m3s\u001b[0m 68ms/step - accuracy: 0.9270 - loss: 0.2205 - val_accuracy: 0.6995 - val_loss: 1.0535\n",
            "Epoch 8/10\n",
            "\u001b[1m45/45\u001b[0m \u001b[32m━━━━━━━━━━━━━━━━━━━━\u001b[0m\u001b[37m\u001b[0m \u001b[1m5s\u001b[0m 69ms/step - accuracy: 0.9516 - loss: 0.1777 - val_accuracy: 0.7223 - val_loss: 1.0739\n",
            "Epoch 9/10\n",
            "\u001b[1m45/45\u001b[0m \u001b[32m━━━━━━━━━━━━━━━━━━━━\u001b[0m\u001b[37m\u001b[0m \u001b[1m3s\u001b[0m 62ms/step - accuracy: 0.9486 - loss: 0.1608 - val_accuracy: 0.7487 - val_loss: 1.0606\n",
            "Epoch 10/10\n",
            "\u001b[1m45/45\u001b[0m \u001b[32m━━━━━━━━━━━━━━━━━━━━\u001b[0m\u001b[37m\u001b[0m \u001b[1m4s\u001b[0m 81ms/step - accuracy: 0.9645 - loss: 0.1312 - val_accuracy: 0.7434 - val_loss: 1.1804\n",
            "\u001b[1m9/9\u001b[0m \u001b[32m━━━━━━━━━━━━━━━━━━━━\u001b[0m\u001b[37m\u001b[0m \u001b[1m0s\u001b[0m 23ms/step - accuracy: 0.7426 - loss: 1.2216\n",
            "\u001b[1m9/9\u001b[0m \u001b[32m━━━━━━━━━━━━━━━━━━━━\u001b[0m\u001b[37m\u001b[0m \u001b[1m1s\u001b[0m 47ms/step\n",
            "\u001b[1m11/11\u001b[0m \u001b[32m━━━━━━━━━━━━━━━━━━━━\u001b[0m\u001b[37m\u001b[0m \u001b[1m0s\u001b[0m 23ms/step - accuracy: 0.8282 - loss: 0.6689\n",
            "\u001b[1m11/11\u001b[0m \u001b[32m━━━━━━━━━━━━━━━━━━━━\u001b[0m\u001b[37m\u001b[0m \u001b[1m0s\u001b[0m 22ms/step\n"
          ]
        }
      ]
    },
    {
      "cell_type": "markdown",
      "source": [
        "**Overfitting Analysis**  \n",
        "The gap between training and validation performance indicates that the model is overfitting the training data. Several factors contribute to this issue:\n",
        "1. **Insufficient Data**: The relatively small training dataset of 2848 instances is insufficient for the model to learn the intricate nuances of the task, particularly given its inherent complexity.\n",
        "2. **Task Complexity:** The 'disagree' and 'discuss' classes pose significant challenges due to their subtle distinctions. While 'unrelated' and 'agree' classes can often be identified through simple textual similarity, 'disagree' and 'discuss' require deeper semantic understanding and the ability to detect complex linguistic cues:\n",
        "   - **Discuss class:** Discussing involves giving more details and different viewpoints.\n",
        "   - **Disagree class:** Disagreement could involve simple negation terms or more complex negations like changing dates, quantities, or introducing opposing concepts (e.g. Sky is Blue vs. Sky is Black).\n",
        "\n",
        "3. **Annotation Errors:** Manual inspection has revealed a non-negligible number of misannotations, further complicating the learning process.\n",
        "4. **Language Challenges:** Arabic, the language of the dataset, presents additional complexities due to its rich morphology and diverse dialects.\n",
        "5. **Class Imbalance:** The 'unrelated' class significantly outnumbers the other classes. Additionally, the 'disagree' and 'discuss' classes are underrepresented compared to the 'agree' and 'unrelated' classes. The relative lower representations of the 'discuss' and 'disagree' classes across the three sets exacerbates the classification challenge.\n",
        "\n",
        "![image not found](tab_arastance.png)\n",
        "\n",
        "**Mitigating Overfitting**  \n",
        "While regularization techniques and early stopping may have limited effectiveness, addressing the underlying data limitations is crucial:\n",
        "1. **Data Augmentation:** Explore techniques like back-translation, synonym replacement, and text generation to artificially expand the dataset.\n",
        "2. **Transfer Learning:** Leverage pre-trained language models to incorporate prior knowledge and improve generalization.\n",
        "3. **Ensemble Methods:** Combine multiple models to reduce variance and improve overall performance.\n",
        "\n"
      ],
      "metadata": {
        "id": "rR2XUwnVoD5n"
      }
    },
    {
      "cell_type": "markdown",
      "source": [
        "### Results"
      ],
      "metadata": {
        "id": "QC_OfrPdREo1"
      }
    },
    {
      "cell_type": "code",
      "source": [
        "print(\"Validation Resutls:\")\n",
        "print(\"=====================\")\n",
        "print(f\"Mean Accuracy: {np.mean(val_accuracy):.3f}\")\n",
        "agree, disagree, discuss, unrelated = np.mean(val_f1score, axis=0)\n",
        "print(\"Mean Per Class F1 scores:\")\n",
        "print(f\"Agree   : {agree:.3f}\")\n",
        "print(f\"Disagree: {disagree:.3f}\")\n",
        "print(f\"Discuss : {discuss:.3f}\")\n",
        "print(f\"Unrelated: {unrelated:.3f}\")\n",
        "print(f\"Mean Macro F1 scores: {np.mean(val_mf1score):.3f}\")"
      ],
      "metadata": {
        "colab": {
          "base_uri": "https://localhost:8080/"
        },
        "id": "2JUotlvDRFSp",
        "outputId": "00d9e507-7378-4ca3-bfdb-6ea7bed5cac2"
      },
      "execution_count": null,
      "outputs": [
        {
          "output_type": "stream",
          "name": "stdout",
          "text": [
            "Validation Resutls:\n",
            "=====================\n",
            "Mean Accuracy: 0.735\n",
            "Mean Per Class F1 scores:\n",
            "Agree   : 0.691\n",
            "Disagree: 0.635\n",
            "Discuss : 0.445\n",
            "Unrelated: 0.820\n",
            "Mean Macro F1 scores: 0.648\n"
          ]
        }
      ]
    },
    {
      "cell_type": "code",
      "source": [
        "print(\"Testing Resutls:\")\n",
        "print(\"=====================\")\n",
        "print(f\"Mean Accuracy: {np.mean(test_accuracy):.3f}\")\n",
        "agree, disagree, discuss, unrelated = np.mean(test_f1score, axis=0)\n",
        "print(\"Mean Per Class F1 scores:\")\n",
        "print(f\"Agree   : {agree:.3f}\")\n",
        "print(f\"Disagree: {disagree:.3f}\")\n",
        "print(f\"Discuss : {discuss:.3f}\")\n",
        "print(f\"Unrelated: {unrelated:.3f}\")\n",
        "print(f\"Mean Macro F1 scores: {np.mean(test_mf1score):.3f}\")"
      ],
      "metadata": {
        "colab": {
          "base_uri": "https://localhost:8080/"
        },
        "id": "G7On0LroRMzO",
        "outputId": "555d4c48-3179-498f-ec16-b895e506f3ec"
      },
      "execution_count": null,
      "outputs": [
        {
          "output_type": "stream",
          "name": "stdout",
          "text": [
            "Testing Resutls:\n",
            "=====================\n",
            "Mean Accuracy: 0.787\n",
            "Mean Per Class F1 scores:\n",
            "Agree   : 0.773\n",
            "Disagree: 0.661\n",
            "Discuss : 0.319\n",
            "Unrelated: 0.877\n",
            "Mean Macro F1 scores: 0.658\n"
          ]
        }
      ]
    }
  ]
}
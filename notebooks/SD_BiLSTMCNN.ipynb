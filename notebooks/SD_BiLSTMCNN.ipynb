{
  "nbformat": 4,
  "nbformat_minor": 0,
  "metadata": {
    "colab": {
      "provenance": [],
      "gpuType": "T4",
      "toc_visible": true
    },
    "kernelspec": {
      "name": "python3",
      "display_name": "Python 3"
    },
    "language_info": {
      "name": "python"
    },
    "accelerator": "GPU"
  },
  "cells": [
    {
      "cell_type": "markdown",
      "source": [
        "# Stance Detection Using Bidirectional Long Short-Term Memory Followed By Convolutional Neural Network\n",
        "\n",
        "`Convolutional Neural Networks` `Bidirectional Long Short-Term Memory`  \n",
        "`AraVec Word Vectors`  \n",
        "`AraStance Dataset`  \n",
        "`Stance Detection` `Arabic Language` `Transfer Learning`\n",
        "\n",
        "---\n",
        "\n",
        "In this notebook, we rely on a hybrid architecture comprising a very simple bidirectional long short-term memory followed by a convolutional neural network to classify the stances of the articles in the AraStance dataset. The dataset was introduced in the paper:\n",
        "```\n",
        "AraStance: A Multi-Country and Multi-Domain Dataset of Arabic Stance Detection for Fact Checking.\n",
        "```\n",
        "The pretrained vectors (AraVec project) was introduced in the paper:\n",
        "```\n",
        "AraVec: A set of Arabic Word Embedding Models for use in Arabic NLP.\n",
        "```"
      ],
      "metadata": {
        "id": "5H1RrMEJPOXN"
      }
    },
    {
      "cell_type": "markdown",
      "source": [
        "## Packages"
      ],
      "metadata": {
        "id": "ze1WVX-tPTs0"
      }
    },
    {
      "cell_type": "code",
      "execution_count": null,
      "metadata": {
        "id": "uTVzv6NOPIow"
      },
      "outputs": [],
      "source": [
        "!pip install gensim\n",
        "!pip install pyarabic"
      ]
    },
    {
      "cell_type": "code",
      "source": [
        "import gensim\n",
        "import numpy as np\n",
        "import tensorflow as tf\n",
        "from matplotlib import pyplot as plt\n",
        "from preprocessing import *\n",
        "from utils import AraStanceData, evaluate, stance_to_int"
      ],
      "metadata": {
        "id": "MXI8hIO7RXdp"
      },
      "execution_count": null,
      "outputs": []
    },
    {
      "cell_type": "markdown",
      "source": [
        "## Raw data"
      ],
      "metadata": {
        "id": "xgjr5SIkPbgP"
      }
    },
    {
      "cell_type": "markdown",
      "source": [
        "- Download the raw data:\n",
        "\n"
      ],
      "metadata": {
        "id": "veGgEXfZbS6D"
      }
    },
    {
      "cell_type": "code",
      "source": [
        "!wget https://github.com/Tariq60/arastance/archive/refs/heads/main.zip\n",
        "!unzip /content/main.zip"
      ],
      "metadata": {
        "id": "BZL5h8rmPiPX"
      },
      "execution_count": null,
      "outputs": []
    },
    {
      "cell_type": "markdown",
      "source": [
        "- Let's start by reading the raw data:"
      ],
      "metadata": {
        "id": "RPMF6e2qbWt8"
      }
    },
    {
      "cell_type": "code",
      "source": [
        "raw_train = AraStanceData(\"/content/arastance-main/data/train.jsonl\")\n",
        "raw_val = AraStanceData(\"/content/arastance-main/data/dev.jsonl\")\n",
        "raw_test = AraStanceData(\"/content/arastance-main/data/test.jsonl\")\n",
        "\n",
        "print(f'# training instances: {len(raw_train.stances)}')\n",
        "print(f'# validation instances: {len(raw_val.stances)}')\n",
        "print(f'# testing instances: {len(raw_test.stances)}')"
      ],
      "metadata": {
        "colab": {
          "base_uri": "https://localhost:8080/"
        },
        "id": "UHvBzBq3Pv7O",
        "outputId": "3c583a3f-e929-45b8-cdbf-4b5d4092c968"
      },
      "execution_count": null,
      "outputs": [
        {
          "output_type": "stream",
          "name": "stdout",
          "text": [
            "# training instances: 2848\n",
            "# validation instances: 569\n",
            "# testing instances: 646\n"
          ]
        }
      ]
    },
    {
      "cell_type": "markdown",
      "source": [
        "- Let's see an instance from the data:"
      ],
      "metadata": {
        "id": "6-RhBKLObZcc"
      }
    },
    {
      "cell_type": "code",
      "source": [
        "instance_no = 90\n",
        "print(f\"Claim text: {raw_train.claims[raw_train.article_claim[instance_no]]}\")\n",
        "print(f\"Article text: {raw_train.articles[instance_no]}\")\n",
        "print(f\"Stance: {raw_train.stances[instance_no]}\")"
      ],
      "metadata": {
        "colab": {
          "base_uri": "https://localhost:8080/"
        },
        "id": "1-cQ_grOTW2L",
        "outputId": "8b5079d4-d397-47ec-a9db-5f47c7693bc7"
      },
      "execution_count": null,
      "outputs": [
        {
          "output_type": "stream",
          "name": "stdout",
          "text": [
            "Claim text: شخص بيلعب باليه في شارع التجمع الخامس\n",
            "Article text: \"هل يحبني\"؟ سؤال تطرحه المرأة على نفسها مع بداية ميلاد مشاعر إعجاب بشخص ما، وبوادر نشوء علاقة. لكن أحيانا يحتاج الرجل لوقت طويل ليظهر مشاعره الحقيقية بوضوح، فما هي العلامات التي تدلك على أنه لا يستحقك أو أنه يحبك بالفعل؟ تردد الرجل في إظهار مشاعره تجاه المرأة، مسألة محيرة جدا للمرأة. وقد يكون هذا التردد مؤشرا على التأني في المشاعر أو عدم وجود مشاعر حقيقية من الأساس، فكيف تحدد المرأة هذا الأمر. ثمة بعض العلامات التي تؤكد أن هذا الرجل لا يستحق أن تنتظريه، ومن بينها: دائم الانتقاد: الرجل الذي لا يكف عن انتقاد مظهرك وقوامك وملابسك، لا يحبك بالتأكيد. فالقاعدة الأساسية هي أن الرجل عندما يحبك فهو يحب حتى عيوبك. يهتم بنفسه فقط: الرجل الذي لا يبذل أي مجهود في محاولة مقابلتك، وعندما يقابلك بالصدفة يحدد بحسب وقته ورغباته، المكان الذي تتقابلان فيه وموضوعات الحوار، هو بالتأكيد لم يصل لمرحلة كافية من الاهتمام بك، وفقا للنقاط التي رصدها موقع \"غوفيمنين\" الألماني. لا يرغب في معرفة عائلتك وأصدقائك: عندما لا يهتم الرجل بالتعرف على عائلتك وأصدقائك المقربين، فهذا دليل على أن مشاعره تجاهك ربما لا تتجاوز مشاعر الإعجاب السطحي أو الزمالة، لكنها بالتأكيد ليست كافية لتصبح علاقة حب قوية. لا يتكلم مع أهله عنك: عندما يقع الرجل في حب امرأة، فهو يرغب في الحديث عنها مع كل من يعرفهم. لذا فالرجل الذي ينسى أي شيء يتعلق بك بعد مقابلتكما، ربما يبحث عن علاقة عابرة فقط أو يرتاح في الحديث معك، لكن ليس أكثر من ذلك. نظرة الحب: عبارة \"أحبك\" لا تأتي عادة في بداية التعارف، وأحيانا تتأخر كثيرا مع بعض الرجال، لكن هناك العديد من الطرق التي يلجأ إليها الرجل للتعبير عن اهتمامه بك ومن بينها نظرة الحب في عينه أو تعبيرات المجاملة الرقيقة أو السؤال الدائم عنك. فإذا غابت هذه الأشياء عن العلاقة، فربما عليك إعادة النظر في الأمر وعدم إضاعة المزيد من الوقت في انتظار أن يفصح عن مشاعره. على الجانب الآخر هناك علامات واضحة تدل على إعجاب الرجل بك وفقا لموقع \"وومان\" النمساوي، ومن بينها: يعرف اهتماماتك: هل يعرف فيلمك المفضل أو المطرب الذي تتمني حضور حفله ويفاجئك بتذكرة للحفل؟ الاهتمام من أكبر العلامات التي تؤكد أن مشاعره تجاهك تسير في اتجاه الحب. لا ينظر في المحمول: انشغال الرجل بهاتفه الذكي طوال الوقت، يعني أنه لم يحسم أمره بعد، لذا فإن الرجل الذي يتخلى عن هاتفه عندما يجلس معك، يؤكد أنك أهم من متابعة الأخبار أو الدردشة مع الأصدقاء على الفيسبوك أو الواتس آب. هدايا بسيطة: الرجل الذي يحرص على إهدائك وردة أو شوكولاتة دون مناسبة، يرغب في أن يوصل رسالة مفادها أنه يفكر فيك. القليل من الغيرة: عندما يهتم الرجل بالاطمئنان على عودتك للمنزل وسؤالك عن كيفية قضاء وقتك ومع من، فهذه من علامات الإعجاب المؤدية للحب. يحب شكلك بدون ماكياج: \"تبدين رائعة الجمال اليوم\" عندما تأتي هذه الجملة في يوم لا تضعين فيه أي مساحيق تجميل، فهذا دليل على أنه يحبك في جميع حالاتك. يتذكر كلماتك: تذكره لعباراتك وتفاصيل المناقشات التي تخوضيها معه، دليل على أنك تشغلين بالفعل الكثير من تفكيره. ا.ف/ع.ج.م  مختارات\n",
            "Stance: Unrelated\n"
          ]
        }
      ]
    },
    {
      "cell_type": "markdown",
      "source": [
        "- Thus, the instances are triplets, Claim/Article/Stance.\n",
        "- Note that the original language of the data is Arabic."
      ],
      "metadata": {
        "id": "gI6qegIAbc40"
      }
    },
    {
      "cell_type": "markdown",
      "source": [
        "## Embedding layer"
      ],
      "metadata": {
        "id": "OSVmC4sOQZrQ"
      }
    },
    {
      "cell_type": "markdown",
      "source": [
        "- We will use AraVec pretrained word vectors to represent the input."
      ],
      "metadata": {
        "id": "CVidrwrpb018"
      }
    },
    {
      "cell_type": "markdown",
      "source": [
        "### Preprocessing"
      ],
      "metadata": {
        "id": "IUTsUjodPyoO"
      }
    },
    {
      "cell_type": "markdown",
      "source": [
        "- To increase the hit rate between the words in our raw data and the tokens (i.e. the keys in AraVec dictionary) in AraVec dictionary, we need to preprocess the data in a way similar to the preprocessing performed to produce those tokens."
      ],
      "metadata": {
        "id": "Db5XqX7HcBCk"
      }
    },
    {
      "cell_type": "markdown",
      "source": [
        "- Let's use the following function to preprocess the training, validation, and testing data:"
      ],
      "metadata": {
        "id": "T3ZshVO6dSbs"
      }
    },
    {
      "cell_type": "code",
      "source": [
        "# this function is resposible for the preprocessing routine\n",
        "def preprocess(instances):\n",
        "  instances = list(map(remove_puncuation, instances))\n",
        "  instances = list(map(remove_diacritics, instances))\n",
        "  instances = list(map(remove_longation, instances))\n",
        "  instances = list(map(remove_unicode_codes, instances))\n",
        "  instances = list(map(process_numerals, instances))\n",
        "  instances = list(map(normalize, instances))\n",
        "  instances = list(map(remove_extra_spaces, instances))\n",
        "  return instances"
      ],
      "metadata": {
        "id": "XnIRNj4uUJEw"
      },
      "execution_count": null,
      "outputs": []
    },
    {
      "cell_type": "markdown",
      "source": [
        "- Before preprocessing each claim article pair, we need to concatenate them."
      ],
      "metadata": {
        "id": "da_w2Ht6l-7r"
      }
    },
    {
      "cell_type": "code",
      "source": [
        "# preprocess training data\n",
        "train_instances = [raw_train.claims[raw_train.article_claim[idx]] + \" \" + article \\\n",
        "                  for idx, article in enumerate(raw_train.articles)]\n",
        "preprocessed_train_instances = preprocess(train_instances)\n",
        "\n",
        "# preprocess validation data\n",
        "val_instances = [raw_val.claims[raw_val.article_claim[idx]] + \" \" + article \\\n",
        "                  for idx, article in enumerate(raw_val.articles)]\n",
        "preprocessed_val_instances = preprocess(val_instances)\n",
        "\n",
        "# preprocess testing data\n",
        "test_instances = [raw_test.claims[raw_test.article_claim[idx]] + \" \" + article \\\n",
        "                  for idx, article in enumerate(raw_test.articles)]\n",
        "preprocessed_test_instances = preprocess(test_instances)"
      ],
      "metadata": {
        "id": "GMzoQNPHQp-F"
      },
      "execution_count": null,
      "outputs": []
    },
    {
      "cell_type": "markdown",
      "source": [
        "- Let's see a preprocessed instance:"
      ],
      "metadata": {
        "id": "dNMDVgALl2Mj"
      }
    },
    {
      "cell_type": "code",
      "source": [
        "instance_no = 90\n",
        "print(f\"Claim Article text: {preprocessed_train_instances[instance_no]}\")\n",
        "print(f\"Stance: {raw_train.stances[instance_no]}\")"
      ],
      "metadata": {
        "colab": {
          "base_uri": "https://localhost:8080/"
        },
        "id": "zSPVkWNSl74q",
        "outputId": "4bfc4c75-10d7-4ebb-d812-d0aa5919b9b9"
      },
      "execution_count": null,
      "outputs": [
        {
          "output_type": "stream",
          "name": "stdout",
          "text": [
            "Claim Article text: شخص بيلعب باليه في شارع التجمع الخامس هل يحبني ؟ سؤال تطرحه المراه علي نفسها مع بدايه ميلاد مشاعر اعجاب بشخص ما وبوادر نشوء علاقه لكن احيانا يحتاج الرجل لوقت طويل ليظهر مشاعره الحقيقيه بوضوح فما هي العلامات التي تدلك علي انه لا يستحقك او انه يحبك بالفعل ؟ تردد الرجل في اظهار مشاعره تجاه المراه مساله محيره جدا للمراه وقد يكون هذا التردد مؤشرا علي التاني في المشاعر او عدم وجود مشاعر حقيقيه من الاساس فكيف تحدد المراه هذا الامر ثمه بعض العلامات التي تؤكد ان هذا الرجل لا يستحق ان تنتظريه ومن بينها دائم الانتقاد الرجل الذي لا يكف عن انتقاد مظهرك وقوامك وملابسك لا يحبك بالتاكيد فالقاعده الاساسيه هي ان الرجل عندما يحبك فهو يحب حتي عيوبك يهتم بنفسه فقط الرجل الذي لا يبذل اي مجهود في محاوله مقابلتك وعندما يقابلك بالصدفه يحدد بحسب وقته ورغباته المكان الذي تتقابلان فيه وموضوعات الحوار هو بالتاكيد لم يصل لمرحله كافيه من الاهتمام بك وفقا للنقاط التي رصدها موقع غوفيمنين الالماني لا يرغب في معرفه عائلتك واصدقائك عندما لا يهتم الرجل بالتعرف علي عائلتك واصدقائك المقربين فهذا دليل علي ان مشاعره تجاهك ربما لا تتجاوز مشاعر الاعجاب السطحي او الزماله لكنها بالتاكيد ليست كافيه لتصبح علاقه حب قويه لا يتكلم مع اهله عنك عندما يقع الرجل في حب امراه فهو يرغب في الحديث عنها مع كل من يعرفهم لذا فالرجل الذي ينسي اي شيء يتعلق بك بعد مقابلتكما ربما يبحث عن علاقه عابره فقط او يرتاح في الحديث معك لكن ليس اكثر من ذلك نظره الحب عباره احبك لا تاتي عاده في بدايه التعارف واحيانا تتاخر كثيرا مع بعض الرجال لكن هناك العديد من الطرق التي يلجا اليها الرجل للتعبير عن اهتمامه بك ومن بينها نظره الحب في عينه او تعبيرات المجامله الرقيقه او السؤال الدائم عنك فاذا غابت هذه الاشياء عن العلاقه فربما عليك اعاده النظر في الامر وعدم اضاعه المزيد من الوقت في انتظار ان يفصح عن مشاعره علي الجانب الاخر هناك علامات واضحه تدل علي اعجاب الرجل بك وفقا لموقع وومان النمساوي ومن بينها يعرف اهتماماتك هل يعرف فيلمك المفضل او المطرب الذي تتمني حضور حفله ويفاجئك بتذكره للحفل ؟ الاهتمام من اكبر العلامات التي تؤكد ان مشاعره تجاهك تسير في اتجاه الحب لا ينظر في المحمول انشغال الرجل بهاتفه الذكي طوال الوقت يعني انه لم يحسم امره بعد لذا فان الرجل الذي يتخلي عن هاتفه عندما يجلس معك يؤكد انك اهم من متابعه الاخبار او الدردشه مع الاصدقاء علي الفيسبوك او الواتس اب هدايا بسيطه الرجل الذي يحرص علي اهدائك ورده او شوكولاته دون مناسبه يرغب في ان يوصل رساله مفادها انه يفكر فيك القليل من الغيره عندما يهتم الرجل بالاطمئنان علي عودتك للمنزل وسؤالك عن كيفيه قضاء وقتك ومع من فهذه من علامات الاعجاب المؤديه للحب يحب شكلك بدون ماكياج تبدين رائعه الجمال اليوم عندما تاتي هذه الجمله في يوم لا تضعين فيه اي مساحيق تجميل فهذا دليل علي انه يحبك في جميع حالاتك يتذكر كلماتك تذكره لعباراتك وتفاصيل المناقشات التي تخوضيها معه دليل علي انك تشغلين بالفعل الكثير من تفكيره ا ف ع ج م مختارات\n",
            "Stance: Unrelated\n"
          ]
        }
      ]
    },
    {
      "cell_type": "markdown",
      "source": [
        "### Initialization"
      ],
      "metadata": {
        "id": "CBUk122SeWEW"
      }
    },
    {
      "cell_type": "markdown",
      "source": [
        "- Download the pretrained vectors first:"
      ],
      "metadata": {
        "id": "jjBZW2LgeJc2"
      }
    },
    {
      "cell_type": "code",
      "source": [
        "!wget \"https://bakrianoo.ewr1.vultrobjects.com/aravec/full_uni_cbow_300_wiki.zip\"\n",
        "!unzip \"full_uni_cbow_300_wiki.zip\""
      ],
      "metadata": {
        "id": "xU0r6MLEPkln"
      },
      "execution_count": null,
      "outputs": []
    },
    {
      "cell_type": "markdown",
      "source": [
        "- Load the pretrained vectors:"
      ],
      "metadata": {
        "id": "0Eks7x5BepPb"
      }
    },
    {
      "cell_type": "code",
      "source": [
        "embedding_model = gensim.models.Word2Vec.load(\"full_uni_cbow_300_wiki.mdl\")\n",
        "print(\"AraVect project contains\",len(embedding_model.wv.index_to_key),\"tokens\")"
      ],
      "metadata": {
        "colab": {
          "base_uri": "https://localhost:8080/"
        },
        "id": "RUv2QkVfPxmH",
        "outputId": "9acca0cf-1bbc-4eb7-d6bb-a4533560fdbc"
      },
      "execution_count": null,
      "outputs": [
        {
          "output_type": "stream",
          "name": "stdout",
          "text": [
            "AraVect project contains 320636 tokens\n"
          ]
        }
      ]
    },
    {
      "cell_type": "markdown",
      "source": [
        "- We need to decide on the words we are going to use in the final representation of each instance, so we will use a vectorization layer to learn a vocabulary from our training data. We allowed 30K tokens in our vocabulary.\n",
        "- We also going to need a word index, which maps words to indices like `{word1-->idx1, word2-->idx2, ...}`. The indices will be used to store the vector representation of each word in the embedding matrix."
      ],
      "metadata": {
        "id": "pRcSTqrQf0sc"
      }
    },
    {
      "cell_type": "code",
      "source": [
        "# Option 1 using TextVectorization layer\n",
        "# max_tokens represents the maximum size of the vocabulary\n",
        "vectorizer = tf.keras.layers.TextVectorization(max_tokens=20000, output_sequence_length=150, standardize=None)\n",
        "text_ds = tf.data.Dataset.from_tensor_slices(preprocessed_train_instances).batch(128)\n",
        "\n",
        "# learn the vocabulary based on the training data\n",
        "vectorizer.adapt(text_ds)\n",
        "\n",
        "voc = vectorizer.get_vocabulary()\n",
        "word_index = dict(zip(voc, range(len(voc))))\n",
        "\n",
        "# Option 2 using NLTK tokenizer\n",
        "# import nltk\n",
        "# from nltk import  word_tokenize\n",
        "# nltk.download('punkt')\n",
        "\n",
        "# def tokenization(text):\n",
        "#   return word_tokenize(text)\n",
        "\n",
        "# train_tokenized = list(map(tokenization, train_samples))\n",
        "# tokens = [token for sublist in train_tokenized for token in sublist]\n",
        "# tokens = set(tokens)\n",
        "# word_index = dict(zip(tokens, range(len(tokens))))\n",
        "# len(tokens)"
      ],
      "metadata": {
        "id": "iqA6lTkrQdu3"
      },
      "execution_count": null,
      "outputs": []
    },
    {
      "cell_type": "markdown",
      "source": [
        "- We are now ready to create an embedding matrix which maps token indices of our vocabulary to pretrained word vectors from AraVec project:"
      ],
      "metadata": {
        "id": "PPep_ER2h7xE"
      }
    },
    {
      "cell_type": "code",
      "source": [
        "num_tokens = len(voc) + 2\n",
        "embedding_dim = 300\n",
        "hits = 0\n",
        "misses = 0\n",
        "\n",
        "embedding_matrix = np.zeros((num_tokens, embedding_dim))\n",
        "for word, i in word_index.items():\n",
        "  if embedding_model.wv.__contains__(word):\n",
        "    embedding_matrix[i] = embedding_model.wv.get_vector(word)\n",
        "    hits += 1\n",
        "  else:\n",
        "    misses += 1\n",
        "print(\"Converted %d words (%d misses)\" % (hits, misses))"
      ],
      "metadata": {
        "colab": {
          "base_uri": "https://localhost:8080/"
        },
        "id": "Umm6q1LWQmae",
        "outputId": "ea24c418-0d59-4a44-d0fb-b182490db676"
      },
      "execution_count": null,
      "outputs": [
        {
          "output_type": "stream",
          "name": "stdout",
          "text": [
            "Converted 19860 words (140 misses)\n"
          ]
        }
      ]
    },
    {
      "cell_type": "markdown",
      "source": [
        "- Let's see the representation of a random token:"
      ],
      "metadata": {
        "id": "e9ACmLvGr2aO"
      }
    },
    {
      "cell_type": "code",
      "source": [
        "print(f\"The word 'يناير' is at index {word_index['يناير']}\")\n",
        "print(f\"The vector representation of 'يناير' is {embedding_matrix[word_index['يناير']]}\")"
      ],
      "metadata": {
        "colab": {
          "base_uri": "https://localhost:8080/"
        },
        "id": "uIMGs7g4r9Mw",
        "outputId": "d6fde57f-5183-4633-a6d0-159fc93e88a3"
      },
      "execution_count": null,
      "outputs": [
        {
          "output_type": "stream",
          "name": "stdout",
          "text": [
            "The word 'يناير' is at index 370\n",
            "The vector representation of 'يناير' is [ 0.51005375  1.19242501 -1.1961081   1.54170382  0.83659106  0.98661953\n",
            "  2.35651946  1.40938616  0.46756575 -1.15503812 -2.05074883  1.79200149\n",
            "  2.26149178 -2.35674977 -1.54589176  1.4476347   0.17506057 -1.03495252\n",
            "  0.14923877  0.50402081 -1.22456503 -2.81537771 -0.14951073 -0.64106113\n",
            " -1.78856778 -3.01331806  1.09811449  0.82774377 -2.12052202  0.10627326\n",
            " -0.3470996   0.56881094  0.70859134  1.14366102 -1.39147961 -0.93328577\n",
            " -0.41829142  0.35251924 -5.5062871  -0.01710663  1.58901513 -1.04543102\n",
            " -1.53454065 -0.88687831 -0.14384538  1.67812455  0.39177114 -1.44210482\n",
            "  1.21285033  0.28208566 -0.27708358  1.30340207 -0.0260686   1.36871862\n",
            "  0.28364053  2.31196856 -1.6904012  -1.23371506 -0.75107098  1.8761574\n",
            " -0.73244673 -0.20883329 -0.66077822  1.06395638 -1.04924607  0.86401767\n",
            " -1.4296838  -0.46038389  1.66213858  2.74791789  2.06197238  1.3414613\n",
            " -1.38134551 -1.60160661 -2.83723998  1.29322004 -1.61836863 -0.62352502\n",
            " -2.35049558  0.39001599 -3.79648829 -0.64327121 -1.72622204  0.46645588\n",
            " -0.01128224  1.52950931  2.82866693  0.95837611 -0.31064054 -1.31560016\n",
            " -0.76862705 -2.1199069   1.12076747 -2.52344298 -0.0516375  -2.10895205\n",
            "  1.51918328  2.63476992  2.42779589 -1.67513812  3.26054668 -2.45448875\n",
            " -0.15448134  1.00138009 -0.28824937 -0.69101375  1.30092835 -2.73715901\n",
            " -3.51582694  0.91878343 -0.45144424 -0.54270703  1.92658412  0.69902432\n",
            " -1.46747446  2.74038935  5.52163553 -0.21117572  0.93595374 -1.86907446\n",
            " -2.37606645  0.36074033 -0.7192812  -0.29375786  5.28940821 -1.72633243\n",
            "  0.00638013  0.52116412  4.12998199  1.58577561 -1.39363956 -0.77914703\n",
            " -1.6641233   1.2366097   2.37499237  0.40728346 -0.99457157  0.67329133\n",
            "  0.23854266 -0.60660249 -2.08833003 -1.20901871 -1.45944834  0.54565477\n",
            "  1.12198234  0.10089626  0.39426771  1.0593214  -0.11659364 -0.07086654\n",
            " -1.00156999 -2.12631464  0.83555174  3.59589434 -0.17031001  1.86474943\n",
            "  0.81884378 -1.09942043  1.43210769  4.24158478  1.89046979  2.06321406\n",
            " -1.44695354  3.80398822 -1.82076085  2.11865282 -0.35452417  1.45082116\n",
            "  1.81697428  2.20918798  2.56326008  1.66797042 -3.55643153  2.59516191\n",
            "  0.53864312  0.66310018 -3.47505403  0.64873004  4.46090555 -0.56100291\n",
            " -1.58600986 -0.24009229  1.46528888  0.24143289  0.27563486  0.63533235\n",
            " -0.25278488 -0.54899883  0.34924543 -1.07882321  0.73175323 -1.08985686\n",
            "  0.43800625 -0.89990592  0.99679899 -0.33262801 -1.93594801 -1.1923511\n",
            "  1.36992979 -1.09185719 -0.95499027 -0.36658531 -0.09725738 -0.87177962\n",
            "  1.92813957 -0.96085119  0.59099668  0.22681619  1.03230393 -1.44009054\n",
            "  2.09702039  0.23034963 -0.35073143 -4.31440067  0.32370064  2.60425782\n",
            " -1.18700862 -1.24682903  1.42858207  0.10886827  0.01279335 -0.45354638\n",
            "  1.67644131 -3.1787219  -1.30575252  3.87057328 -1.85805905  0.05867498\n",
            " -1.36117375 -2.1542511  -0.3692528   1.31749129 -2.63767362 -1.69565332\n",
            "  0.63770026  0.07557787  2.56023574  0.10993286  1.47600114 -1.19047856\n",
            " -0.2840454   1.60046756  0.30267552 -0.07789638  0.96447647  1.54057539\n",
            " -1.4655211   3.71130776  2.85712504  0.01640874  2.35601163  2.17540026\n",
            "  0.4403944  -0.65785539 -2.20885205 -0.88154197  0.80087733  0.95793986\n",
            "  1.60764289  0.20591761  0.70110101  1.23068917 -0.33558729 -0.5563488\n",
            "  3.79923534  0.59398663  0.81267798  0.33149049 -1.58639133  0.61096156\n",
            "  2.55083132 -0.40456709 -0.05063454 -0.52930927 -1.19075656  1.34921026\n",
            "  4.24130249  1.35013223 -1.81341422 -0.57527852 -0.50638443  0.67211753\n",
            " -0.57337815 -0.37742209  2.03392577  0.49845687  0.57415688 -2.40836525\n",
            "  1.40290642 -0.72903103 -1.38598526 -2.45647192 -2.42165279 -0.03997702\n",
            "  1.6920929  -0.56858259 -4.82728577  0.55661142  2.54763675  0.86712426]\n"
          ]
        }
      ]
    },
    {
      "cell_type": "markdown",
      "source": [
        "- Let's initialize our embedding layer with the embedding matrix:"
      ],
      "metadata": {
        "id": "EOUrwkWEiKdN"
      }
    },
    {
      "cell_type": "code",
      "source": [
        "embedding_layer = tf.keras.layers.Embedding(\n",
        "    num_tokens,\n",
        "    embedding_dim,\n",
        "    embeddings_initializer=tf.keras.initializers.Constant(embedding_matrix),\n",
        "    trainable=False,\n",
        ")"
      ],
      "metadata": {
        "id": "Yrox_SSDiJyl"
      },
      "execution_count": null,
      "outputs": []
    },
    {
      "cell_type": "markdown",
      "source": [
        "## Datasets"
      ],
      "metadata": {
        "id": "rMoc7pwxQnv9"
      }
    },
    {
      "cell_type": "code",
      "source": [
        "batch_size = 128"
      ],
      "metadata": {
        "id": "TSO0rSyQQovs"
      },
      "execution_count": null,
      "outputs": []
    },
    {
      "cell_type": "markdown",
      "source": [
        "- Before creating the dataset, we need to vectorize the training, validation, and testing data using the adapted vectorizer. This means replace every word in an instance by its index in the word index:"
      ],
      "metadata": {
        "id": "2i4i2uS3g6zz"
      }
    },
    {
      "cell_type": "code",
      "source": [
        "x_train = vectorizer(np.array([[s] for s in preprocessed_train_instances])).numpy()\n",
        "x_val = vectorizer(np.array([[s] for s in preprocessed_val_instances])).numpy()\n",
        "x_test = vectorizer(np.array([[s] for s in preprocessed_test_instances])).numpy()"
      ],
      "metadata": {
        "id": "qvtv1-IfeKXM"
      },
      "execution_count": null,
      "outputs": []
    },
    {
      "cell_type": "markdown",
      "source": [
        "- Let's see a vectorized instance:"
      ],
      "metadata": {
        "id": "yNzH7VjZoaY3"
      }
    },
    {
      "cell_type": "code",
      "source": [
        "instance_no = 90\n",
        "print(f\"Original preprocessed instance: {preprocessed_train_instances[instance_no]}\")\n",
        "print(f\"Vectorized instance: {x_train[instance_no]}\")"
      ],
      "metadata": {
        "colab": {
          "base_uri": "https://localhost:8080/"
        },
        "id": "uK9Xg60socwR",
        "outputId": "909cc644-ee1f-4906-aab4-2e1f324e4e1d"
      },
      "execution_count": null,
      "outputs": [
        {
          "output_type": "stream",
          "name": "stdout",
          "text": [
            "Original preprocessed instance: شخص بيلعب باليه في شارع التجمع الخامس هل يحبني ؟ سؤال تطرحه المراه علي نفسها مع بدايه ميلاد مشاعر اعجاب بشخص ما وبوادر نشوء علاقه لكن احيانا يحتاج الرجل لوقت طويل ليظهر مشاعره الحقيقيه بوضوح فما هي العلامات التي تدلك علي انه لا يستحقك او انه يحبك بالفعل ؟ تردد الرجل في اظهار مشاعره تجاه المراه مساله محيره جدا للمراه وقد يكون هذا التردد مؤشرا علي التاني في المشاعر او عدم وجود مشاعر حقيقيه من الاساس فكيف تحدد المراه هذا الامر ثمه بعض العلامات التي تؤكد ان هذا الرجل لا يستحق ان تنتظريه ومن بينها دائم الانتقاد الرجل الذي لا يكف عن انتقاد مظهرك وقوامك وملابسك لا يحبك بالتاكيد فالقاعده الاساسيه هي ان الرجل عندما يحبك فهو يحب حتي عيوبك يهتم بنفسه فقط الرجل الذي لا يبذل اي مجهود في محاوله مقابلتك وعندما يقابلك بالصدفه يحدد بحسب وقته ورغباته المكان الذي تتقابلان فيه وموضوعات الحوار هو بالتاكيد لم يصل لمرحله كافيه من الاهتمام بك وفقا للنقاط التي رصدها موقع غوفيمنين الالماني لا يرغب في معرفه عائلتك واصدقائك عندما لا يهتم الرجل بالتعرف علي عائلتك واصدقائك المقربين فهذا دليل علي ان مشاعره تجاهك ربما لا تتجاوز مشاعر الاعجاب السطحي او الزماله لكنها بالتاكيد ليست كافيه لتصبح علاقه حب قويه لا يتكلم مع اهله عنك عندما يقع الرجل في حب امراه فهو يرغب في الحديث عنها مع كل من يعرفهم لذا فالرجل الذي ينسي اي شيء يتعلق بك بعد مقابلتكما ربما يبحث عن علاقه عابره فقط او يرتاح في الحديث معك لكن ليس اكثر من ذلك نظره الحب عباره احبك لا تاتي عاده في بدايه التعارف واحيانا تتاخر كثيرا مع بعض الرجال لكن هناك العديد من الطرق التي يلجا اليها الرجل للتعبير عن اهتمامه بك ومن بينها نظره الحب في عينه او تعبيرات المجامله الرقيقه او السؤال الدائم عنك فاذا غابت هذه الاشياء عن العلاقه فربما عليك اعاده النظر في الامر وعدم اضاعه المزيد من الوقت في انتظار ان يفصح عن مشاعره علي الجانب الاخر هناك علامات واضحه تدل علي اعجاب الرجل بك وفقا لموقع وومان النمساوي ومن بينها يعرف اهتماماتك هل يعرف فيلمك المفضل او المطرب الذي تتمني حضور حفله ويفاجئك بتذكره للحفل ؟ الاهتمام من اكبر العلامات التي تؤكد ان مشاعره تجاهك تسير في اتجاه الحب لا ينظر في المحمول انشغال الرجل بهاتفه الذكي طوال الوقت يعني انه لم يحسم امره بعد لذا فان الرجل الذي يتخلي عن هاتفه عندما يجلس معك يؤكد انك اهم من متابعه الاخبار او الدردشه مع الاصدقاء علي الفيسبوك او الواتس اب هدايا بسيطه الرجل الذي يحرص علي اهدائك ورده او شوكولاته دون مناسبه يرغب في ان يوصل رساله مفادها انه يفكر فيك القليل من الغيره عندما يهتم الرجل بالاطمئنان علي عودتك للمنزل وسؤالك عن كيفيه قضاء وقتك ومع من فهذه من علامات الاعجاب المؤديه للحب يحب شكلك بدون ماكياج تبدين رائعه الجمال اليوم عندما تاتي هذه الجمله في يوم لا تضعين فيه اي مساحيق تجميل فهذا دليل علي انه يحبك في جميع حالاتك يتذكر كلماتك تذكره لعباراتك وتفاصيل المناقشات التي تخوضيها معه دليل علي انك تشغلين بالفعل الكثير من تفكيره ا ف ع ج م مختارات\n",
            "Vectorized instance: [  329 18223 16437     2  1976  2595  1312   336     1    75  2464     1\n",
            "   632     5   668    10   351 10951  4267 18570     1    11     1  9201\n",
            "   909    80  1632  2043  1101 10047  1993 17921 15394  2664  4102  2005\n",
            "    72  7461     8     1     5    33    15     1    12    33     1  1096\n",
            "    75  3195  1101     2  8931 15394  1077   632  1817     1   299  5018\n",
            "    83   109    18 19602  9745     5     1     2 10163    12   169   197\n",
            "  4267  2698     3  2688  5677  3371   632    18   138  2048    66  7461\n",
            "     8  1240     6    18  1101    15  6139     6     1    77   812  5182\n",
            "     1  1101    13    15 19737     9  6521     1     1     1    15     1\n",
            "  3668     1   802    72     6  1101   152     1   746  5846    53     1\n",
            "  7198  3130   168  1101    13    15 13416    46 14709     2   699     1\n",
            "  1289     1     1  4203   425  9688     1  1368    13     1   146     1\n",
            "  1288    45  3668    38  1030  7379]\n"
          ]
        }
      ]
    },
    {
      "cell_type": "markdown",
      "source": [
        "- Let's initialize the datasets we are going to use for the training and testing:"
      ],
      "metadata": {
        "id": "I0JLlGnYpKdn"
      }
    },
    {
      "cell_type": "code",
      "source": [
        "AUTOTUNE = tf.data.experimental.AUTOTUNE\n",
        "\n",
        "train_size = len(raw_train.stances)\n",
        "\n",
        "train_labels = [stance_to_int[s] for s in raw_train.stances]\n",
        "train_dataset = tf.data.Dataset.from_tensor_slices((x_train, train_labels))\n",
        "train_dataset = train_dataset.shuffle(train_size)\n",
        "train_dataset = train_dataset.batch(batch_size)\n",
        "train_dataset = train_dataset.cache().prefetch(buffer_size=AUTOTUNE)\n",
        "\n",
        "val_labels = [stance_to_int[s] for s in raw_val.stances]\n",
        "val_dataset = tf.data.Dataset.from_tensor_slices((x_val, val_labels))\n",
        "val_dataset = val_dataset.batch(batch_size)\n",
        "val_dataset = val_dataset.cache().prefetch(buffer_size=AUTOTUNE)\n",
        "\n",
        "test_labels = [stance_to_int[s] for s in raw_test.stances]\n",
        "test_dataset = tf.data.Dataset.from_tensor_slices((x_test, test_labels))\n",
        "test_dataset = test_dataset.batch(batch_size).cache().prefetch(buffer_size=AUTOTUNE)"
      ],
      "metadata": {
        "id": "6b1vQn7CQsy4"
      },
      "execution_count": null,
      "outputs": []
    },
    {
      "cell_type": "markdown",
      "source": [
        "## Model"
      ],
      "metadata": {
        "id": "YaVXv2oMQtpB"
      }
    },
    {
      "cell_type": "markdown",
      "source": [
        "- Now the datasets are ready, we can work on the model:"
      ],
      "metadata": {
        "id": "1tYFaJXwpSO9"
      }
    },
    {
      "cell_type": "code",
      "source": [
        "def create_model(lr):\n",
        "  int_sequences_input = tf.keras.Input(shape=(None,), dtype=\"int64\")\n",
        "  embedded_sequences = embedding_layer(int_sequences_input)\n",
        "\n",
        "  lstm_output_1 = tf.keras.layers.Bidirectional(tf.keras.layers.LSTM(32, return_sequences=True))(embedded_sequences)\n",
        "  lstm_output_2 = tf.keras.layers.Bidirectional(tf.keras.layers.LSTM(32, return_sequences=True))(lstm_output_1)\n",
        "\n",
        "  conv1 = tf.keras.layers.Conv1D(50, 2, activation=\"relu\", use_bias=True)(lstm_output_2)\n",
        "  conv2 = tf.keras.layers.Conv1D(50, 3, activation=\"relu\", use_bias=True)(lstm_output_2)\n",
        "  conv3 = tf.keras.layers.Conv1D(50, 4, activation=\"relu\", use_bias=True)(lstm_output_2)\n",
        "\n",
        "  pool1 = tf.keras.layers.GlobalMaxPooling1D()(conv1)\n",
        "  pool2 = tf.keras.layers.GlobalMaxPooling1D()(conv2)\n",
        "  pool3 = tf.keras.layers.GlobalMaxPooling1D()(conv3)\n",
        "\n",
        "  concatenated = tf.keras.layers.Concatenate(axis=1)([pool1, pool2, pool3])\n",
        "\n",
        "  logits = tf.keras.layers.Dense(4)(concatenated)\n",
        "\n",
        "  model = tf.keras.models.Model(inputs=int_sequences_input, outputs=logits)\n",
        "\n",
        "  loss = tf.keras.losses.SparseCategoricalCrossentropy(from_logits=True)\n",
        "  metrics = tf.keras.metrics.SparseCategoricalAccuracy('accuracy', dtype=tf.float32)\n",
        "  optimizer = tf.keras.optimizers.Adam(learning_rate=lr)\n",
        "\n",
        "  model.compile(optimizer=optimizer, loss=loss, metrics=[metrics])\n",
        "\n",
        "  return model"
      ],
      "metadata": {
        "id": "b-M1Sxz_qVU9"
      },
      "execution_count": null,
      "outputs": []
    },
    {
      "cell_type": "code",
      "source": [
        "plotting_model = create_model(lr=0.)\n",
        "tf.keras.utils.plot_model(plotting_model, show_shapes=True, dpi=60)"
      ],
      "metadata": {
        "colab": {
          "base_uri": "https://localhost:8080/",
          "height": 670
        },
        "id": "fB_mHTiPQwei",
        "outputId": "04c3ea00-6005-4f0f-faa3-f5c0f3b770eb"
      },
      "execution_count": null,
      "outputs": [
        {
          "output_type": "execute_result",
          "data": {
            "image/png": "[encoded data removed]",
            "text/plain": [
              "<IPython.core.display.Image object>"
            ]
          },
          "metadata": {},
          "execution_count": 20
        }
      ]
    },
    {
      "cell_type": "code",
      "source": [
        "plotting_model.summary()"
      ],
      "metadata": {
        "colab": {
          "base_uri": "https://localhost:8080/",
          "height": 663
        },
        "id": "tf_6NShDphMS",
        "outputId": "4f333104-cac6-4ba1-ec7d-4aa970f42c4e"
      },
      "execution_count": null,
      "outputs": [
        {
          "output_type": "display_data",
          "data": {
            "text/plain": [
              "\u001b[1mModel: \"functional\"\u001b[0m\n"
            ],
            "text/html": [
              "<pre style=\"white-space:pre;overflow-x:auto;line-height:normal;font-family:Menlo,'DejaVu Sans Mono',consolas,'Courier New',monospace\"><span style=\"font-weight: bold\">Model: \"functional\"</span>\n",
              "</pre>\n"
            ]
          },
          "metadata": {}
        },
        {
          "output_type": "display_data",
          "data": {
            "text/plain": [
              "┏━━━━━━━━━━━━━━━━━━━━━━━━━━━┳━━━━━━━━━━━━━━━━━━━━━━━━┳━━━━━━━━━━━━━━━━┳━━━━━━━━━━━━━━━━━━━━━━━━┓\n",
              "┃\u001b[1m \u001b[0m\u001b[1mLayer (type)             \u001b[0m\u001b[1m \u001b[0m┃\u001b[1m \u001b[0m\u001b[1mOutput Shape          \u001b[0m\u001b[1m \u001b[0m┃\u001b[1m \u001b[0m\u001b[1m       Param #\u001b[0m\u001b[1m \u001b[0m┃\u001b[1m \u001b[0m\u001b[1mConnected to          \u001b[0m\u001b[1m \u001b[0m┃\n",
              "┡━━━━━━━━━━━━━━━━━━━━━━━━━━━╇━━━━━━━━━━━━━━━━━━━━━━━━╇━━━━━━━━━━━━━━━━╇━━━━━━━━━━━━━━━━━━━━━━━━┩\n",
              "│ input_layer (\u001b[38;5;33mInputLayer\u001b[0m)  │ (\u001b[38;5;45mNone\u001b[0m, \u001b[38;5;45mNone\u001b[0m)           │              \u001b[38;5;34m0\u001b[0m │ -                      │\n",
              "├───────────────────────────┼────────────────────────┼────────────────┼────────────────────────┤\n",
              "│ embedding (\u001b[38;5;33mEmbedding\u001b[0m)     │ (\u001b[38;5;45mNone\u001b[0m, \u001b[38;5;45mNone\u001b[0m, \u001b[38;5;34m300\u001b[0m)      │      \u001b[38;5;34m6,000,600\u001b[0m │ input_layer[\u001b[38;5;34m0\u001b[0m][\u001b[38;5;34m0\u001b[0m]      │\n",
              "├───────────────────────────┼────────────────────────┼────────────────┼────────────────────────┤\n",
              "│ bidirectional             │ (\u001b[38;5;45mNone\u001b[0m, \u001b[38;5;45mNone\u001b[0m, \u001b[38;5;34m64\u001b[0m)       │         \u001b[38;5;34m85,248\u001b[0m │ embedding[\u001b[38;5;34m0\u001b[0m][\u001b[38;5;34m0\u001b[0m]        │\n",
              "│ (\u001b[38;5;33mBidirectional\u001b[0m)           │                        │                │                        │\n",
              "├───────────────────────────┼────────────────────────┼────────────────┼────────────────────────┤\n",
              "│ bidirectional_1           │ (\u001b[38;5;45mNone\u001b[0m, \u001b[38;5;45mNone\u001b[0m, \u001b[38;5;34m64\u001b[0m)       │         \u001b[38;5;34m24,832\u001b[0m │ bidirectional[\u001b[38;5;34m0\u001b[0m][\u001b[38;5;34m0\u001b[0m]    │\n",
              "│ (\u001b[38;5;33mBidirectional\u001b[0m)           │                        │                │                        │\n",
              "├───────────────────────────┼────────────────────────┼────────────────┼────────────────────────┤\n",
              "│ conv1d (\u001b[38;5;33mConv1D\u001b[0m)           │ (\u001b[38;5;45mNone\u001b[0m, \u001b[38;5;45mNone\u001b[0m, \u001b[38;5;34m50\u001b[0m)       │          \u001b[38;5;34m6,450\u001b[0m │ bidirectional_1[\u001b[38;5;34m0\u001b[0m][\u001b[38;5;34m0\u001b[0m]  │\n",
              "├───────────────────────────┼────────────────────────┼────────────────┼────────────────────────┤\n",
              "│ conv1d_1 (\u001b[38;5;33mConv1D\u001b[0m)         │ (\u001b[38;5;45mNone\u001b[0m, \u001b[38;5;45mNone\u001b[0m, \u001b[38;5;34m50\u001b[0m)       │          \u001b[38;5;34m9,650\u001b[0m │ bidirectional_1[\u001b[38;5;34m0\u001b[0m][\u001b[38;5;34m0\u001b[0m]  │\n",
              "├───────────────────────────┼────────────────────────┼────────────────┼────────────────────────┤\n",
              "│ conv1d_2 (\u001b[38;5;33mConv1D\u001b[0m)         │ (\u001b[38;5;45mNone\u001b[0m, \u001b[38;5;45mNone\u001b[0m, \u001b[38;5;34m50\u001b[0m)       │         \u001b[38;5;34m12,850\u001b[0m │ bidirectional_1[\u001b[38;5;34m0\u001b[0m][\u001b[38;5;34m0\u001b[0m]  │\n",
              "├───────────────────────────┼────────────────────────┼────────────────┼────────────────────────┤\n",
              "│ global_max_pooling1d      │ (\u001b[38;5;45mNone\u001b[0m, \u001b[38;5;34m50\u001b[0m)             │              \u001b[38;5;34m0\u001b[0m │ conv1d[\u001b[38;5;34m0\u001b[0m][\u001b[38;5;34m0\u001b[0m]           │\n",
              "│ (\u001b[38;5;33mGlobalMaxPooling1D\u001b[0m)      │                        │                │                        │\n",
              "├───────────────────────────┼────────────────────────┼────────────────┼────────────────────────┤\n",
              "│ global_max_pooling1d_1    │ (\u001b[38;5;45mNone\u001b[0m, \u001b[38;5;34m50\u001b[0m)             │              \u001b[38;5;34m0\u001b[0m │ conv1d_1[\u001b[38;5;34m0\u001b[0m][\u001b[38;5;34m0\u001b[0m]         │\n",
              "│ (\u001b[38;5;33mGlobalMaxPooling1D\u001b[0m)      │                        │                │                        │\n",
              "├───────────────────────────┼────────────────────────┼────────────────┼────────────────────────┤\n",
              "│ global_max_pooling1d_2    │ (\u001b[38;5;45mNone\u001b[0m, \u001b[38;5;34m50\u001b[0m)             │              \u001b[38;5;34m0\u001b[0m │ conv1d_2[\u001b[38;5;34m0\u001b[0m][\u001b[38;5;34m0\u001b[0m]         │\n",
              "│ (\u001b[38;5;33mGlobalMaxPooling1D\u001b[0m)      │                        │                │                        │\n",
              "├───────────────────────────┼────────────────────────┼────────────────┼────────────────────────┤\n",
              "│ concatenate (\u001b[38;5;33mConcatenate\u001b[0m) │ (\u001b[38;5;45mNone\u001b[0m, \u001b[38;5;34m150\u001b[0m)            │              \u001b[38;5;34m0\u001b[0m │ global_max_pooling1d[\u001b[38;5;34m…\u001b[0m │\n",
              "│                           │                        │                │ global_max_pooling1d_… │\n",
              "│                           │                        │                │ global_max_pooling1d_… │\n",
              "├───────────────────────────┼────────────────────────┼────────────────┼────────────────────────┤\n",
              "│ dense (\u001b[38;5;33mDense\u001b[0m)             │ (\u001b[38;5;45mNone\u001b[0m, \u001b[38;5;34m4\u001b[0m)              │            \u001b[38;5;34m604\u001b[0m │ concatenate[\u001b[38;5;34m0\u001b[0m][\u001b[38;5;34m0\u001b[0m]      │\n",
              "└───────────────────────────┴────────────────────────┴────────────────┴────────────────────────┘\n"
            ],
            "text/html": [
              "<pre style=\"white-space:pre;overflow-x:auto;line-height:normal;font-family:Menlo,'DejaVu Sans Mono',consolas,'Courier New',monospace\">┏━━━━━━━━━━━━━━━━━━━━━━━━━━━┳━━━━━━━━━━━━━━━━━━━━━━━━┳━━━━━━━━━━━━━━━━┳━━━━━━━━━━━━━━━━━━━━━━━━┓\n",
              "┃<span style=\"font-weight: bold\"> Layer (type)              </span>┃<span style=\"font-weight: bold\"> Output Shape           </span>┃<span style=\"font-weight: bold\">        Param # </span>┃<span style=\"font-weight: bold\"> Connected to           </span>┃\n",
              "┡━━━━━━━━━━━━━━━━━━━━━━━━━━━╇━━━━━━━━━━━━━━━━━━━━━━━━╇━━━━━━━━━━━━━━━━╇━━━━━━━━━━━━━━━━━━━━━━━━┩\n",
              "│ input_layer (<span style=\"color: #0087ff; text-decoration-color: #0087ff\">InputLayer</span>)  │ (<span style=\"color: #00d7ff; text-decoration-color: #00d7ff\">None</span>, <span style=\"color: #00d7ff; text-decoration-color: #00d7ff\">None</span>)           │              <span style=\"color: #00af00; text-decoration-color: #00af00\">0</span> │ -                      │\n",
              "├───────────────────────────┼────────────────────────┼────────────────┼────────────────────────┤\n",
              "│ embedding (<span style=\"color: #0087ff; text-decoration-color: #0087ff\">Embedding</span>)     │ (<span style=\"color: #00d7ff; text-decoration-color: #00d7ff\">None</span>, <span style=\"color: #00d7ff; text-decoration-color: #00d7ff\">None</span>, <span style=\"color: #00af00; text-decoration-color: #00af00\">300</span>)      │      <span style=\"color: #00af00; text-decoration-color: #00af00\">6,000,600</span> │ input_layer[<span style=\"color: #00af00; text-decoration-color: #00af00\">0</span>][<span style=\"color: #00af00; text-decoration-color: #00af00\">0</span>]      │\n",
              "├───────────────────────────┼────────────────────────┼────────────────┼────────────────────────┤\n",
              "│ bidirectional             │ (<span style=\"color: #00d7ff; text-decoration-color: #00d7ff\">None</span>, <span style=\"color: #00d7ff; text-decoration-color: #00d7ff\">None</span>, <span style=\"color: #00af00; text-decoration-color: #00af00\">64</span>)       │         <span style=\"color: #00af00; text-decoration-color: #00af00\">85,248</span> │ embedding[<span style=\"color: #00af00; text-decoration-color: #00af00\">0</span>][<span style=\"color: #00af00; text-decoration-color: #00af00\">0</span>]        │\n",
              "│ (<span style=\"color: #0087ff; text-decoration-color: #0087ff\">Bidirectional</span>)           │                        │                │                        │\n",
              "├───────────────────────────┼────────────────────────┼────────────────┼────────────────────────┤\n",
              "│ bidirectional_1           │ (<span style=\"color: #00d7ff; text-decoration-color: #00d7ff\">None</span>, <span style=\"color: #00d7ff; text-decoration-color: #00d7ff\">None</span>, <span style=\"color: #00af00; text-decoration-color: #00af00\">64</span>)       │         <span style=\"color: #00af00; text-decoration-color: #00af00\">24,832</span> │ bidirectional[<span style=\"color: #00af00; text-decoration-color: #00af00\">0</span>][<span style=\"color: #00af00; text-decoration-color: #00af00\">0</span>]    │\n",
              "│ (<span style=\"color: #0087ff; text-decoration-color: #0087ff\">Bidirectional</span>)           │                        │                │                        │\n",
              "├───────────────────────────┼────────────────────────┼────────────────┼────────────────────────┤\n",
              "│ conv1d (<span style=\"color: #0087ff; text-decoration-color: #0087ff\">Conv1D</span>)           │ (<span style=\"color: #00d7ff; text-decoration-color: #00d7ff\">None</span>, <span style=\"color: #00d7ff; text-decoration-color: #00d7ff\">None</span>, <span style=\"color: #00af00; text-decoration-color: #00af00\">50</span>)       │          <span style=\"color: #00af00; text-decoration-color: #00af00\">6,450</span> │ bidirectional_1[<span style=\"color: #00af00; text-decoration-color: #00af00\">0</span>][<span style=\"color: #00af00; text-decoration-color: #00af00\">0</span>]  │\n",
              "├───────────────────────────┼────────────────────────┼────────────────┼────────────────────────┤\n",
              "│ conv1d_1 (<span style=\"color: #0087ff; text-decoration-color: #0087ff\">Conv1D</span>)         │ (<span style=\"color: #00d7ff; text-decoration-color: #00d7ff\">None</span>, <span style=\"color: #00d7ff; text-decoration-color: #00d7ff\">None</span>, <span style=\"color: #00af00; text-decoration-color: #00af00\">50</span>)       │          <span style=\"color: #00af00; text-decoration-color: #00af00\">9,650</span> │ bidirectional_1[<span style=\"color: #00af00; text-decoration-color: #00af00\">0</span>][<span style=\"color: #00af00; text-decoration-color: #00af00\">0</span>]  │\n",
              "├───────────────────────────┼────────────────────────┼────────────────┼────────────────────────┤\n",
              "│ conv1d_2 (<span style=\"color: #0087ff; text-decoration-color: #0087ff\">Conv1D</span>)         │ (<span style=\"color: #00d7ff; text-decoration-color: #00d7ff\">None</span>, <span style=\"color: #00d7ff; text-decoration-color: #00d7ff\">None</span>, <span style=\"color: #00af00; text-decoration-color: #00af00\">50</span>)       │         <span style=\"color: #00af00; text-decoration-color: #00af00\">12,850</span> │ bidirectional_1[<span style=\"color: #00af00; text-decoration-color: #00af00\">0</span>][<span style=\"color: #00af00; text-decoration-color: #00af00\">0</span>]  │\n",
              "├───────────────────────────┼────────────────────────┼────────────────┼────────────────────────┤\n",
              "│ global_max_pooling1d      │ (<span style=\"color: #00d7ff; text-decoration-color: #00d7ff\">None</span>, <span style=\"color: #00af00; text-decoration-color: #00af00\">50</span>)             │              <span style=\"color: #00af00; text-decoration-color: #00af00\">0</span> │ conv1d[<span style=\"color: #00af00; text-decoration-color: #00af00\">0</span>][<span style=\"color: #00af00; text-decoration-color: #00af00\">0</span>]           │\n",
              "│ (<span style=\"color: #0087ff; text-decoration-color: #0087ff\">GlobalMaxPooling1D</span>)      │                        │                │                        │\n",
              "├───────────────────────────┼────────────────────────┼────────────────┼────────────────────────┤\n",
              "│ global_max_pooling1d_1    │ (<span style=\"color: #00d7ff; text-decoration-color: #00d7ff\">None</span>, <span style=\"color: #00af00; text-decoration-color: #00af00\">50</span>)             │              <span style=\"color: #00af00; text-decoration-color: #00af00\">0</span> │ conv1d_1[<span style=\"color: #00af00; text-decoration-color: #00af00\">0</span>][<span style=\"color: #00af00; text-decoration-color: #00af00\">0</span>]         │\n",
              "│ (<span style=\"color: #0087ff; text-decoration-color: #0087ff\">GlobalMaxPooling1D</span>)      │                        │                │                        │\n",
              "├───────────────────────────┼────────────────────────┼────────────────┼────────────────────────┤\n",
              "│ global_max_pooling1d_2    │ (<span style=\"color: #00d7ff; text-decoration-color: #00d7ff\">None</span>, <span style=\"color: #00af00; text-decoration-color: #00af00\">50</span>)             │              <span style=\"color: #00af00; text-decoration-color: #00af00\">0</span> │ conv1d_2[<span style=\"color: #00af00; text-decoration-color: #00af00\">0</span>][<span style=\"color: #00af00; text-decoration-color: #00af00\">0</span>]         │\n",
              "│ (<span style=\"color: #0087ff; text-decoration-color: #0087ff\">GlobalMaxPooling1D</span>)      │                        │                │                        │\n",
              "├───────────────────────────┼────────────────────────┼────────────────┼────────────────────────┤\n",
              "│ concatenate (<span style=\"color: #0087ff; text-decoration-color: #0087ff\">Concatenate</span>) │ (<span style=\"color: #00d7ff; text-decoration-color: #00d7ff\">None</span>, <span style=\"color: #00af00; text-decoration-color: #00af00\">150</span>)            │              <span style=\"color: #00af00; text-decoration-color: #00af00\">0</span> │ global_max_pooling1d[<span style=\"color: #00af00; text-decoration-color: #00af00\">…</span> │\n",
              "│                           │                        │                │ global_max_pooling1d_… │\n",
              "│                           │                        │                │ global_max_pooling1d_… │\n",
              "├───────────────────────────┼────────────────────────┼────────────────┼────────────────────────┤\n",
              "│ dense (<span style=\"color: #0087ff; text-decoration-color: #0087ff\">Dense</span>)             │ (<span style=\"color: #00d7ff; text-decoration-color: #00d7ff\">None</span>, <span style=\"color: #00af00; text-decoration-color: #00af00\">4</span>)              │            <span style=\"color: #00af00; text-decoration-color: #00af00\">604</span> │ concatenate[<span style=\"color: #00af00; text-decoration-color: #00af00\">0</span>][<span style=\"color: #00af00; text-decoration-color: #00af00\">0</span>]      │\n",
              "└───────────────────────────┴────────────────────────┴────────────────┴────────────────────────┘\n",
              "</pre>\n"
            ]
          },
          "metadata": {}
        },
        {
          "output_type": "display_data",
          "data": {
            "text/plain": [
              "\u001b[1m Total params: \u001b[0m\u001b[38;5;34m6,140,234\u001b[0m (23.42 MB)\n"
            ],
            "text/html": [
              "<pre style=\"white-space:pre;overflow-x:auto;line-height:normal;font-family:Menlo,'DejaVu Sans Mono',consolas,'Courier New',monospace\"><span style=\"font-weight: bold\"> Total params: </span><span style=\"color: #00af00; text-decoration-color: #00af00\">6,140,234</span> (23.42 MB)\n",
              "</pre>\n"
            ]
          },
          "metadata": {}
        },
        {
          "output_type": "display_data",
          "data": {
            "text/plain": [
              "\u001b[1m Trainable params: \u001b[0m\u001b[38;5;34m139,634\u001b[0m (545.45 KB)\n"
            ],
            "text/html": [
              "<pre style=\"white-space:pre;overflow-x:auto;line-height:normal;font-family:Menlo,'DejaVu Sans Mono',consolas,'Courier New',monospace\"><span style=\"font-weight: bold\"> Trainable params: </span><span style=\"color: #00af00; text-decoration-color: #00af00\">139,634</span> (545.45 KB)\n",
              "</pre>\n"
            ]
          },
          "metadata": {}
        },
        {
          "output_type": "display_data",
          "data": {
            "text/plain": [
              "\u001b[1m Non-trainable params: \u001b[0m\u001b[38;5;34m6,000,600\u001b[0m (22.89 MB)\n"
            ],
            "text/html": [
              "<pre style=\"white-space:pre;overflow-x:auto;line-height:normal;font-family:Menlo,'DejaVu Sans Mono',consolas,'Courier New',monospace\"><span style=\"font-weight: bold\"> Non-trainable params: </span><span style=\"color: #00af00; text-decoration-color: #00af00\">6,000,600</span> (22.89 MB)\n",
              "</pre>\n"
            ]
          },
          "metadata": {}
        }
      ]
    },
    {
      "cell_type": "markdown",
      "source": [
        "## Training & Evaluation"
      ],
      "metadata": {
        "id": "hEd2acyhRAbk"
      }
    },
    {
      "cell_type": "code",
      "source": [
        "reps = 5\n",
        "lr = 6e-4\n",
        "epochs = 10\n",
        "\n",
        "histories = []\n",
        "val_accuracy, val_f1score, val_mf1score = [], [], []\n",
        "test_accuracy, test_f1score, test_mf1score = [], [], []\n",
        "for _ in range(reps):\n",
        "  model = create_model(lr)\n",
        "\n",
        "  history = model.fit(x=train_dataset, validation_data=val_dataset, epochs=epochs)\n",
        "  histories.append(history)\n",
        "\n",
        "  _, accuracy, f1score, mf1score = evaluate(model, val_dataset, val_labels)\n",
        "  val_accuracy.append(accuracy)\n",
        "  val_f1score.append(f1score)\n",
        "  val_mf1score.append(mf1score)\n",
        "\n",
        "  _, accuracy, f1score, mf1score = evaluate(model, test_dataset, test_labels)\n",
        "  test_accuracy.append(accuracy)\n",
        "  test_f1score.append(f1score)\n",
        "  test_mf1score.append(mf1score)"
      ],
      "metadata": {
        "id": "soMbSvlrQu0h",
        "colab": {
          "base_uri": "https://localhost:8080/"
        },
        "outputId": "9ac74397-24ef-402a-8850-1e9052bfd9c3"
      },
      "execution_count": null,
      "outputs": [
        {
          "output_type": "stream",
          "name": "stdout",
          "text": [
            "Epoch 1/10\n",
            "\u001b[1m23/23\u001b[0m \u001b[32m━━━━━━━━━━━━━━━━━━━━\u001b[0m\u001b[37m\u001b[0m \u001b[1m9s\u001b[0m 93ms/step - accuracy: 0.4248 - loss: 1.2534 - val_accuracy: 0.5290 - val_loss: 1.1730\n",
            "Epoch 2/10\n",
            "\u001b[1m23/23\u001b[0m \u001b[32m━━━━━━━━━━━━━━━━━━━━\u001b[0m\u001b[37m\u001b[0m \u001b[1m1s\u001b[0m 56ms/step - accuracy: 0.5828 - loss: 1.0156 - val_accuracy: 0.5554 - val_loss: 1.1104\n",
            "Epoch 3/10\n",
            "\u001b[1m23/23\u001b[0m \u001b[32m━━━━━━━━━━━━━━━━━━━━\u001b[0m\u001b[37m\u001b[0m \u001b[1m2s\u001b[0m 33ms/step - accuracy: 0.6665 - loss: 0.8850 - val_accuracy: 0.5888 - val_loss: 1.0387\n",
            "Epoch 4/10\n",
            "\u001b[1m23/23\u001b[0m \u001b[32m━━━━━━━━━━━━━━━━━━━━\u001b[0m\u001b[37m\u001b[0m \u001b[1m1s\u001b[0m 31ms/step - accuracy: 0.7331 - loss: 0.7437 - val_accuracy: 0.6257 - val_loss: 0.9818\n",
            "Epoch 5/10\n",
            "\u001b[1m23/23\u001b[0m \u001b[32m━━━━━━━━━━━━━━━━━━━━\u001b[0m\u001b[37m\u001b[0m \u001b[1m1s\u001b[0m 32ms/step - accuracy: 0.7988 - loss: 0.6006 - val_accuracy: 0.6485 - val_loss: 0.9290\n",
            "Epoch 6/10\n",
            "\u001b[1m23/23\u001b[0m \u001b[32m━━━━━━━━━━━━━━━━━━━━\u001b[0m\u001b[37m\u001b[0m \u001b[1m1s\u001b[0m 40ms/step - accuracy: 0.8509 - loss: 0.4539 - val_accuracy: 0.6977 - val_loss: 0.8874\n",
            "Epoch 7/10\n",
            "\u001b[1m23/23\u001b[0m \u001b[32m━━━━━━━━━━━━━━━━━━━━\u001b[0m\u001b[37m\u001b[0m \u001b[1m1s\u001b[0m 44ms/step - accuracy: 0.9109 - loss: 0.3102 - val_accuracy: 0.7241 - val_loss: 0.9666\n",
            "Epoch 8/10\n",
            "\u001b[1m23/23\u001b[0m \u001b[32m━━━━━━━━━━━━━━━━━━━━\u001b[0m\u001b[37m\u001b[0m \u001b[1m1s\u001b[0m 40ms/step - accuracy: 0.9530 - loss: 0.1956 - val_accuracy: 0.7118 - val_loss: 1.1939\n",
            "Epoch 9/10\n",
            "\u001b[1m23/23\u001b[0m \u001b[32m━━━━━━━━━━━━━━━━━━━━\u001b[0m\u001b[37m\u001b[0m \u001b[1m1s\u001b[0m 31ms/step - accuracy: 0.9601 - loss: 0.1517 - val_accuracy: 0.7170 - val_loss: 1.1988\n",
            "Epoch 10/10\n",
            "\u001b[1m23/23\u001b[0m \u001b[32m━━━━━━━━━━━━━━━━━━━━\u001b[0m\u001b[37m\u001b[0m \u001b[1m1s\u001b[0m 37ms/step - accuracy: 0.9422 - loss: 0.1655 - val_accuracy: 0.7100 - val_loss: 1.0034\n",
            "\u001b[1m5/5\u001b[0m \u001b[32m━━━━━━━━━━━━━━━━━━━━\u001b[0m\u001b[37m\u001b[0m \u001b[1m0s\u001b[0m 12ms/step - accuracy: 0.7129 - loss: 1.0195\n",
            "\u001b[1m5/5\u001b[0m \u001b[32m━━━━━━━━━━━━━━━━━━━━\u001b[0m\u001b[37m\u001b[0m \u001b[1m1s\u001b[0m 105ms/step\n",
            "\u001b[1m6/6\u001b[0m \u001b[32m━━━━━━━━━━━━━━━━━━━━\u001b[0m\u001b[37m\u001b[0m \u001b[1m1s\u001b[0m 104ms/step - accuracy: 0.7716 - loss: 0.7018\n",
            "\u001b[1m6/6\u001b[0m \u001b[32m━━━━━━━━━━━━━━━━━━━━\u001b[0m\u001b[37m\u001b[0m \u001b[1m0s\u001b[0m 32ms/step\n",
            "Epoch 1/10\n",
            "\u001b[1m23/23\u001b[0m \u001b[32m━━━━━━━━━━━━━━━━━━━━\u001b[0m\u001b[37m\u001b[0m \u001b[1m5s\u001b[0m 55ms/step - accuracy: 0.5428 - loss: 1.1152 - val_accuracy: 0.5343 - val_loss: 1.1546\n",
            "Epoch 2/10\n",
            "\u001b[1m23/23\u001b[0m \u001b[32m━━━━━━━━━━━━━━━━━━━━\u001b[0m\u001b[37m\u001b[0m \u001b[1m1s\u001b[0m 36ms/step - accuracy: 0.6184 - loss: 0.9514 - val_accuracy: 0.5817 - val_loss: 1.0766\n",
            "Epoch 3/10\n",
            "\u001b[1m23/23\u001b[0m \u001b[32m━━━━━━━━━━━━━━━━━━━━\u001b[0m\u001b[37m\u001b[0m \u001b[1m1s\u001b[0m 32ms/step - accuracy: 0.7103 - loss: 0.7946 - val_accuracy: 0.6257 - val_loss: 1.0008\n",
            "Epoch 4/10\n",
            "\u001b[1m23/23\u001b[0m \u001b[32m━━━━━━━━━━━━━━━━━━━━\u001b[0m\u001b[37m\u001b[0m \u001b[1m1s\u001b[0m 32ms/step - accuracy: 0.7833 - loss: 0.6320 - val_accuracy: 0.6555 - val_loss: 0.9459\n",
            "Epoch 5/10\n",
            "\u001b[1m23/23\u001b[0m \u001b[32m━━━━━━━━━━━━━━━━━━━━\u001b[0m\u001b[37m\u001b[0m \u001b[1m1s\u001b[0m 33ms/step - accuracy: 0.8376 - loss: 0.4749 - val_accuracy: 0.6854 - val_loss: 0.9396\n",
            "Epoch 6/10\n",
            "\u001b[1m23/23\u001b[0m \u001b[32m━━━━━━━━━━━━━━━━━━━━\u001b[0m\u001b[37m\u001b[0m \u001b[1m1s\u001b[0m 32ms/step - accuracy: 0.9017 - loss: 0.3230 - val_accuracy: 0.7118 - val_loss: 1.0095\n",
            "Epoch 7/10\n",
            "\u001b[1m23/23\u001b[0m \u001b[32m━━━━━━━━━━━━━━━━━━━━\u001b[0m\u001b[37m\u001b[0m \u001b[1m1s\u001b[0m 32ms/step - accuracy: 0.9427 - loss: 0.2062 - val_accuracy: 0.7030 - val_loss: 1.0427\n",
            "Epoch 8/10\n",
            "\u001b[1m23/23\u001b[0m \u001b[32m━━━━━━━━━━━━━━━━━━━━\u001b[0m\u001b[37m\u001b[0m \u001b[1m2s\u001b[0m 45ms/step - accuracy: 0.9476 - loss: 0.1615 - val_accuracy: 0.7364 - val_loss: 1.1738\n",
            "Epoch 9/10\n",
            "\u001b[1m23/23\u001b[0m \u001b[32m━━━━━━━━━━━━━━━━━━━━\u001b[0m\u001b[37m\u001b[0m \u001b[1m1s\u001b[0m 39ms/step - accuracy: 0.9505 - loss: 0.1452 - val_accuracy: 0.7434 - val_loss: 1.2392\n",
            "Epoch 10/10\n",
            "\u001b[1m23/23\u001b[0m \u001b[32m━━━━━━━━━━━━━━━━━━━━\u001b[0m\u001b[37m\u001b[0m \u001b[1m1s\u001b[0m 41ms/step - accuracy: 0.9668 - loss: 0.0950 - val_accuracy: 0.7540 - val_loss: 1.1543\n",
            "\u001b[1m5/5\u001b[0m \u001b[32m━━━━━━━━━━━━━━━━━━━━\u001b[0m\u001b[37m\u001b[0m \u001b[1m0s\u001b[0m 13ms/step - accuracy: 0.7557 - loss: 1.1530\n",
            "\u001b[1m5/5\u001b[0m \u001b[32m━━━━━━━━━━━━━━━━━━━━\u001b[0m\u001b[37m\u001b[0m \u001b[1m1s\u001b[0m 197ms/step\n",
            "\u001b[1m6/6\u001b[0m \u001b[32m━━━━━━━━━━━━━━━━━━━━\u001b[0m\u001b[37m\u001b[0m \u001b[1m0s\u001b[0m 13ms/step - accuracy: 0.8441 - loss: 0.7393\n",
            "\u001b[1m6/6\u001b[0m \u001b[32m━━━━━━━━━━━━━━━━━━━━\u001b[0m\u001b[37m\u001b[0m \u001b[1m0s\u001b[0m 11ms/step\n",
            "Epoch 1/10\n",
            "\u001b[1m23/23\u001b[0m \u001b[32m━━━━━━━━━━━━━━━━━━━━\u001b[0m\u001b[37m\u001b[0m \u001b[1m5s\u001b[0m 57ms/step - accuracy: 0.4875 - loss: 1.2313 - val_accuracy: 0.5343 - val_loss: 1.1697\n",
            "Epoch 2/10\n",
            "\u001b[1m23/23\u001b[0m \u001b[32m━━━━━━━━━━━━━━━━━━━━\u001b[0m\u001b[37m\u001b[0m \u001b[1m2s\u001b[0m 34ms/step - accuracy: 0.6034 - loss: 1.0025 - val_accuracy: 0.5624 - val_loss: 1.0986\n",
            "Epoch 3/10\n",
            "\u001b[1m23/23\u001b[0m \u001b[32m━━━━━━━━━━━━━━━━━━━━\u001b[0m\u001b[37m\u001b[0m \u001b[1m1s\u001b[0m 32ms/step - accuracy: 0.6726 - loss: 0.8573 - val_accuracy: 0.6221 - val_loss: 1.0125\n",
            "Epoch 4/10\n",
            "\u001b[1m23/23\u001b[0m \u001b[32m━━━━━━━━━━━━━━━━━━━━\u001b[0m\u001b[37m\u001b[0m \u001b[1m1s\u001b[0m 37ms/step - accuracy: 0.7620 - loss: 0.6821 - val_accuracy: 0.6643 - val_loss: 0.9558\n",
            "Epoch 5/10\n",
            "\u001b[1m23/23\u001b[0m \u001b[32m━━━━━━━━━━━━━━━━━━━━\u001b[0m\u001b[37m\u001b[0m \u001b[1m1s\u001b[0m 40ms/step - accuracy: 0.8242 - loss: 0.5173 - val_accuracy: 0.6977 - val_loss: 0.9165\n",
            "Epoch 6/10\n",
            "\u001b[1m23/23\u001b[0m \u001b[32m━━━━━━━━━━━━━━━━━━━━\u001b[0m\u001b[37m\u001b[0m \u001b[1m1s\u001b[0m 33ms/step - accuracy: 0.8874 - loss: 0.3604 - val_accuracy: 0.7135 - val_loss: 0.9313\n",
            "Epoch 7/10\n",
            "\u001b[1m23/23\u001b[0m \u001b[32m━━━━━━━━━━━━━━━━━━━━\u001b[0m\u001b[37m\u001b[0m \u001b[1m1s\u001b[0m 33ms/step - accuracy: 0.9297 - loss: 0.2491 - val_accuracy: 0.7047 - val_loss: 1.1404\n",
            "Epoch 8/10\n",
            "\u001b[1m23/23\u001b[0m \u001b[32m━━━━━━━━━━━━━━━━━━━━\u001b[0m\u001b[37m\u001b[0m \u001b[1m1s\u001b[0m 32ms/step - accuracy: 0.9282 - loss: 0.2230 - val_accuracy: 0.7364 - val_loss: 1.0151\n",
            "Epoch 9/10\n",
            "\u001b[1m23/23\u001b[0m \u001b[32m━━━━━━━━━━━━━━━━━━━━\u001b[0m\u001b[37m\u001b[0m \u001b[1m1s\u001b[0m 33ms/step - accuracy: 0.9613 - loss: 0.1348 - val_accuracy: 0.6854 - val_loss: 1.2381\n",
            "Epoch 10/10\n",
            "\u001b[1m23/23\u001b[0m \u001b[32m━━━━━━━━━━━━━━━━━━━━\u001b[0m\u001b[37m\u001b[0m \u001b[1m1s\u001b[0m 32ms/step - accuracy: 0.9543 - loss: 0.1386 - val_accuracy: 0.7575 - val_loss: 1.2326\n",
            "\u001b[1m5/5\u001b[0m \u001b[32m━━━━━━━━━━━━━━━━━━━━\u001b[0m\u001b[37m\u001b[0m \u001b[1m0s\u001b[0m 13ms/step - accuracy: 0.7579 - loss: 1.3125\n",
            "\u001b[1m5/5\u001b[0m \u001b[32m━━━━━━━━━━━━━━━━━━━━\u001b[0m\u001b[37m\u001b[0m \u001b[1m1s\u001b[0m 92ms/step\n",
            "\u001b[1m6/6\u001b[0m \u001b[32m━━━━━━━━━━━━━━━━━━━━\u001b[0m\u001b[37m\u001b[0m \u001b[1m0s\u001b[0m 13ms/step - accuracy: 0.8509 - loss: 0.7406\n",
            "\u001b[1m6/6\u001b[0m \u001b[32m━━━━━━━━━━━━━━━━━━━━\u001b[0m\u001b[37m\u001b[0m \u001b[1m0s\u001b[0m 11ms/step\n",
            "Epoch 1/10\n",
            "\u001b[1m23/23\u001b[0m \u001b[32m━━━━━━━━━━━━━━━━━━━━\u001b[0m\u001b[37m\u001b[0m \u001b[1m5s\u001b[0m 63ms/step - accuracy: 0.4227 - loss: 1.2601 - val_accuracy: 0.5237 - val_loss: 1.1774\n",
            "Epoch 2/10\n",
            "\u001b[1m23/23\u001b[0m \u001b[32m━━━━━━━━━━━━━━━━━━━━\u001b[0m\u001b[37m\u001b[0m \u001b[1m2s\u001b[0m 38ms/step - accuracy: 0.5925 - loss: 1.0152 - val_accuracy: 0.5431 - val_loss: 1.1098\n",
            "Epoch 3/10\n",
            "\u001b[1m23/23\u001b[0m \u001b[32m━━━━━━━━━━━━━━━━━━━━\u001b[0m\u001b[37m\u001b[0m \u001b[1m1s\u001b[0m 34ms/step - accuracy: 0.6440 - loss: 0.8922 - val_accuracy: 0.5694 - val_loss: 1.0443\n",
            "Epoch 4/10\n",
            "\u001b[1m23/23\u001b[0m \u001b[32m━━━━━━━━━━━━━━━━━━━━\u001b[0m\u001b[37m\u001b[0m \u001b[1m1s\u001b[0m 33ms/step - accuracy: 0.7199 - loss: 0.7561 - val_accuracy: 0.6134 - val_loss: 0.9993\n",
            "Epoch 5/10\n",
            "\u001b[1m23/23\u001b[0m \u001b[32m━━━━━━━━━━━━━━━━━━━━\u001b[0m\u001b[37m\u001b[0m \u001b[1m1s\u001b[0m 33ms/step - accuracy: 0.7777 - loss: 0.6172 - val_accuracy: 0.6714 - val_loss: 0.9408\n",
            "Epoch 6/10\n",
            "\u001b[1m23/23\u001b[0m \u001b[32m━━━━━━━━━━━━━━━━━━━━\u001b[0m\u001b[37m\u001b[0m \u001b[1m1s\u001b[0m 33ms/step - accuracy: 0.8429 - loss: 0.4635 - val_accuracy: 0.7083 - val_loss: 0.9233\n",
            "Epoch 7/10\n",
            "\u001b[1m23/23\u001b[0m \u001b[32m━━━━━━━━━━━━━━━━━━━━\u001b[0m\u001b[37m\u001b[0m \u001b[1m2s\u001b[0m 47ms/step - accuracy: 0.9101 - loss: 0.3136 - val_accuracy: 0.7434 - val_loss: 0.9384\n",
            "Epoch 8/10\n",
            "\u001b[1m23/23\u001b[0m \u001b[32m━━━━━━━━━━━━━━━━━━━━\u001b[0m\u001b[37m\u001b[0m \u001b[1m1s\u001b[0m 33ms/step - accuracy: 0.9437 - loss: 0.2018 - val_accuracy: 0.7065 - val_loss: 1.2303\n",
            "Epoch 9/10\n",
            "\u001b[1m23/23\u001b[0m \u001b[32m━━━━━━━━━━━━━━━━━━━━\u001b[0m\u001b[37m\u001b[0m \u001b[1m1s\u001b[0m 32ms/step - accuracy: 0.9457 - loss: 0.1691 - val_accuracy: 0.7487 - val_loss: 0.9906\n",
            "Epoch 10/10\n",
            "\u001b[1m23/23\u001b[0m \u001b[32m━━━━━━━━━━━━━━━━━━━━\u001b[0m\u001b[37m\u001b[0m \u001b[1m1s\u001b[0m 33ms/step - accuracy: 0.9615 - loss: 0.1278 - val_accuracy: 0.7364 - val_loss: 1.1147\n",
            "\u001b[1m5/5\u001b[0m \u001b[32m━━━━━━━━━━━━━━━━━━━━\u001b[0m\u001b[37m\u001b[0m \u001b[1m0s\u001b[0m 12ms/step - accuracy: 0.7456 - loss: 1.1423\n",
            "\u001b[1m5/5\u001b[0m \u001b[32m━━━━━━━━━━━━━━━━━━━━\u001b[0m\u001b[37m\u001b[0m \u001b[1m1s\u001b[0m 94ms/step\n",
            "\u001b[1m6/6\u001b[0m \u001b[32m━━━━━━━━━━━━━━━━━━━━\u001b[0m\u001b[37m\u001b[0m \u001b[1m0s\u001b[0m 13ms/step - accuracy: 0.8449 - loss: 0.6618\n",
            "\u001b[1m6/6\u001b[0m \u001b[32m━━━━━━━━━━━━━━━━━━━━\u001b[0m\u001b[37m\u001b[0m \u001b[1m0s\u001b[0m 11ms/step\n",
            "Epoch 1/10\n",
            "\u001b[1m23/23\u001b[0m \u001b[32m━━━━━━━━━━━━━━━━━━━━\u001b[0m\u001b[37m\u001b[0m \u001b[1m6s\u001b[0m 60ms/step - accuracy: 0.4156 - loss: 1.2427 - val_accuracy: 0.5220 - val_loss: 1.1825\n",
            "Epoch 2/10\n",
            "\u001b[1m23/23\u001b[0m \u001b[32m━━━━━━━━━━━━━━━━━━━━\u001b[0m\u001b[37m\u001b[0m \u001b[1m2s\u001b[0m 32ms/step - accuracy: 0.5968 - loss: 1.0098 - val_accuracy: 0.5483 - val_loss: 1.1060\n",
            "Epoch 3/10\n",
            "\u001b[1m23/23\u001b[0m \u001b[32m━━━━━━━━━━━━━━━━━━━━\u001b[0m\u001b[37m\u001b[0m \u001b[1m1s\u001b[0m 32ms/step - accuracy: 0.6813 - loss: 0.8623 - val_accuracy: 0.6011 - val_loss: 1.0161\n",
            "Epoch 4/10\n",
            "\u001b[1m23/23\u001b[0m \u001b[32m━━━━━━━━━━━━━━━━━━━━\u001b[0m\u001b[37m\u001b[0m \u001b[1m1s\u001b[0m 32ms/step - accuracy: 0.7654 - loss: 0.7027 - val_accuracy: 0.6344 - val_loss: 0.9443\n",
            "Epoch 5/10\n",
            "\u001b[1m23/23\u001b[0m \u001b[32m━━━━━━━━━━━━━━━━━━━━\u001b[0m\u001b[37m\u001b[0m \u001b[1m1s\u001b[0m 32ms/step - accuracy: 0.8135 - loss: 0.5476 - val_accuracy: 0.6872 - val_loss: 0.8848\n",
            "Epoch 6/10\n",
            "\u001b[1m23/23\u001b[0m \u001b[32m━━━━━━━━━━━━━━━━━━━━\u001b[0m\u001b[37m\u001b[0m \u001b[1m1s\u001b[0m 32ms/step - accuracy: 0.8769 - loss: 0.3877 - val_accuracy: 0.7241 - val_loss: 0.8680\n",
            "Epoch 7/10\n",
            "\u001b[1m23/23\u001b[0m \u001b[32m━━━━━━━━━━━━━━━━━━━━\u001b[0m\u001b[37m\u001b[0m \u001b[1m1s\u001b[0m 31ms/step - accuracy: 0.9298 - loss: 0.2442 - val_accuracy: 0.7469 - val_loss: 0.9414\n",
            "Epoch 8/10\n",
            "\u001b[1m23/23\u001b[0m \u001b[32m━━━━━━━━━━━━━━━━━━━━\u001b[0m\u001b[37m\u001b[0m \u001b[1m1s\u001b[0m 32ms/step - accuracy: 0.9568 - loss: 0.1620 - val_accuracy: 0.7417 - val_loss: 1.0451\n",
            "Epoch 9/10\n",
            "\u001b[1m23/23\u001b[0m \u001b[32m━━━━━━━━━━━━━━━━━━━━\u001b[0m\u001b[37m\u001b[0m \u001b[1m1s\u001b[0m 38ms/step - accuracy: 0.9463 - loss: 0.1676 - val_accuracy: 0.7223 - val_loss: 1.1560\n",
            "Epoch 10/10\n",
            "\u001b[1m23/23\u001b[0m \u001b[32m━━━━━━━━━━━━━━━━━━━━\u001b[0m\u001b[37m\u001b[0m \u001b[1m1s\u001b[0m 40ms/step - accuracy: 0.9573 - loss: 0.1514 - val_accuracy: 0.7399 - val_loss: 1.1829\n",
            "\u001b[1m5/5\u001b[0m \u001b[32m━━━━━━━━━━━━━━━━━━━━\u001b[0m\u001b[37m\u001b[0m \u001b[1m0s\u001b[0m 17ms/step - accuracy: 0.7457 - loss: 1.2250\n",
            "\u001b[1m5/5\u001b[0m \u001b[32m━━━━━━━━━━━━━━━━━━━━\u001b[0m\u001b[37m\u001b[0m \u001b[1m1s\u001b[0m 90ms/step\n",
            "\u001b[1m6/6\u001b[0m \u001b[32m━━━━━━━━━━━━━━━━━━━━\u001b[0m\u001b[37m\u001b[0m \u001b[1m0s\u001b[0m 14ms/step - accuracy: 0.8446 - loss: 0.7501\n",
            "\u001b[1m6/6\u001b[0m \u001b[32m━━━━━━━━━━━━━━━━━━━━\u001b[0m\u001b[37m\u001b[0m \u001b[1m0s\u001b[0m 10ms/step\n"
          ]
        }
      ]
    },
    {
      "cell_type": "markdown",
      "source": [
        "**Overfitting Analysis**  \n",
        "The gap between training and validation performance indicates that the model is overfitting the training data. Several factors contribute to this issue:\n",
        "1. **Insufficient Data**: The relatively small training dataset of 2848 instances is insufficient for the model to learn the intricate nuances of the task, particularly given its inherent complexity.\n",
        "2. **Task Complexity:** The 'disagree' and 'discuss' classes pose significant challenges due to their subtle distinctions. While 'unrelated' and 'agree' classes can often be identified through simple textual similarity, 'disagree' and 'discuss' require deeper semantic understanding and the ability to detect complex linguistic cues:\n",
        "   - **Discuss class:** Discussing involves giving more details and different viewpoints.\n",
        "   - **Disagree class:** Disagreement could involve simple negation terms or more complex negations like changing dates, quantities, or introducing opposing concepts (e.g. Sky is Blue vs. Sky is Black).\n",
        "\n",
        "3. **Annotation Errors:** Manual inspection has revealed a non-negligible number of misannotations, further complicating the learning process.\n",
        "4. **Language Challenges:** Arabic, the language of the dataset, presents additional complexities due to its rich morphology and diverse dialects.\n",
        "5. **Class Imbalance:** The 'unrelated' class significantly outnumbers the other classes. Additionally, the 'disagree' and 'discuss' classes are underrepresented compared to the 'agree' and 'unrelated' classes. The relative lower representations of the 'discuss' and 'disagree' classes across the three sets exacerbates the classification challenge.\n",
        "\n",
        "![image not found](tab_arastance.png)\n",
        "\n",
        "**Mitigating Overfitting**  \n",
        "While regularization techniques and early stopping may have limited effectiveness, addressing the underlying data limitations is crucial:\n",
        "1. **Data Augmentation:** Explore techniques like back-translation, synonym replacement, and text generation to artificially expand the dataset.\n",
        "2. **Transfer Learning:** Leverage pre-trained language models to incorporate prior knowledge and improve generalization.\n",
        "3. **Ensemble Methods:** Combine multiple models to reduce variance and improve overall performance.\n",
        "\n"
      ],
      "metadata": {
        "id": "_-ToEKyVrNaa"
      }
    },
    {
      "cell_type": "markdown",
      "source": [
        "### Results"
      ],
      "metadata": {
        "id": "QC_OfrPdREo1"
      }
    },
    {
      "cell_type": "code",
      "source": [
        "print(\"Validation Resutls:\")\n",
        "print(\"=====================\")\n",
        "print(f\"Mean Accuracy: {np.mean(val_accuracy):.3f}\")\n",
        "agree, disagree, discuss, unrelated = np.mean(val_f1score, axis=0)\n",
        "print(\"Mean Per Class F1 scores:\")\n",
        "print(f\"Agree   : {agree:.3f}\")\n",
        "print(f\"Disagree: {disagree:.3f}\")\n",
        "print(f\"Discuss : {discuss:.3f}\")\n",
        "print(f\"Unrelated: {unrelated:.3f}\")\n",
        "print(f\"Mean Macro F1 scores: {np.mean(val_mf1score):.3f}\")"
      ],
      "metadata": {
        "colab": {
          "base_uri": "https://localhost:8080/"
        },
        "id": "2JUotlvDRFSp",
        "outputId": "6dc4cd9e-fe4b-4fba-841f-ea346e07e351"
      },
      "execution_count": null,
      "outputs": [
        {
          "output_type": "stream",
          "name": "stdout",
          "text": [
            "Validation Resutls:\n",
            "=====================\n",
            "Mean Accuracy: 0.740\n",
            "Mean Per Class F1 scores:\n",
            "Agree   : 0.712\n",
            "Disagree: 0.667\n",
            "Discuss : 0.443\n",
            "Unrelated: 0.832\n",
            "Mean Macro F1 scores: 0.663\n"
          ]
        }
      ]
    },
    {
      "cell_type": "code",
      "source": [
        "print(\"Testing Resutls:\")\n",
        "print(\"=====================\")\n",
        "print(f\"Mean Accuracy: {np.mean(test_accuracy):.3f}\")\n",
        "agree, disagree, discuss, unrelated = np.mean(test_f1score, axis=0)\n",
        "print(\"Mean Per Class F1 scores:\")\n",
        "print(f\"Agree   : {agree:.3f}\")\n",
        "print(f\"Disagree: {disagree:.3f}\")\n",
        "print(f\"Discuss : {discuss:.3f}\")\n",
        "print(f\"Unrelated: {unrelated:.3f}\")\n",
        "print(f\"Mean Macro F1 scores: {np.mean(test_mf1score):.3f}\")"
      ],
      "metadata": {
        "colab": {
          "base_uri": "https://localhost:8080/"
        },
        "id": "G7On0LroRMzO",
        "outputId": "a1b20941-ecd1-454d-c8c3-8f36c5f2f7f5"
      },
      "execution_count": null,
      "outputs": [
        {
          "output_type": "stream",
          "name": "stdout",
          "text": [
            "Testing Resutls:\n",
            "=====================\n",
            "Mean Accuracy: 0.794\n",
            "Mean Per Class F1 scores:\n",
            "Agree   : 0.772\n",
            "Disagree: 0.701\n",
            "Discuss : 0.459\n",
            "Unrelated: 0.874\n",
            "Mean Macro F1 scores: 0.702\n"
          ]
        }
      ]
    }
  ]
}
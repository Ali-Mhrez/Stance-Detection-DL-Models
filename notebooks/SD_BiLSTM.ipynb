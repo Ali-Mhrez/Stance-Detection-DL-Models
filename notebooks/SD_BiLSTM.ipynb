{
  "nbformat": 4,
  "nbformat_minor": 0,
  "metadata": {
    "colab": {
      "provenance": [],
      "gpuType": "T4"
    },
    "kernelspec": {
      "name": "python3",
      "display_name": "Python 3"
    },
    "language_info": {
      "name": "python"
    },
    "accelerator": "GPU"
  },
  "cells": [
    {
      "cell_type": "markdown",
      "source": [
        "# Stance Detection Using Bidirectional Long Short-Term Memory\n",
        "\n",
        "`Bidirectional Long Short-Term Memory`  \n",
        "`AraVec Word Vectors`  \n",
        "`AraStance Dataset`  \n",
        "`Stance Detection` `Arabic Language` `Transfer Learning`\n",
        "\n",
        "---\n",
        "\n",
        "In this notebook, we rely on a very simple bidirectional long short-term memory to classify the stances of the articles in the AraStance dataset. The dataset was introduced in the paper:\n",
        "```\n",
        "AraStance: A Multi-Country and Multi-Domain Dataset of Arabic Stance Detection for Fact Checking.\n",
        "```\n",
        "The pretrained vectors (AraVec project) was introduced in the paper:\n",
        "```\n",
        "AraVec: A set of Arabic Word Embedding Models for use in Arabic NLP.\n",
        "```"
      ],
      "metadata": {
        "id": "5H1RrMEJPOXN"
      }
    },
    {
      "cell_type": "markdown",
      "source": [
        "## Packages"
      ],
      "metadata": {
        "id": "ze1WVX-tPTs0"
      }
    },
    {
      "cell_type": "code",
      "execution_count": null,
      "metadata": {
        "id": "uTVzv6NOPIow"
      },
      "outputs": [],
      "source": [
        "!pip install gensim\n",
        "!pip install pyarabic"
      ]
    },
    {
      "cell_type": "code",
      "source": [
        "import gensim\n",
        "import numpy as np\n",
        "import tensorflow as tf\n",
        "from matplotlib import pyplot as plt\n",
        "from sklearn.metrics import confusion_matrix, ConfusionMatrixDisplay\n",
        "from preprocessing import *\n",
        "from utils import AraStanceData, evaluate, stance_to_int"
      ],
      "metadata": {
        "id": "MXI8hIO7RXdp"
      },
      "execution_count": null,
      "outputs": []
    },
    {
      "cell_type": "markdown",
      "source": [
        "## Raw data"
      ],
      "metadata": {
        "id": "xgjr5SIkPbgP"
      }
    },
    {
      "cell_type": "markdown",
      "source": [
        "- Download the raw data:\n",
        "\n"
      ],
      "metadata": {
        "id": "veGgEXfZbS6D"
      }
    },
    {
      "cell_type": "code",
      "source": [
        "!wget https://github.com/Tariq60/arastance/archive/refs/heads/main.zip\n",
        "!unzip /content/main.zip"
      ],
      "metadata": {
        "id": "BZL5h8rmPiPX"
      },
      "execution_count": null,
      "outputs": []
    },
    {
      "cell_type": "markdown",
      "source": [
        "- Let's start by reading the raw data:"
      ],
      "metadata": {
        "id": "RPMF6e2qbWt8"
      }
    },
    {
      "cell_type": "code",
      "source": [
        "raw_train = AraStanceData(\"/content/arastance-main/data/train.jsonl\")\n",
        "raw_val = AraStanceData(\"/content/arastance-main/data/dev.jsonl\")\n",
        "raw_test = AraStanceData(\"/content/arastance-main/data/test.jsonl\")\n",
        "\n",
        "print(f'# training instances: {len(raw_train.stances)}')\n",
        "print(f'# validation instances: {len(raw_val.stances)}')\n",
        "print(f'# testing instances: {len(raw_test.stances)}')"
      ],
      "metadata": {
        "colab": {
          "base_uri": "https://localhost:8080/"
        },
        "id": "UHvBzBq3Pv7O",
        "outputId": "0b9cf55a-c2f8-4290-ebd8-1c31dbf273ef"
      },
      "execution_count": null,
      "outputs": [
        {
          "output_type": "stream",
          "name": "stdout",
          "text": [
            "# training instances: 2848\n",
            "# validation instances: 569\n",
            "# testing instances: 646\n"
          ]
        }
      ]
    },
    {
      "cell_type": "markdown",
      "source": [
        "- Let's see an instance from the data:"
      ],
      "metadata": {
        "id": "6-RhBKLObZcc"
      }
    },
    {
      "cell_type": "code",
      "source": [
        "instance_no = 50\n",
        "print(f\"Claim text: {raw_train.claims[raw_train.article_claim[instance_no]]}\")\n",
        "print(f\"Article text: {raw_train.articles[instance_no]}\")\n",
        "print(f\"Stance: {raw_train.stances[instance_no]}\")"
      ],
      "metadata": {
        "colab": {
          "base_uri": "https://localhost:8080/"
        },
        "id": "1-cQ_grOTW2L",
        "outputId": "fceba248-792a-4291-97ac-0317dc7fe9a6"
      },
      "execution_count": null,
      "outputs": [
        {
          "output_type": "stream",
          "name": "stdout",
          "text": [
            "Claim text: انتشار فيروس كورونا في مستشفيات جدة\n",
            "Article text: دبي، الإمارات العربية المتحدة()-- مع الطوارئ التي تعيشها وزارات الصحة والمنظمات الدولية في مختلف أنحاء العالم لكشف سرّ فيروس \"كورونا\" تجري بهدوء وبعيدا عن أعين الناس، معركة من نوع آخر رهانها الملكية الفكرية لهذا الفيروس المخيف. في يونيو/حزيران 2012، كان البروفيسور المصري علي محمد زكي يعمل في مستشفى الدكتور سليمان الفقيه في جدة، ونجح في عزل فيروس من رجل توفي في أعقاب ضيق حاد في التنفس وفشل كلوي. وعجز البروفيسور عن تحديد سبب الوفاة واتصل بالسلطات محاولا إقناعها بضرورة التنبه وعدم ترك الأمر، ولكنه أيضا اتصل بعالم جراثيم معروف هو الدكتور رون فيوشيه الذي يشرف على مختبر علمي في هولندا الذي اشتهر في العالم باكتشافه الفيروس الآخر: 15 من أنفلونزا الطيور. أكّد فوشيه لزكي أنّ الأمر يتعلق بسلالة قديمة غير معروفة من فيروس \"كورونا\"، انحدرت على ما يبدو من الخفافيش، قائلا إنّ العينة كانت إيجابية المصل. وفي 20 سبتمبر/أيلول، نشر زكي ما خلص إليه على الشبكة الأوروبية -، ومن ساعتها تم اختيار اسم أكثر تعقيدا للفيروس. وباتت هيئات بحث ودول ومؤسسات ومختبرات تطلب عينات من الفيروس من مختبر فوشيه. لكن فوشيه كان يطلب من الجميع التوقيع على اتفاق يعرف باسم  \"يحفظ حق مختبره.\" كما اندلعت معركة مدارها من هو صاحب الملكية الفكرية، ومازالت تلك المعركة دائرة إلى الآن. في الأثناء، عبرت المملكة العربية السعودية عن غضبها لتصرف البروفيسور زكي، معتبرة أنه أبقى على سلطاتها \"في الظلام\" من دون أن يبلغها بحقيقة الفيروس. لكن زكي قال لـ بالعربية إنه تصرف وفق المعمول به ولم يتجاوز سلطاته. وقال إنه أرسل عينة من الفيروس وتوصيفا له إلى وزارة الصحة السعودية في 18 يونيو/حزيران، وفشلت السلطات في تحديد ماهيته. وأضاف أن التحاليل على أساس أن الفيروس ربما يكون فيروس انفلونزا الخنازير جاءت سلبية. غير أنّ وكيل وزارة الصحة السعودي زياد مميش قال لوكالة الأنباء السعودية إنّ القوانين المنظمة لعمل الدول أعضاء منظمة الصحة العالمية تجبر الدول على إطلاق التحذيرات وتبادل المعلومات في حال وجود مخاوف من الأوبئة، لكنها أيضا تحفظ سيادتها. وقررت السلطات السعودية إنهاء عمل البروفيسور زكي الذي عاد إلى القاهرة ليشرف على أحد أقسام جامعة عين شمس. وقال علي \"كانت السلطات السعودية غاضبة جدا ولا ألومهم على ذلك ماداموا لم يكونوا على علم دقيق بحقيقة خطورة الفيروس، بعد أن فشلوا في تحديد ماهيته.\" وأضاف \"مع ذلك نجحت أنا بمختبر صغير وبموارد قليلة في الكشف عن كون الأمر يتعلق بهذا الفئة من الفيروسات القاتلة.\" وأوضح \"لم أفعل أمرا غريبا. فكل مصحات جدة ترسل عيناتها إلى الخارج للتأكد وأنا كنت أعمل في مصحة خاصة وليس في مستشفى حكومي.\" ولم يخف البروفيسور زكي في تصريحاته لـبالعربية \"سعادته\" بفصله من السعودية قائلا \"لا ألومهم في النهاية فقد أرسلت إليهم العينة ولكنهم فشلوا في فحصها.\" وتوقع زكي أن يستمر الفيروس في الانتشار في المنطقة \"ولكن ليس بالضرورة بنفس الشراسة.\" وحول النقاش الدائر بشأن الملكية الفكرية للفيروس، اعتبر زكي الأمر عاديا، قائلا إنه لا يخشى أن تقوم هيئات أو أطراف من داخل السعودية أو خارجها \"السطو على اكتشافه\" قائلا \"كل شيء موثق ولا شيء يمكنه أن يبعد اسمي وحقوقي الأكاديمية بشأن الموضوع.\" ورغم أن تقارير أعربت عن \"مخاوفها\" من كون المملكة العربية السعودية ربما تعمدت إخفاء بعض الأمور بسبب \"موسم الحج الذي يقترب\" استبعد البروفيسور زكي أن تكون أي من الحكومات في المنطقة تتعمد التعتيم. ومن جهته، قال وكيل وزير الصحة السعودي، في مؤتمر في الرياض، إنّه ليس من سياسة السعودية أن تخفي الأمور \"نحن شفافون وقد دعونا وفودا من المنظمات الدولية للاطلاع على الوضع.\" طالع أيضا: هلع بعد انتقال كورونا بين شخصين ترحب شبكة  بالنقاش الحيوي والمفيد، وكي لا نضطر في موقع  بالعربية إلى مراجعة التعليقات قبل نشرها. ننصحك بمراجعة إرشادات الاستخدام للتعرف إليها جيداً. وللعلم فان جميع مشاركاتك يمكن استخدامها، مع اسمك وصورتك، استنادا إلى سياسة الخصوصية بما يتوافق مع شروط استخدام الموقع. الآراء الواردة أدناه لا تعبر عن رأي موقع  بالعربية، بل تعكس وجهات نظر أصحابها فقط. الأكثر تصفحاً\n",
            "Stance: Discuss\n"
          ]
        }
      ]
    },
    {
      "cell_type": "markdown",
      "source": [
        "- Thus, the instances are triplets, Claim/Article/Stance.\n",
        "- Note that the original language of the data is Arabic."
      ],
      "metadata": {
        "id": "gI6qegIAbc40"
      }
    },
    {
      "cell_type": "markdown",
      "source": [
        "## Embedding layer"
      ],
      "metadata": {
        "id": "OSVmC4sOQZrQ"
      }
    },
    {
      "cell_type": "markdown",
      "source": [
        "- We will use AraVec pretrained word vectors to represent the input."
      ],
      "metadata": {
        "id": "CVidrwrpb018"
      }
    },
    {
      "cell_type": "markdown",
      "source": [
        "### Preprocessing"
      ],
      "metadata": {
        "id": "IUTsUjodPyoO"
      }
    },
    {
      "cell_type": "markdown",
      "source": [
        "- To increase the hit rate between the words in our raw data and the tokens (i.e. the keys in AraVec dictionary) in AraVec dictionary, we need to preprocess the data in a way similar to the preprocessing performed to produce those tokens."
      ],
      "metadata": {
        "id": "Db5XqX7HcBCk"
      }
    },
    {
      "cell_type": "markdown",
      "source": [
        "- Let's use the following function to preprocess the training, validation, and testing data:"
      ],
      "metadata": {
        "id": "T3ZshVO6dSbs"
      }
    },
    {
      "cell_type": "code",
      "source": [
        "# this function is resposible for the preprocessing routine\n",
        "def preprocess(instances):\n",
        "  instances = list(map(remove_puncuation, instances))\n",
        "  instances = list(map(remove_diacritics, instances))\n",
        "  instances = list(map(remove_longation, instances))\n",
        "  instances = list(map(remove_unicode_codes, instances))\n",
        "  instances = list(map(process_numerals, instances))\n",
        "  instances = list(map(normalize, instances))\n",
        "  instances = list(map(remove_extra_spaces, instances))\n",
        "  return instances"
      ],
      "metadata": {
        "id": "XnIRNj4uUJEw"
      },
      "execution_count": null,
      "outputs": []
    },
    {
      "cell_type": "markdown",
      "source": [
        "- Before preprocessing each claim article pair, we need to concatenate them."
      ],
      "metadata": {
        "id": "da_w2Ht6l-7r"
      }
    },
    {
      "cell_type": "code",
      "source": [
        "# preprocess training data\n",
        "train_instances = [raw_train.claims[raw_train.article_claim[idx]] + \" \" + article \\\n",
        "                  for idx, article in enumerate(raw_train.articles)]\n",
        "preprocessed_train_instances = preprocess(train_instances)\n",
        "\n",
        "# preprocess validation data\n",
        "val_instances = [raw_val.claims[raw_val.article_claim[idx]] + \" \" + article \\\n",
        "                  for idx, article in enumerate(raw_val.articles)]\n",
        "preprocessed_val_instances = preprocess(val_instances)\n",
        "\n",
        "# preprocess testing data\n",
        "test_instances = [raw_test.claims[raw_test.article_claim[idx]] + \" \" + article \\\n",
        "                  for idx, article in enumerate(raw_test.articles)]\n",
        "preprocessed_test_instances = preprocess(test_instances)"
      ],
      "metadata": {
        "id": "GMzoQNPHQp-F"
      },
      "execution_count": null,
      "outputs": []
    },
    {
      "cell_type": "markdown",
      "source": [
        "- Let's see a preprocessed instance:"
      ],
      "metadata": {
        "id": "dNMDVgALl2Mj"
      }
    },
    {
      "cell_type": "code",
      "source": [
        "instance_no = 50\n",
        "print(f\"Claim Article text: {preprocessed_train_instances[instance_no]}\")\n",
        "print(f\"Stance: {raw_train.stances[instance_no]}\")"
      ],
      "metadata": {
        "colab": {
          "base_uri": "https://localhost:8080/"
        },
        "id": "zSPVkWNSl74q",
        "outputId": "d931e935-017b-45d9-fbda-0b6c3ee2ea99"
      },
      "execution_count": null,
      "outputs": [
        {
          "output_type": "stream",
          "name": "stdout",
          "text": [
            "Claim Article text: انتشار فيروس كورونا في مستشفيات جده دبي الامارات العربيه المتحده مع الطوارئ التي تعيشها وزارات الصحه والمنظمات الدوليه في مختلف انحاء العالم لكشف سر فيروس كورونا تجري بهدوء وبعيدا عن اعين الناس معركه من نوع اخر رهانها الملكيه الفكريه لهذا الفيروس المخيف في يونيو حزيران الفان و اثنا عشر كان البروفيسور المصري علي محمد زكي يعمل في مستشفي الدكتور سليمان الفقيه في جده ونجح في عزل فيروس من رجل توفي في اعقاب ضيق حاد في التنفس وفشل كلوي وعجز البروفيسور عن تحديد سبب الوفاه واتصل بالسلطات محاولا اقناعها بضروره التنبه وعدم ترك الامر ولكنه ايضا اتصل بعالم جراثيم معروف هو الدكتور رون فيوشيه الذي يشرف علي مختبر علمي في هولندا الذي اشتهر في العالم باكتشافه الفيروس الاخر خمس عشره من انفلونزا الطيور اكد فوشيه لزكي ان الامر يتعلق بسلاله قديمه غير معروفه من فيروس كورونا انحدرت علي ما يبدو من الخفافيش قائلا ان العينه كانت ايجابيه المصل وفي عشرون سبتمبر ايلول نشر زكي ما خلص اليه علي الشبكه الاوروبيه ومن ساعتها تم اختيار اسم اكثر تعقيدا للفيروس وباتت هيئات بحث ودول ومؤسسات ومختبرات تطلب عينات من الفيروس من مختبر فوشيه لكن فوشيه كان يطلب من الجميع التوقيع علي اتفاق يعرف باسم يحفظ حق مختبره كما اندلعت معركه مدارها من هو صاحب الملكيه الفكريه ومازالت تلك المعركه دائره الي الان في الاثناء عبرت المملكه العربيه السعوديه عن غضبها لتصرف البروفيسور زكي معتبره انه ابقي علي سلطاتها في الظلام من دون ان يبلغها بحقيقه الفيروس لكن زكي قال ل بالعربيه انه تصرف وفق المعمول به ولم يتجاوز سلطاته وقال انه ارسل عينه من الفيروس وتوصيفا له الي وزاره الصحه السعوديه في ثماني عشره يونيو حزيران وفشلت السلطات في تحديد ماهيته واضاف ان التحاليل علي اساس ان الفيروس ربما يكون فيروس انفلونزا الخنازير جاءت سلبيه غير ان وكيل وزاره الصحه السعودي زياد مميش قال لوكاله الانباء السعوديه ان القوانين المنظمه لعمل الدول اعضاء منظمه الصحه العالميه تجبر الدول علي اطلاق التحذيرات وتبادل المعلومات في حال وجود مخاوف من الاوبئه لكنها ايضا تحفظ سيادتها وقررت السلطات السعوديه انهاء عمل البروفيسور زكي الذي عاد الي القاهره ليشرف علي احد اقسام جامعه عين شمس وقال علي كانت السلطات السعوديه غاضبه جدا ولا الومهم علي ذلك ماداموا لم يكونوا علي علم دقيق بحقيقه خطوره الفيروس بعد ان فشلوا في تحديد ماهيته واضاف مع ذلك نجحت انا بمختبر صغير وبموارد قليله في الكشف عن كون الامر يتعلق بهذا الفئه من الفيروسات القاتله واوضح لم افعل امرا غريبا فكل مصحات جده ترسل عيناتها الي الخارج للتاكد وانا كنت اعمل في مصحه خاصه وليس في مستشفي حكومي ولم يخف البروفيسور زكي في تصريحاته لبالعربيه سعادته بفصله من السعوديه قائلا لا الومهم في النهايه فقد ارسلت اليهم العينه ولكنهم فشلوا في فحصها وتوقع زكي ان يستمر الفيروس في الانتشار في المنطقه ولكن ليس بالضروره بنفس الشراسه وحول النقاش الدائر بشان الملكيه الفكريه للفيروس اعتبر زكي الامر عاديا قائلا انه لا يخشي ان تقوم هيئات او اطراف من داخل السعوديه او خارجها السطو علي اكتشافه قائلا كل شيء موثق ولا شيء يمكنه ان يبعد اسمي وحقوقي الاكاديميه بشان الموضوع ورغم ان تقارير اعربت عن مخاوفها من كون المملكه العربيه السعوديه ربما تعمدت اخفاء بعض الامور بسبب موسم الحج الذي يقترب استبعد البروفيسور زكي ان تكون اي من الحكومات في المنطقه تتعمد التعتيم ومن جهته قال وكيل وزير الصحه السعودي في مؤتمر في الرياض انه ليس من سياسه السعوديه ان تخفي الامور نحن شفافون وقد دعونا وفودا من المنظمات الدوليه للاطلاع علي الوضع طالع ايضا هلع بعد انتقال كورونا بين شخصين ترحب شبكه بالنقاش الحيوي والمفيد وكي لا نضطر في موقع بالعربيه الي مراجعه التعليقات قبل نشرها ننصحك بمراجعه ارشادات الاستخدام للتعرف اليها جيدا وللعلم فان جميع مشاركاتك يمكن استخدامها مع اسمك وصورتك استنادا الي سياسه الخصوصيه بما يتوافق مع شروط استخدام الموقع الاراء الوارده ادناه لا تعبر عن راي موقع بالعربيه بل تعكس وجهات نظر اصحابها فقط الاكثر تصفحا\n",
            "Stance: Discuss\n"
          ]
        }
      ]
    },
    {
      "cell_type": "markdown",
      "source": [
        "### Initialization"
      ],
      "metadata": {
        "id": "CBUk122SeWEW"
      }
    },
    {
      "cell_type": "markdown",
      "source": [
        "- Download the pretrained vectors first:"
      ],
      "metadata": {
        "id": "jjBZW2LgeJc2"
      }
    },
    {
      "cell_type": "code",
      "source": [
        "!wget \"https://bakrianoo.ewr1.vultrobjects.com/aravec/full_uni_cbow_300_wiki.zip\"\n",
        "!unzip \"full_uni_cbow_300_wiki.zip\""
      ],
      "metadata": {
        "id": "xU0r6MLEPkln"
      },
      "execution_count": null,
      "outputs": []
    },
    {
      "cell_type": "markdown",
      "source": [
        "- Load the pretrained vectors:"
      ],
      "metadata": {
        "id": "0Eks7x5BepPb"
      }
    },
    {
      "cell_type": "code",
      "source": [
        "embedding_model = gensim.models.Word2Vec.load(\"full_uni_cbow_300_wiki.mdl\")\n",
        "print(\"AraVect project contains\",len(embedding_model.wv.index_to_key),\"tokens\")"
      ],
      "metadata": {
        "colab": {
          "base_uri": "https://localhost:8080/"
        },
        "id": "RUv2QkVfPxmH",
        "outputId": "87bddc6f-9ab1-4e03-f1f5-3c32bf384e9f"
      },
      "execution_count": null,
      "outputs": [
        {
          "output_type": "stream",
          "name": "stdout",
          "text": [
            "AraVect project contains 320636 tokens\n"
          ]
        }
      ]
    },
    {
      "cell_type": "markdown",
      "source": [
        "- We need to decide on the words we are going to use in the final representation of each instance, so we will use a vectorization layer to learn a vocabulary from our training data. We allowed 30K tokens in our vocabulary.\n",
        "- We also going to need a word index, which maps words to indices like `{word1-->idx1, word2-->idx2, ...}`. The indices will be used to store the vector representation of each word in the embedding matrix."
      ],
      "metadata": {
        "id": "pRcSTqrQf0sc"
      }
    },
    {
      "cell_type": "code",
      "source": [
        "# Option 1 using TextVectorization layer\n",
        "# max_tokens represents the maximum size of the vocabulary\n",
        "vectorizer = tf.keras.layers.TextVectorization(max_tokens=20000, output_sequence_length=100, standardize=None)\n",
        "text_ds = tf.data.Dataset.from_tensor_slices(preprocessed_train_instances).batch(128)\n",
        "\n",
        "# learn the vocabulary based on the training data\n",
        "vectorizer.adapt(text_ds)\n",
        "\n",
        "voc = vectorizer.get_vocabulary()\n",
        "word_index = dict(zip(voc, range(len(voc))))\n",
        "\n",
        "# Option 2 using NLTK tokenizer\n",
        "# import nltk\n",
        "# from nltk import  word_tokenize\n",
        "# nltk.download('punkt')\n",
        "\n",
        "# def tokenization(text):\n",
        "#   return word_tokenize(text)\n",
        "\n",
        "# train_tokenized = list(map(tokenization, train_samples))\n",
        "# tokens = [token for sublist in train_tokenized for token in sublist]\n",
        "# tokens = set(tokens)\n",
        "# word_index = dict(zip(tokens, range(len(tokens))))\n",
        "# len(tokens)"
      ],
      "metadata": {
        "id": "iqA6lTkrQdu3"
      },
      "execution_count": null,
      "outputs": []
    },
    {
      "cell_type": "markdown",
      "source": [
        "- We are now ready to create an embedding matrix which maps token indices of our vocabulary to pretrained word vectors from AraVec project:"
      ],
      "metadata": {
        "id": "PPep_ER2h7xE"
      }
    },
    {
      "cell_type": "code",
      "source": [
        "num_tokens = len(voc) + 2\n",
        "embedding_dim = 300\n",
        "hits = 0\n",
        "misses = 0\n",
        "\n",
        "embedding_matrix = np.zeros((num_tokens, embedding_dim))\n",
        "for word, i in word_index.items():\n",
        "  if embedding_model.wv.__contains__(word):\n",
        "    embedding_matrix[i] = embedding_model.wv.get_vector(word)\n",
        "    hits += 1\n",
        "  else:\n",
        "    misses += 1\n",
        "print(\"Converted %d words (%d misses)\" % (hits, misses))"
      ],
      "metadata": {
        "colab": {
          "base_uri": "https://localhost:8080/"
        },
        "id": "Umm6q1LWQmae",
        "outputId": "efa4c1ee-737d-402e-9bd3-3dc67d0a3b9e"
      },
      "execution_count": null,
      "outputs": [
        {
          "output_type": "stream",
          "name": "stdout",
          "text": [
            "Converted 19860 words (140 misses)\n"
          ]
        }
      ]
    },
    {
      "cell_type": "markdown",
      "source": [
        "- Let's see the representation of a random token:"
      ],
      "metadata": {
        "id": "e9ACmLvGr2aO"
      }
    },
    {
      "cell_type": "code",
      "source": [
        "print(f\"The word 'اليوم' is at index {word_index['مرحبا']}\")\n",
        "print(f\"The vector representation of 'اليوم' is {embedding_matrix[word_index['اليوم']]}\")"
      ],
      "metadata": {
        "colab": {
          "base_uri": "https://localhost:8080/"
        },
        "id": "uIMGs7g4r9Mw",
        "outputId": "30529f93-84f7-4012-d994-b9137809674b"
      },
      "execution_count": null,
      "outputs": [
        {
          "output_type": "stream",
          "name": "stdout",
          "text": [
            "The word 'اليوم' is at index 16121\n",
            "The vector representation of 'اليوم' is [-1.97517073e+00  8.69537115e-01  8.18713903e-01 -3.29231572e+00\n",
            " -1.19689381e+00 -3.43032455e+00 -1.21804047e+00 -1.95108867e+00\n",
            "  2.29376483e+00 -1.43319929e+00 -1.77860498e+00 -1.04377866e+00\n",
            "  4.38264513e+00  2.09589195e+00  1.68843174e+00  9.52437460e-01\n",
            "  4.59254950e-01  4.75610346e-01 -2.27967167e+00  1.36259210e+00\n",
            "  5.34933567e-01 -8.24885488e-01 -2.58660447e-02  1.12652564e+00\n",
            " -1.50918436e+00 -3.49571258e-01  6.60924792e-01  9.72745474e-03\n",
            " -4.91223186e-01  8.95809948e-01 -1.03281677e+00 -2.15446100e-01\n",
            "  1.77518234e-01 -1.41457045e+00  1.23311186e+00  1.09764107e-01\n",
            " -7.40322828e-01  3.91151518e-01 -5.51507413e-01  1.28212833e+00\n",
            " -1.13139379e+00 -1.10803485e+00  1.08339655e+00  2.48234773e+00\n",
            " -2.63052058e+00  2.20979428e+00  4.04768705e-01 -3.78537893e+00\n",
            "  2.75179935e+00  8.10063124e-01  2.48981667e+00 -7.77087927e-01\n",
            " -3.93588126e-01 -1.64708638e+00 -8.15965652e-01 -1.29414165e+00\n",
            "  3.33083779e-01  3.15196872e-01 -9.20450270e-01  7.46443391e-01\n",
            "  8.15847099e-01 -4.60735142e-01  1.89910516e-01 -1.74932361e-01\n",
            " -1.46921813e+00  1.78907573e+00 -3.02382278e+00  9.61277366e-01\n",
            "  2.41356209e-01  6.67331159e-01  3.60085249e+00 -2.03421569e+00\n",
            " -9.01596844e-01  4.85825181e-01 -2.51719880e+00  1.22692215e+00\n",
            "  6.67392850e-01 -1.33213031e+00 -3.29651803e-01 -5.44388115e-01\n",
            " -1.66375470e+00 -3.99492455e+00  1.03823252e-01 -1.52941748e-01\n",
            "  7.80755639e-01 -7.21938491e-01  1.60522878e+00  2.88226867e+00\n",
            " -6.44684613e-01 -1.55656552e+00  1.06583917e+00 -1.50583398e+00\n",
            "  1.05051827e+00 -1.67437553e+00 -4.31681275e-01 -6.83636785e-01\n",
            " -2.44629717e+00  2.99946570e+00  6.39413059e-01 -1.97988617e+00\n",
            "  2.83713245e+00  1.07120383e+00 -1.73785126e+00  2.63318801e+00\n",
            "  7.48147786e-01 -1.92688513e+00  7.30598748e-01  1.50053525e+00\n",
            "  1.56923950e+00  2.17157483e+00  4.28188026e-01  1.58869004e+00\n",
            "  1.42321062e+00  1.38292265e+00  2.85359311e+00  1.36684179e+00\n",
            " -2.68923759e-01 -5.86692810e-01 -1.25423253e+00  1.40243387e+00\n",
            " -2.16113701e-01  1.48489547e+00 -9.39056873e-01 -5.48411608e-01\n",
            "  2.21741295e+00 -2.45165086e+00 -9.46629569e-02  8.72164309e-01\n",
            " -6.67582810e-01 -9.26202297e-01 -3.44148588e+00  1.96955323e+00\n",
            " -3.10554814e+00 -5.60382128e-01  3.05950820e-01 -7.41064250e-01\n",
            " -1.63760138e+00 -2.62599850e+00 -2.24958849e+00 -1.29970002e+00\n",
            " -3.99973653e-02 -8.66677985e-02 -8.10577810e-01  9.76324320e-01\n",
            " -3.15173721e+00  4.72558832e+00  3.88516045e+00  1.31217062e+00\n",
            "  4.42983341e+00 -2.57353592e+00  4.14000225e+00  1.50406587e+00\n",
            "  1.31260884e+00 -1.94652653e+00 -5.05708873e-01  7.49365807e-01\n",
            "  2.93133187e+00 -2.13441992e+00  9.55064237e-01 -7.87645459e-01\n",
            "  1.56198978e+00 -1.25000453e+00 -2.90894318e+00 -1.74415126e-01\n",
            "  2.06345963e+00  2.40365982e+00 -5.36470413e-01 -5.82345366e-01\n",
            "  3.27068478e-01 -6.06534064e-01  1.52603817e+00  1.08466721e+00\n",
            " -3.37681890e+00  2.31631541e+00  7.83737540e-01 -5.43753088e-01\n",
            " -2.85951304e+00  4.95649672e+00  4.42413473e+00 -2.19348574e+00\n",
            "  2.43111268e-01  2.91516781e+00  1.18119371e+00 -3.23528814e+00\n",
            "  1.49068391e+00  1.02068698e+00  1.82691765e+00  1.05310237e+00\n",
            " -1.64282429e+00 -1.21644652e+00 -3.87650162e-01 -8.96434426e-01\n",
            "  1.20647430e+00  5.42571962e-01  6.11433499e-02  2.57899880e+00\n",
            " -6.26845598e-01 -1.37516642e+00 -2.02134037e+00 -3.16174209e-01\n",
            "  9.54808295e-01  1.22954988e+00  1.61968899e+00 -7.58675754e-01\n",
            "  1.92348409e+00  6.95947790e+00  1.34073150e+00 -7.42530763e-01\n",
            "  1.52793378e-01 -5.06583273e-01 -2.11650014e+00  2.24451160e+00\n",
            " -2.11138153e+00 -3.86144519e+00 -3.97606039e+00 -2.59649791e-02\n",
            " -2.57097054e+00 -1.13192089e-02 -2.48309827e+00 -1.82689118e+00\n",
            " -1.20472550e+00 -6.43285334e-01  1.41246653e+00 -1.82494044e+00\n",
            " -1.08284664e+00  2.09196258e+00  1.73962569e+00  1.40147781e+00\n",
            " -5.25753856e-01  4.33506846e-01  2.08640561e-01  1.13432765e+00\n",
            " -1.23424733e+00 -2.91741461e-01  1.27771270e+00 -2.73531818e+00\n",
            "  9.22442615e-01 -7.61199713e-01 -2.61333394e+00  1.06493735e+00\n",
            " -8.97582099e-02 -1.29884529e+00 -1.97609186e-01  1.71531332e+00\n",
            "  4.83069301e-01  6.14122212e-01 -1.34910905e+00  2.49366784e+00\n",
            "  3.46590710e+00 -1.08882260e+00 -7.02729225e-01 -7.80445099e-01\n",
            "  3.82811457e-01  6.11798503e-02 -1.43326297e-01  1.32695794e+00\n",
            " -3.41074085e+00  7.06067383e-01 -1.47626865e+00 -5.08120239e-01\n",
            " -8.61481428e-01 -7.03825429e-02 -1.57689536e+00  6.09844625e-02\n",
            "  6.60826325e-01  3.36800766e+00 -1.63696384e+00  3.72539103e-01\n",
            " -1.24094880e+00 -1.39332867e+00  1.03178866e-01 -7.81296432e-01\n",
            "  2.30247116e+00  1.72651255e+00  2.17765108e-01  6.95960104e-01\n",
            " -1.86922312e+00  1.07788481e-01  5.87463975e-01 -1.29596794e+00\n",
            " -1.26002967e+00  2.22091302e-01  3.48544031e-01 -9.17139411e-01\n",
            "  2.40721607e+00 -3.32609983e-03 -2.44450545e+00  8.00848193e-03\n",
            "  8.53977680e-01 -1.77047938e-01 -2.01713252e+00 -2.33271456e+00\n",
            " -1.71385217e+00  5.12949169e-01 -1.91593575e+00 -2.11636305e+00\n",
            " -1.05056226e+00 -2.32629251e+00  7.35163629e-01  7.62052000e-01]\n"
          ]
        }
      ]
    },
    {
      "cell_type": "markdown",
      "source": [
        "- Let's initialize our embedding layer with the embedding matrix:"
      ],
      "metadata": {
        "id": "EOUrwkWEiKdN"
      }
    },
    {
      "cell_type": "code",
      "source": [
        "embedding_layer = tf.keras.layers.Embedding(\n",
        "    num_tokens,\n",
        "    embedding_dim,\n",
        "    embeddings_initializer=tf.keras.initializers.Constant(embedding_matrix),\n",
        "    trainable=False,\n",
        ")"
      ],
      "metadata": {
        "id": "Yrox_SSDiJyl"
      },
      "execution_count": null,
      "outputs": []
    },
    {
      "cell_type": "markdown",
      "source": [
        "## Datasets"
      ],
      "metadata": {
        "id": "rMoc7pwxQnv9"
      }
    },
    {
      "cell_type": "code",
      "source": [
        "batch_size = 128"
      ],
      "metadata": {
        "id": "TSO0rSyQQovs"
      },
      "execution_count": null,
      "outputs": []
    },
    {
      "cell_type": "markdown",
      "source": [
        "- Before creating the dataset, we need to vectorize the training, validation, and testing data using the adapted vectorizer. This means replace every word in an instance by its index in the word index:"
      ],
      "metadata": {
        "id": "2i4i2uS3g6zz"
      }
    },
    {
      "cell_type": "code",
      "source": [
        "x_train = vectorizer(np.array([[s] for s in preprocessed_train_instances])).numpy()\n",
        "x_val = vectorizer(np.array([[s] for s in preprocessed_val_instances])).numpy()\n",
        "x_test = vectorizer(np.array([[s] for s in preprocessed_test_instances])).numpy()"
      ],
      "metadata": {
        "id": "qvtv1-IfeKXM"
      },
      "execution_count": null,
      "outputs": []
    },
    {
      "cell_type": "markdown",
      "source": [
        "- Let's see a vectorized instance:"
      ],
      "metadata": {
        "id": "yNzH7VjZoaY3"
      }
    },
    {
      "cell_type": "code",
      "source": [
        "instance_no = 50\n",
        "print(f\"Original preprocessed instance: {preprocessed_train_instances[instance_no]}\")\n",
        "print(f\"Vectorized instance: {x_train[instance_no]}\")"
      ],
      "metadata": {
        "colab": {
          "base_uri": "https://localhost:8080/"
        },
        "id": "uK9Xg60socwR",
        "outputId": "5eac80c3-386b-41d6-f470-6c4085f09659"
      },
      "execution_count": null,
      "outputs": [
        {
          "output_type": "stream",
          "name": "stdout",
          "text": [
            "Original preprocessed instance: انتشار فيروس كورونا في مستشفيات جده دبي الامارات العربيه المتحده مع الطوارئ التي تعيشها وزارات الصحه والمنظمات الدوليه في مختلف انحاء العالم لكشف سر فيروس كورونا تجري بهدوء وبعيدا عن اعين الناس معركه من نوع اخر رهانها الملكيه الفكريه لهذا الفيروس المخيف في يونيو حزيران الفان و اثنا عشر كان البروفيسور المصري علي محمد زكي يعمل في مستشفي الدكتور سليمان الفقيه في جده ونجح في عزل فيروس من رجل توفي في اعقاب ضيق حاد في التنفس وفشل كلوي وعجز البروفيسور عن تحديد سبب الوفاه واتصل بالسلطات محاولا اقناعها بضروره التنبه وعدم ترك الامر ولكنه ايضا اتصل بعالم جراثيم معروف هو الدكتور رون فيوشيه الذي يشرف علي مختبر علمي في هولندا الذي اشتهر في العالم باكتشافه الفيروس الاخر خمس عشره من انفلونزا الطيور اكد فوشيه لزكي ان الامر يتعلق بسلاله قديمه غير معروفه من فيروس كورونا انحدرت علي ما يبدو من الخفافيش قائلا ان العينه كانت ايجابيه المصل وفي عشرون سبتمبر ايلول نشر زكي ما خلص اليه علي الشبكه الاوروبيه ومن ساعتها تم اختيار اسم اكثر تعقيدا للفيروس وباتت هيئات بحث ودول ومؤسسات ومختبرات تطلب عينات من الفيروس من مختبر فوشيه لكن فوشيه كان يطلب من الجميع التوقيع علي اتفاق يعرف باسم يحفظ حق مختبره كما اندلعت معركه مدارها من هو صاحب الملكيه الفكريه ومازالت تلك المعركه دائره الي الان في الاثناء عبرت المملكه العربيه السعوديه عن غضبها لتصرف البروفيسور زكي معتبره انه ابقي علي سلطاتها في الظلام من دون ان يبلغها بحقيقه الفيروس لكن زكي قال ل بالعربيه انه تصرف وفق المعمول به ولم يتجاوز سلطاته وقال انه ارسل عينه من الفيروس وتوصيفا له الي وزاره الصحه السعوديه في ثماني عشره يونيو حزيران وفشلت السلطات في تحديد ماهيته واضاف ان التحاليل علي اساس ان الفيروس ربما يكون فيروس انفلونزا الخنازير جاءت سلبيه غير ان وكيل وزاره الصحه السعودي زياد مميش قال لوكاله الانباء السعوديه ان القوانين المنظمه لعمل الدول اعضاء منظمه الصحه العالميه تجبر الدول علي اطلاق التحذيرات وتبادل المعلومات في حال وجود مخاوف من الاوبئه لكنها ايضا تحفظ سيادتها وقررت السلطات السعوديه انهاء عمل البروفيسور زكي الذي عاد الي القاهره ليشرف علي احد اقسام جامعه عين شمس وقال علي كانت السلطات السعوديه غاضبه جدا ولا الومهم علي ذلك ماداموا لم يكونوا علي علم دقيق بحقيقه خطوره الفيروس بعد ان فشلوا في تحديد ماهيته واضاف مع ذلك نجحت انا بمختبر صغير وبموارد قليله في الكشف عن كون الامر يتعلق بهذا الفئه من الفيروسات القاتله واوضح لم افعل امرا غريبا فكل مصحات جده ترسل عيناتها الي الخارج للتاكد وانا كنت اعمل في مصحه خاصه وليس في مستشفي حكومي ولم يخف البروفيسور زكي في تصريحاته لبالعربيه سعادته بفصله من السعوديه قائلا لا الومهم في النهايه فقد ارسلت اليهم العينه ولكنهم فشلوا في فحصها وتوقع زكي ان يستمر الفيروس في الانتشار في المنطقه ولكن ليس بالضروره بنفس الشراسه وحول النقاش الدائر بشان الملكيه الفكريه للفيروس اعتبر زكي الامر عاديا قائلا انه لا يخشي ان تقوم هيئات او اطراف من داخل السعوديه او خارجها السطو علي اكتشافه قائلا كل شيء موثق ولا شيء يمكنه ان يبعد اسمي وحقوقي الاكاديميه بشان الموضوع ورغم ان تقارير اعربت عن مخاوفها من كون المملكه العربيه السعوديه ربما تعمدت اخفاء بعض الامور بسبب موسم الحج الذي يقترب استبعد البروفيسور زكي ان تكون اي من الحكومات في المنطقه تتعمد التعتيم ومن جهته قال وكيل وزير الصحه السعودي في مؤتمر في الرياض انه ليس من سياسه السعوديه ان تخفي الامور نحن شفافون وقد دعونا وفودا من المنظمات الدوليه للاطلاع علي الوضع طالع ايضا هلع بعد انتقال كورونا بين شخصين ترحب شبكه بالنقاش الحيوي والمفيد وكي لا نضطر في موقع بالعربيه الي مراجعه التعليقات قبل نشرها ننصحك بمراجعه ارشادات الاستخدام للتعرف اليها جيدا وللعلم فان جميع مشاركاتك يمكن استخدامها مع اسمك وصورتك استنادا الي سياسه الخصوصيه بما يتوافق مع شروط استخدام الموقع الاراء الوارده ادناه لا تعبر عن راي موقع بالعربيه بل تعكس وجهات نظر اصحابها فقط الاكثر تصفحا\n",
            "Vectorized instance: [ 1284  4592  4527     2  5474  1149   322   251   101    69    10  2707\n",
            "     8 17276 12968   390  9992   224     2   578   883    94  9488  4371\n",
            "  4592  4527  2491  8285     1     9 18566   320  1473     3   814   174\n",
            "     1  2472  3977   580  3485     1     2   432  1200    16     4    91\n",
            "    25    32  6127   141     5    61  6286   836     2   968   256  1938\n",
            "  7311     2  1149  6571     2  5027  4592     3   891  2108     2  3054\n",
            "  6622  5185     2  7050 11632 16208     1  6127     9   784  1088  4847\n",
            "     1     1     1     1  2960     1   710  1733   138  1255    85  9660\n",
            "     1     1  4807    45]\n"
          ]
        }
      ]
    },
    {
      "cell_type": "markdown",
      "source": [
        "- Let's initialize the datasets we are going to use for the training and testing:"
      ],
      "metadata": {
        "id": "I0JLlGnYpKdn"
      }
    },
    {
      "cell_type": "code",
      "source": [
        "AUTOTUNE = tf.data.experimental.AUTOTUNE\n",
        "\n",
        "train_size = len(raw_train.stances)\n",
        "\n",
        "train_labels = [stance_to_int[s] for s in raw_train.stances]\n",
        "train_dataset = tf.data.Dataset.from_tensor_slices((x_train, train_labels))\n",
        "train_dataset = train_dataset.shuffle(train_size)\n",
        "train_dataset = train_dataset.batch(batch_size)\n",
        "train_dataset = train_dataset.cache().prefetch(buffer_size=AUTOTUNE)\n",
        "\n",
        "val_labels = [stance_to_int[s] for s in raw_val.stances]\n",
        "val_dataset = tf.data.Dataset.from_tensor_slices((x_val, val_labels))\n",
        "val_dataset = val_dataset.batch(batch_size)\n",
        "val_dataset = val_dataset.cache().prefetch(buffer_size=AUTOTUNE)\n",
        "\n",
        "test_labels = [stance_to_int[s] for s in raw_test.stances]\n",
        "test_dataset = tf.data.Dataset.from_tensor_slices((x_test, test_labels))\n",
        "test_dataset = test_dataset.batch(batch_size).cache().prefetch(buffer_size=AUTOTUNE)"
      ],
      "metadata": {
        "id": "6b1vQn7CQsy4"
      },
      "execution_count": null,
      "outputs": []
    },
    {
      "cell_type": "markdown",
      "source": [
        "## Model"
      ],
      "metadata": {
        "id": "YaVXv2oMQtpB"
      }
    },
    {
      "cell_type": "markdown",
      "source": [
        "- Now the datasets are ready, we can work on the model:"
      ],
      "metadata": {
        "id": "1tYFaJXwpSO9"
      }
    },
    {
      "cell_type": "code",
      "source": [
        "def create_model(lr):\n",
        "  int_sequences_input = tf.keras.Input(shape=(None,), dtype=\"int64\")\n",
        "  embedded_sequences = embedding_layer(int_sequences_input)\n",
        "\n",
        "  lstm_output_1 = tf.keras.layers.Bidirectional(tf.keras.layers.LSTM(32, return_sequences=True))(embedded_sequences)\n",
        "  lstm_output_2 = tf.keras.layers.Bidirectional(tf.keras.layers.LSTM(32))(lstm_output_1)\n",
        "\n",
        "  logits = tf.keras.layers.Dense(4)(lstm_output_2)\n",
        "\n",
        "  model = tf.keras.models.Model(inputs=int_sequences_input, outputs=logits)\n",
        "\n",
        "  loss = tf.keras.losses.SparseCategoricalCrossentropy(from_logits=True)\n",
        "  metrics = tf.keras.metrics.SparseCategoricalAccuracy('accuracy', dtype=tf.float32)\n",
        "  optimizer = tf.keras.optimizers.Adam(learning_rate=lr)\n",
        "\n",
        "  model.compile(optimizer=optimizer, loss=loss, metrics=[metrics])\n",
        "\n",
        "  return model"
      ],
      "metadata": {
        "id": "1PEMPojLkUef"
      },
      "execution_count": null,
      "outputs": []
    },
    {
      "cell_type": "code",
      "source": [
        "plotting_model = create_model(lr=0.)\n",
        "tf.keras.utils.plot_model(plotting_model, show_shapes=True, dpi=60)"
      ],
      "metadata": {
        "colab": {
          "base_uri": "https://localhost:8080/",
          "height": 494
        },
        "id": "z7Ba0t0HkpOv",
        "outputId": "5b9a4e81-99c0-42cb-9366-98b69d367028"
      },
      "execution_count": null,
      "outputs": [
        {
          "output_type": "execute_result",
          "data": {
            "image/png": "[encoded data removed]",
            "text/plain": [
              "<IPython.core.display.Image object>"
            ]
          },
          "metadata": {},
          "execution_count": 29
        }
      ]
    },
    {
      "cell_type": "code",
      "source": [
        "plotting_model.summary()"
      ],
      "metadata": {
        "colab": {
          "base_uri": "https://localhost:8080/",
          "height": 306
        },
        "id": "ufKku1cvktjv",
        "outputId": "5a96e927-e8ad-41df-a126-495d918e4512"
      },
      "execution_count": null,
      "outputs": [
        {
          "output_type": "display_data",
          "data": {
            "text/plain": [
              "\u001b[1mModel: \"functional_1\"\u001b[0m\n"
            ],
            "text/html": [
              "<pre style=\"white-space:pre;overflow-x:auto;line-height:normal;font-family:Menlo,'DejaVu Sans Mono',consolas,'Courier New',monospace\"><span style=\"font-weight: bold\">Model: \"functional_1\"</span>\n",
              "</pre>\n"
            ]
          },
          "metadata": {}
        },
        {
          "output_type": "display_data",
          "data": {
            "text/plain": [
              "┏━━━━━━━━━━━━━━━━━━━━━━━━━━━━━━━━━━━━━━┳━━━━━━━━━━━━━━━━━━━━━━━━━━━━━┳━━━━━━━━━━━━━━━━━┓\n",
              "┃\u001b[1m \u001b[0m\u001b[1mLayer (type)                        \u001b[0m\u001b[1m \u001b[0m┃\u001b[1m \u001b[0m\u001b[1mOutput Shape               \u001b[0m\u001b[1m \u001b[0m┃\u001b[1m \u001b[0m\u001b[1m        Param #\u001b[0m\u001b[1m \u001b[0m┃\n",
              "┡━━━━━━━━━━━━━━━━━━━━━━━━━━━━━━━━━━━━━━╇━━━━━━━━━━━━━━━━━━━━━━━━━━━━━╇━━━━━━━━━━━━━━━━━┩\n",
              "│ input_layer_1 (\u001b[38;5;33mInputLayer\u001b[0m)           │ (\u001b[38;5;45mNone\u001b[0m, \u001b[38;5;45mNone\u001b[0m)                │               \u001b[38;5;34m0\u001b[0m │\n",
              "├──────────────────────────────────────┼─────────────────────────────┼─────────────────┤\n",
              "│ embedding (\u001b[38;5;33mEmbedding\u001b[0m)                │ (\u001b[38;5;45mNone\u001b[0m, \u001b[38;5;45mNone\u001b[0m, \u001b[38;5;34m300\u001b[0m)           │       \u001b[38;5;34m6,000,600\u001b[0m │\n",
              "├──────────────────────────────────────┼─────────────────────────────┼─────────────────┤\n",
              "│ bidirectional_2 (\u001b[38;5;33mBidirectional\u001b[0m)      │ (\u001b[38;5;45mNone\u001b[0m, \u001b[38;5;45mNone\u001b[0m, \u001b[38;5;34m64\u001b[0m)            │          \u001b[38;5;34m85,248\u001b[0m │\n",
              "├──────────────────────────────────────┼─────────────────────────────┼─────────────────┤\n",
              "│ bidirectional_3 (\u001b[38;5;33mBidirectional\u001b[0m)      │ (\u001b[38;5;45mNone\u001b[0m, \u001b[38;5;34m64\u001b[0m)                  │          \u001b[38;5;34m24,832\u001b[0m │\n",
              "├──────────────────────────────────────┼─────────────────────────────┼─────────────────┤\n",
              "│ dense_1 (\u001b[38;5;33mDense\u001b[0m)                      │ (\u001b[38;5;45mNone\u001b[0m, \u001b[38;5;34m4\u001b[0m)                   │             \u001b[38;5;34m260\u001b[0m │\n",
              "└──────────────────────────────────────┴─────────────────────────────┴─────────────────┘\n"
            ],
            "text/html": [
              "<pre style=\"white-space:pre;overflow-x:auto;line-height:normal;font-family:Menlo,'DejaVu Sans Mono',consolas,'Courier New',monospace\">┏━━━━━━━━━━━━━━━━━━━━━━━━━━━━━━━━━━━━━━┳━━━━━━━━━━━━━━━━━━━━━━━━━━━━━┳━━━━━━━━━━━━━━━━━┓\n",
              "┃<span style=\"font-weight: bold\"> Layer (type)                         </span>┃<span style=\"font-weight: bold\"> Output Shape                </span>┃<span style=\"font-weight: bold\">         Param # </span>┃\n",
              "┡━━━━━━━━━━━━━━━━━━━━━━━━━━━━━━━━━━━━━━╇━━━━━━━━━━━━━━━━━━━━━━━━━━━━━╇━━━━━━━━━━━━━━━━━┩\n",
              "│ input_layer_1 (<span style=\"color: #0087ff; text-decoration-color: #0087ff\">InputLayer</span>)           │ (<span style=\"color: #00d7ff; text-decoration-color: #00d7ff\">None</span>, <span style=\"color: #00d7ff; text-decoration-color: #00d7ff\">None</span>)                │               <span style=\"color: #00af00; text-decoration-color: #00af00\">0</span> │\n",
              "├──────────────────────────────────────┼─────────────────────────────┼─────────────────┤\n",
              "│ embedding (<span style=\"color: #0087ff; text-decoration-color: #0087ff\">Embedding</span>)                │ (<span style=\"color: #00d7ff; text-decoration-color: #00d7ff\">None</span>, <span style=\"color: #00d7ff; text-decoration-color: #00d7ff\">None</span>, <span style=\"color: #00af00; text-decoration-color: #00af00\">300</span>)           │       <span style=\"color: #00af00; text-decoration-color: #00af00\">6,000,600</span> │\n",
              "├──────────────────────────────────────┼─────────────────────────────┼─────────────────┤\n",
              "│ bidirectional_2 (<span style=\"color: #0087ff; text-decoration-color: #0087ff\">Bidirectional</span>)      │ (<span style=\"color: #00d7ff; text-decoration-color: #00d7ff\">None</span>, <span style=\"color: #00d7ff; text-decoration-color: #00d7ff\">None</span>, <span style=\"color: #00af00; text-decoration-color: #00af00\">64</span>)            │          <span style=\"color: #00af00; text-decoration-color: #00af00\">85,248</span> │\n",
              "├──────────────────────────────────────┼─────────────────────────────┼─────────────────┤\n",
              "│ bidirectional_3 (<span style=\"color: #0087ff; text-decoration-color: #0087ff\">Bidirectional</span>)      │ (<span style=\"color: #00d7ff; text-decoration-color: #00d7ff\">None</span>, <span style=\"color: #00af00; text-decoration-color: #00af00\">64</span>)                  │          <span style=\"color: #00af00; text-decoration-color: #00af00\">24,832</span> │\n",
              "├──────────────────────────────────────┼─────────────────────────────┼─────────────────┤\n",
              "│ dense_1 (<span style=\"color: #0087ff; text-decoration-color: #0087ff\">Dense</span>)                      │ (<span style=\"color: #00d7ff; text-decoration-color: #00d7ff\">None</span>, <span style=\"color: #00af00; text-decoration-color: #00af00\">4</span>)                   │             <span style=\"color: #00af00; text-decoration-color: #00af00\">260</span> │\n",
              "└──────────────────────────────────────┴─────────────────────────────┴─────────────────┘\n",
              "</pre>\n"
            ]
          },
          "metadata": {}
        },
        {
          "output_type": "display_data",
          "data": {
            "text/plain": [
              "\u001b[1m Total params: \u001b[0m\u001b[38;5;34m6,110,940\u001b[0m (23.31 MB)\n"
            ],
            "text/html": [
              "<pre style=\"white-space:pre;overflow-x:auto;line-height:normal;font-family:Menlo,'DejaVu Sans Mono',consolas,'Courier New',monospace\"><span style=\"font-weight: bold\"> Total params: </span><span style=\"color: #00af00; text-decoration-color: #00af00\">6,110,940</span> (23.31 MB)\n",
              "</pre>\n"
            ]
          },
          "metadata": {}
        },
        {
          "output_type": "display_data",
          "data": {
            "text/plain": [
              "\u001b[1m Trainable params: \u001b[0m\u001b[38;5;34m110,340\u001b[0m (431.02 KB)\n"
            ],
            "text/html": [
              "<pre style=\"white-space:pre;overflow-x:auto;line-height:normal;font-family:Menlo,'DejaVu Sans Mono',consolas,'Courier New',monospace\"><span style=\"font-weight: bold\"> Trainable params: </span><span style=\"color: #00af00; text-decoration-color: #00af00\">110,340</span> (431.02 KB)\n",
              "</pre>\n"
            ]
          },
          "metadata": {}
        },
        {
          "output_type": "display_data",
          "data": {
            "text/plain": [
              "\u001b[1m Non-trainable params: \u001b[0m\u001b[38;5;34m6,000,600\u001b[0m (22.89 MB)\n"
            ],
            "text/html": [
              "<pre style=\"white-space:pre;overflow-x:auto;line-height:normal;font-family:Menlo,'DejaVu Sans Mono',consolas,'Courier New',monospace\"><span style=\"font-weight: bold\"> Non-trainable params: </span><span style=\"color: #00af00; text-decoration-color: #00af00\">6,000,600</span> (22.89 MB)\n",
              "</pre>\n"
            ]
          },
          "metadata": {}
        }
      ]
    },
    {
      "cell_type": "markdown",
      "source": [
        "## Training & Evaluation"
      ],
      "metadata": {
        "id": "hEd2acyhRAbk"
      }
    },
    {
      "cell_type": "code",
      "source": [
        "reps = 5\n",
        "lr = 6e-4\n",
        "epochs = 15\n",
        "\n",
        "histories = []\n",
        "val_accuracy, val_f1score, val_mf1score = [], [], []\n",
        "test_accuracy, test_f1score, test_mf1score = [], [], []\n",
        "for _ in range(reps):\n",
        "  model = create_model(lr)\n",
        "\n",
        "  history = model.fit(x=train_dataset, validation_data=val_dataset, epochs=epochs)\n",
        "  histories.append(history)\n",
        "\n",
        "  _, accuracy, f1score, mf1score = evaluate(model, val_dataset, val_labels)\n",
        "  val_accuracy.append(accuracy)\n",
        "  val_f1score.append(f1score)\n",
        "  val_mf1score.append(mf1score)\n",
        "\n",
        "  _, accuracy, f1score, mf1score = evaluate(model, test_dataset, test_labels)\n",
        "  test_accuracy.append(accuracy)\n",
        "  test_f1score.append(f1score)\n",
        "  test_mf1score.append(mf1score)"
      ],
      "metadata": {
        "colab": {
          "base_uri": "https://localhost:8080/"
        },
        "id": "WS0OOWv9Q4vp",
        "outputId": "14b21d93-6383-49dc-bab6-2882589cdc4b"
      },
      "execution_count": null,
      "outputs": [
        {
          "output_type": "stream",
          "name": "stdout",
          "text": [
            "Epoch 1/15\n",
            "\u001b[1m23/23\u001b[0m \u001b[32m━━━━━━━━━━━━━━━━━━━━\u001b[0m\u001b[37m\u001b[0m \u001b[1m4s\u001b[0m 45ms/step - accuracy: 0.4302 - loss: 1.2686 - val_accuracy: 0.5185 - val_loss: 1.1970\n",
            "Epoch 2/15\n",
            "\u001b[1m23/23\u001b[0m \u001b[32m━━━━━━━━━━━━━━━━━━━━\u001b[0m\u001b[37m\u001b[0m \u001b[1m1s\u001b[0m 22ms/step - accuracy: 0.5838 - loss: 1.0127 - val_accuracy: 0.5395 - val_loss: 1.1191\n",
            "Epoch 3/15\n",
            "\u001b[1m23/23\u001b[0m \u001b[32m━━━━━━━━━━━━━━━━━━━━\u001b[0m\u001b[37m\u001b[0m \u001b[1m1s\u001b[0m 23ms/step - accuracy: 0.6675 - loss: 0.8576 - val_accuracy: 0.5817 - val_loss: 1.0805\n",
            "Epoch 4/15\n",
            "\u001b[1m23/23\u001b[0m \u001b[32m━━━━━━━━━━━━━━━━━━━━\u001b[0m\u001b[37m\u001b[0m \u001b[1m1s\u001b[0m 22ms/step - accuracy: 0.7376 - loss: 0.6999 - val_accuracy: 0.6028 - val_loss: 1.0617\n",
            "Epoch 5/15\n",
            "\u001b[1m23/23\u001b[0m \u001b[32m━━━━━━━━━━━━━━━━━━━━\u001b[0m\u001b[37m\u001b[0m \u001b[1m1s\u001b[0m 25ms/step - accuracy: 0.7925 - loss: 0.5524 - val_accuracy: 0.6344 - val_loss: 1.0278\n",
            "Epoch 6/15\n",
            "\u001b[1m23/23\u001b[0m \u001b[32m━━━━━━━━━━━━━━━━━━━━\u001b[0m\u001b[37m\u001b[0m \u001b[1m1s\u001b[0m 30ms/step - accuracy: 0.8530 - loss: 0.4190 - val_accuracy: 0.6837 - val_loss: 0.9861\n",
            "Epoch 7/15\n",
            "\u001b[1m23/23\u001b[0m \u001b[32m━━━━━━━━━━━━━━━━━━━━\u001b[0m\u001b[37m\u001b[0m \u001b[1m1s\u001b[0m 33ms/step - accuracy: 0.8969 - loss: 0.3106 - val_accuracy: 0.6784 - val_loss: 1.0811\n",
            "Epoch 8/15\n",
            "\u001b[1m23/23\u001b[0m \u001b[32m━━━━━━━━━━━━━━━━━━━━\u001b[0m\u001b[37m\u001b[0m \u001b[1m1s\u001b[0m 22ms/step - accuracy: 0.9168 - loss: 0.2616 - val_accuracy: 0.6924 - val_loss: 0.9494\n",
            "Epoch 9/15\n",
            "\u001b[1m23/23\u001b[0m \u001b[32m━━━━━━━━━━━━━━━━━━━━\u001b[0m\u001b[37m\u001b[0m \u001b[1m1s\u001b[0m 21ms/step - accuracy: 0.9275 - loss: 0.2387 - val_accuracy: 0.7153 - val_loss: 1.0202\n",
            "Epoch 10/15\n",
            "\u001b[1m23/23\u001b[0m \u001b[32m━━━━━━━━━━━━━━━━━━━━\u001b[0m\u001b[37m\u001b[0m \u001b[1m0s\u001b[0m 21ms/step - accuracy: 0.9359 - loss: 0.1848 - val_accuracy: 0.7258 - val_loss: 1.0409\n",
            "Epoch 11/15\n",
            "\u001b[1m23/23\u001b[0m \u001b[32m━━━━━━━━━━━━━━━━━━━━\u001b[0m\u001b[37m\u001b[0m \u001b[1m1s\u001b[0m 22ms/step - accuracy: 0.9550 - loss: 0.1310 - val_accuracy: 0.7311 - val_loss: 1.0613\n",
            "Epoch 12/15\n",
            "\u001b[1m23/23\u001b[0m \u001b[32m━━━━━━━━━━━━━━━━━━━━\u001b[0m\u001b[37m\u001b[0m \u001b[1m1s\u001b[0m 22ms/step - accuracy: 0.9700 - loss: 0.1022 - val_accuracy: 0.7206 - val_loss: 1.1502\n",
            "Epoch 13/15\n",
            "\u001b[1m23/23\u001b[0m \u001b[32m━━━━━━━━━━━━━━━━━━━━\u001b[0m\u001b[37m\u001b[0m \u001b[1m1s\u001b[0m 21ms/step - accuracy: 0.9729 - loss: 0.1016 - val_accuracy: 0.7258 - val_loss: 1.1266\n",
            "Epoch 14/15\n",
            "\u001b[1m23/23\u001b[0m \u001b[32m━━━━━━━━━━━━━━━━━━━━\u001b[0m\u001b[37m\u001b[0m \u001b[1m1s\u001b[0m 23ms/step - accuracy: 0.9656 - loss: 0.1008 - val_accuracy: 0.7399 - val_loss: 1.1289\n",
            "Epoch 15/15\n",
            "\u001b[1m23/23\u001b[0m \u001b[32m━━━━━━━━━━━━━━━━━━━━\u001b[0m\u001b[37m\u001b[0m \u001b[1m1s\u001b[0m 21ms/step - accuracy: 0.9764 - loss: 0.0826 - val_accuracy: 0.7364 - val_loss: 1.1118\n",
            "\u001b[1m5/5\u001b[0m \u001b[32m━━━━━━━━━━━━━━━━━━━━\u001b[0m\u001b[37m\u001b[0m \u001b[1m0s\u001b[0m 10ms/step - accuracy: 0.7627 - loss: 1.0943\n",
            "\u001b[1m5/5\u001b[0m \u001b[32m━━━━━━━━━━━━━━━━━━━━\u001b[0m\u001b[37m\u001b[0m \u001b[1m1s\u001b[0m 109ms/step\n",
            "\u001b[1m6/6\u001b[0m \u001b[32m━━━━━━━━━━━━━━━━━━━━\u001b[0m\u001b[37m\u001b[0m \u001b[1m0s\u001b[0m 15ms/step - accuracy: 0.8289 - loss: 0.7134\n",
            "\u001b[1m6/6\u001b[0m \u001b[32m━━━━━━━━━━━━━━━━━━━━\u001b[0m\u001b[37m\u001b[0m \u001b[1m0s\u001b[0m 12ms/step\n",
            "Epoch 1/15\n",
            "\u001b[1m23/23\u001b[0m \u001b[32m━━━━━━━━━━━━━━━━━━━━\u001b[0m\u001b[37m\u001b[0m \u001b[1m8s\u001b[0m 117ms/step - accuracy: 0.4420 - loss: 1.2794 - val_accuracy: 0.5167 - val_loss: 1.1897\n",
            "Epoch 2/15\n",
            "\u001b[1m23/23\u001b[0m \u001b[32m━━━━━━━━━━━━━━━━━━━━\u001b[0m\u001b[37m\u001b[0m \u001b[1m1s\u001b[0m 46ms/step - accuracy: 0.5832 - loss: 1.0194 - val_accuracy: 0.5431 - val_loss: 1.1420\n",
            "Epoch 3/15\n",
            "\u001b[1m23/23\u001b[0m \u001b[32m━━━━━━━━━━━━━━━━━━━━\u001b[0m\u001b[37m\u001b[0m \u001b[1m1s\u001b[0m 31ms/step - accuracy: 0.6700 - loss: 0.8738 - val_accuracy: 0.5782 - val_loss: 1.0828\n",
            "Epoch 4/15\n",
            "\u001b[1m23/23\u001b[0m \u001b[32m━━━━━━━━━━━━━━━━━━━━\u001b[0m\u001b[37m\u001b[0m \u001b[1m1s\u001b[0m 22ms/step - accuracy: 0.7330 - loss: 0.7185 - val_accuracy: 0.6134 - val_loss: 1.0359\n",
            "Epoch 5/15\n",
            "\u001b[1m23/23\u001b[0m \u001b[32m━━━━━━━━━━━━━━━━━━━━\u001b[0m\u001b[37m\u001b[0m \u001b[1m1s\u001b[0m 23ms/step - accuracy: 0.7931 - loss: 0.5767 - val_accuracy: 0.6432 - val_loss: 1.0093\n",
            "Epoch 6/15\n",
            "\u001b[1m23/23\u001b[0m \u001b[32m━━━━━━━━━━━━━━━━━━━━\u001b[0m\u001b[37m\u001b[0m \u001b[1m0s\u001b[0m 22ms/step - accuracy: 0.8493 - loss: 0.4415 - val_accuracy: 0.6766 - val_loss: 0.9775\n",
            "Epoch 7/15\n",
            "\u001b[1m23/23\u001b[0m \u001b[32m━━━━━━━━━━━━━━━━━━━━\u001b[0m\u001b[37m\u001b[0m \u001b[1m1s\u001b[0m 24ms/step - accuracy: 0.8920 - loss: 0.3306 - val_accuracy: 0.6503 - val_loss: 1.0266\n",
            "Epoch 8/15\n",
            "\u001b[1m23/23\u001b[0m \u001b[32m━━━━━━━━━━━━━━━━━━━━\u001b[0m\u001b[37m\u001b[0m \u001b[1m0s\u001b[0m 22ms/step - accuracy: 0.8967 - loss: 0.3086 - val_accuracy: 0.6995 - val_loss: 0.9793\n",
            "Epoch 9/15\n",
            "\u001b[1m23/23\u001b[0m \u001b[32m━━━━━━━━━━━━━━━━━━━━\u001b[0m\u001b[37m\u001b[0m \u001b[1m1s\u001b[0m 23ms/step - accuracy: 0.9301 - loss: 0.2337 - val_accuracy: 0.7153 - val_loss: 1.0318\n",
            "Epoch 10/15\n",
            "\u001b[1m23/23\u001b[0m \u001b[32m━━━━━━━━━━━━━━━━━━━━\u001b[0m\u001b[37m\u001b[0m \u001b[1m1s\u001b[0m 22ms/step - accuracy: 0.9444 - loss: 0.1753 - val_accuracy: 0.7241 - val_loss: 1.0091\n",
            "Epoch 11/15\n",
            "\u001b[1m23/23\u001b[0m \u001b[32m━━━━━━━━━━━━━━━━━━━━\u001b[0m\u001b[37m\u001b[0m \u001b[1m1s\u001b[0m 23ms/step - accuracy: 0.9679 - loss: 0.1265 - val_accuracy: 0.7329 - val_loss: 1.0085\n",
            "Epoch 12/15\n",
            "\u001b[1m23/23\u001b[0m \u001b[32m━━━━━━━━━━━━━━━━━━━━\u001b[0m\u001b[37m\u001b[0m \u001b[1m1s\u001b[0m 24ms/step - accuracy: 0.9683 - loss: 0.1010 - val_accuracy: 0.7241 - val_loss: 1.0149\n",
            "Epoch 13/15\n",
            "\u001b[1m23/23\u001b[0m \u001b[32m━━━━━━━━━━━━━━━━━━━━\u001b[0m\u001b[37m\u001b[0m \u001b[1m1s\u001b[0m 22ms/step - accuracy: 0.9736 - loss: 0.0871 - val_accuracy: 0.7065 - val_loss: 1.0538\n",
            "Epoch 14/15\n",
            "\u001b[1m23/23\u001b[0m \u001b[32m━━━━━━━━━━━━━━━━━━━━\u001b[0m\u001b[37m\u001b[0m \u001b[1m1s\u001b[0m 23ms/step - accuracy: 0.9759 - loss: 0.0838 - val_accuracy: 0.7118 - val_loss: 1.0285\n",
            "Epoch 15/15\n",
            "\u001b[1m23/23\u001b[0m \u001b[32m━━━━━━━━━━━━━━━━━━━━\u001b[0m\u001b[37m\u001b[0m \u001b[1m1s\u001b[0m 29ms/step - accuracy: 0.9779 - loss: 0.0806 - val_accuracy: 0.7276 - val_loss: 1.0916\n",
            "\u001b[1m5/5\u001b[0m \u001b[32m━━━━━━━━━━━━━━━━━━━━\u001b[0m\u001b[37m\u001b[0m \u001b[1m0s\u001b[0m 17ms/step - accuracy: 0.7412 - loss: 1.1033\n",
            "\u001b[1m5/5\u001b[0m \u001b[32m━━━━━━━━━━━━━━━━━━━━\u001b[0m\u001b[37m\u001b[0m \u001b[1m1s\u001b[0m 207ms/step\n",
            "\u001b[1m6/6\u001b[0m \u001b[32m━━━━━━━━━━━━━━━━━━━━\u001b[0m\u001b[37m\u001b[0m \u001b[1m0s\u001b[0m 21ms/step - accuracy: 0.8162 - loss: 0.6973\n",
            "\u001b[1m6/6\u001b[0m \u001b[32m━━━━━━━━━━━━━━━━━━━━\u001b[0m\u001b[37m\u001b[0m \u001b[1m0s\u001b[0m 19ms/step\n",
            "Epoch 1/15\n",
            "\u001b[1m23/23\u001b[0m \u001b[32m━━━━━━━━━━━━━━━━━━━━\u001b[0m\u001b[37m\u001b[0m \u001b[1m5s\u001b[0m 50ms/step - accuracy: 0.4510 - loss: 1.2556 - val_accuracy: 0.5167 - val_loss: 1.2102\n",
            "Epoch 2/15\n",
            "\u001b[1m23/23\u001b[0m \u001b[32m━━━━━━━━━━━━━━━━━━━━\u001b[0m\u001b[37m\u001b[0m \u001b[1m1s\u001b[0m 34ms/step - accuracy: 0.5736 - loss: 1.0206 - val_accuracy: 0.5360 - val_loss: 1.1307\n",
            "Epoch 3/15\n",
            "\u001b[1m23/23\u001b[0m \u001b[32m━━━━━━━━━━━━━━━━━━━━\u001b[0m\u001b[37m\u001b[0m \u001b[1m1s\u001b[0m 33ms/step - accuracy: 0.6612 - loss: 0.8797 - val_accuracy: 0.5817 - val_loss: 1.0783\n",
            "Epoch 4/15\n",
            "\u001b[1m23/23\u001b[0m \u001b[32m━━━━━━━━━━━━━━━━━━━━\u001b[0m\u001b[37m\u001b[0m \u001b[1m1s\u001b[0m 28ms/step - accuracy: 0.7214 - loss: 0.7278 - val_accuracy: 0.6221 - val_loss: 1.0414\n",
            "Epoch 5/15\n",
            "\u001b[1m23/23\u001b[0m \u001b[32m━━━━━━━━━━━━━━━━━━━━\u001b[0m\u001b[37m\u001b[0m \u001b[1m1s\u001b[0m 22ms/step - accuracy: 0.7835 - loss: 0.5782 - val_accuracy: 0.6432 - val_loss: 0.9864\n",
            "Epoch 6/15\n",
            "\u001b[1m23/23\u001b[0m \u001b[32m━━━━━━━━━━━━━━━━━━━━\u001b[0m\u001b[37m\u001b[0m \u001b[1m1s\u001b[0m 23ms/step - accuracy: 0.8525 - loss: 0.4401 - val_accuracy: 0.6626 - val_loss: 0.9533\n",
            "Epoch 7/15\n",
            "\u001b[1m23/23\u001b[0m \u001b[32m━━━━━━━━━━━━━━━━━━━━\u001b[0m\u001b[37m\u001b[0m \u001b[1m1s\u001b[0m 23ms/step - accuracy: 0.8927 - loss: 0.3402 - val_accuracy: 0.6977 - val_loss: 0.9411\n",
            "Epoch 8/15\n",
            "\u001b[1m23/23\u001b[0m \u001b[32m━━━━━━━━━━━━━━━━━━━━\u001b[0m\u001b[37m\u001b[0m \u001b[1m1s\u001b[0m 22ms/step - accuracy: 0.9033 - loss: 0.2936 - val_accuracy: 0.6520 - val_loss: 0.9248\n",
            "Epoch 9/15\n",
            "\u001b[1m23/23\u001b[0m \u001b[32m━━━━━━━━━━━━━━━━━━━━\u001b[0m\u001b[37m\u001b[0m \u001b[1m1s\u001b[0m 22ms/step - accuracy: 0.9019 - loss: 0.2826 - val_accuracy: 0.7012 - val_loss: 0.9985\n",
            "Epoch 10/15\n",
            "\u001b[1m23/23\u001b[0m \u001b[32m━━━━━━━━━━━━━━━━━━━━\u001b[0m\u001b[37m\u001b[0m \u001b[1m1s\u001b[0m 38ms/step - accuracy: 0.9441 - loss: 0.1897 - val_accuracy: 0.7258 - val_loss: 1.0035\n",
            "Epoch 11/15\n",
            "\u001b[1m23/23\u001b[0m \u001b[32m━━━━━━━━━━━━━━━━━━━━\u001b[0m\u001b[37m\u001b[0m \u001b[1m2s\u001b[0m 60ms/step - accuracy: 0.9584 - loss: 0.1437 - val_accuracy: 0.7417 - val_loss: 0.9977\n",
            "Epoch 12/15\n",
            "\u001b[1m23/23\u001b[0m \u001b[32m━━━━━━━━━━━━━━━━━━━━\u001b[0m\u001b[37m\u001b[0m \u001b[1m2s\u001b[0m 74ms/step - accuracy: 0.9729 - loss: 0.1114 - val_accuracy: 0.7293 - val_loss: 1.0249\n",
            "Epoch 13/15\n",
            "\u001b[1m23/23\u001b[0m \u001b[32m━━━━━━━━━━━━━━━━━━━━\u001b[0m\u001b[37m\u001b[0m \u001b[1m2s\u001b[0m 46ms/step - accuracy: 0.9733 - loss: 0.0974 - val_accuracy: 0.7346 - val_loss: 1.0047\n",
            "Epoch 14/15\n",
            "\u001b[1m23/23\u001b[0m \u001b[32m━━━━━━━━━━━━━━━━━━━━\u001b[0m\u001b[37m\u001b[0m \u001b[1m1s\u001b[0m 41ms/step - accuracy: 0.9765 - loss: 0.0811 - val_accuracy: 0.7469 - val_loss: 1.0410\n",
            "Epoch 15/15\n",
            "\u001b[1m23/23\u001b[0m \u001b[32m━━━━━━━━━━━━━━━━━━━━\u001b[0m\u001b[37m\u001b[0m \u001b[1m1s\u001b[0m 46ms/step - accuracy: 0.9767 - loss: 0.0777 - val_accuracy: 0.7399 - val_loss: 1.0503\n",
            "\u001b[1m5/5\u001b[0m \u001b[32m━━━━━━━━━━━━━━━━━━━━\u001b[0m\u001b[37m\u001b[0m \u001b[1m0s\u001b[0m 11ms/step - accuracy: 0.7459 - loss: 1.0300\n",
            "\u001b[1m5/5\u001b[0m \u001b[32m━━━━━━━━━━━━━━━━━━━━\u001b[0m\u001b[37m\u001b[0m \u001b[1m1s\u001b[0m 98ms/step\n",
            "\u001b[1m6/6\u001b[0m \u001b[32m━━━━━━━━━━━━━━━━━━━━\u001b[0m\u001b[37m\u001b[0m \u001b[1m0s\u001b[0m 12ms/step - accuracy: 0.8348 - loss: 0.6341\n",
            "\u001b[1m6/6\u001b[0m \u001b[32m━━━━━━━━━━━━━━━━━━━━\u001b[0m\u001b[37m\u001b[0m \u001b[1m0s\u001b[0m 9ms/step\n",
            "Epoch 1/15\n",
            "\u001b[1m23/23\u001b[0m \u001b[32m━━━━━━━━━━━━━━━━━━━━\u001b[0m\u001b[37m\u001b[0m \u001b[1m4s\u001b[0m 44ms/step - accuracy: 0.4232 - loss: 1.2727 - val_accuracy: 0.5167 - val_loss: 1.2144\n",
            "Epoch 2/15\n",
            "\u001b[1m23/23\u001b[0m \u001b[32m━━━━━━━━━━━━━━━━━━━━\u001b[0m\u001b[37m\u001b[0m \u001b[1m0s\u001b[0m 21ms/step - accuracy: 0.5636 - loss: 1.0334 - val_accuracy: 0.5325 - val_loss: 1.1273\n",
            "Epoch 3/15\n",
            "\u001b[1m23/23\u001b[0m \u001b[32m━━━━━━━━━━━━━━━━━━━━\u001b[0m\u001b[37m\u001b[0m \u001b[1m1s\u001b[0m 22ms/step - accuracy: 0.6509 - loss: 0.8892 - val_accuracy: 0.5694 - val_loss: 1.0827\n",
            "Epoch 4/15\n",
            "\u001b[1m23/23\u001b[0m \u001b[32m━━━━━━━━━━━━━━━━━━━━\u001b[0m\u001b[37m\u001b[0m \u001b[1m1s\u001b[0m 21ms/step - accuracy: 0.7102 - loss: 0.7370 - val_accuracy: 0.6081 - val_loss: 1.0347\n",
            "Epoch 5/15\n",
            "\u001b[1m23/23\u001b[0m \u001b[32m━━━━━━━━━━━━━━━━━━━━\u001b[0m\u001b[37m\u001b[0m \u001b[1m1s\u001b[0m 46ms/step - accuracy: 0.7768 - loss: 0.5860 - val_accuracy: 0.6274 - val_loss: 1.0349\n",
            "Epoch 6/15\n",
            "\u001b[1m23/23\u001b[0m \u001b[32m━━━━━━━━━━━━━━━━━━━━\u001b[0m\u001b[37m\u001b[0m \u001b[1m1s\u001b[0m 32ms/step - accuracy: 0.8472 - loss: 0.4457 - val_accuracy: 0.6626 - val_loss: 1.0288\n",
            "Epoch 7/15\n",
            "\u001b[1m23/23\u001b[0m \u001b[32m━━━━━━━━━━━━━━━━━━━━\u001b[0m\u001b[37m\u001b[0m \u001b[1m1s\u001b[0m 35ms/step - accuracy: 0.8900 - loss: 0.3316 - val_accuracy: 0.6995 - val_loss: 1.0003\n",
            "Epoch 8/15\n",
            "\u001b[1m23/23\u001b[0m \u001b[32m━━━━━━━━━━━━━━━━━━━━\u001b[0m\u001b[37m\u001b[0m \u001b[1m1s\u001b[0m 23ms/step - accuracy: 0.9293 - loss: 0.2457 - val_accuracy: 0.7118 - val_loss: 0.9897\n",
            "Epoch 9/15\n",
            "\u001b[1m23/23\u001b[0m \u001b[32m━━━━━━━━━━━━━━━━━━━━\u001b[0m\u001b[37m\u001b[0m \u001b[1m1s\u001b[0m 31ms/step - accuracy: 0.9392 - loss: 0.2202 - val_accuracy: 0.7188 - val_loss: 1.1140\n",
            "Epoch 10/15\n",
            "\u001b[1m23/23\u001b[0m \u001b[32m━━━━━━━━━━━━━━━━━━━━\u001b[0m\u001b[37m\u001b[0m \u001b[1m1s\u001b[0m 24ms/step - accuracy: 0.9603 - loss: 0.1583 - val_accuracy: 0.7329 - val_loss: 1.0696\n",
            "Epoch 11/15\n",
            "\u001b[1m23/23\u001b[0m \u001b[32m━━━━━━━━━━━━━━━━━━━━\u001b[0m\u001b[37m\u001b[0m \u001b[1m1s\u001b[0m 23ms/step - accuracy: 0.9692 - loss: 0.1247 - val_accuracy: 0.7487 - val_loss: 1.0803\n",
            "Epoch 12/15\n",
            "\u001b[1m23/23\u001b[0m \u001b[32m━━━━━━━━━━━━━━━━━━━━\u001b[0m\u001b[37m\u001b[0m \u001b[1m1s\u001b[0m 25ms/step - accuracy: 0.9777 - loss: 0.0961 - val_accuracy: 0.7434 - val_loss: 1.1891\n",
            "Epoch 13/15\n",
            "\u001b[1m23/23\u001b[0m \u001b[32m━━━━━━━━━━━━━━━━━━━━\u001b[0m\u001b[37m\u001b[0m \u001b[1m1s\u001b[0m 24ms/step - accuracy: 0.9761 - loss: 0.0915 - val_accuracy: 0.7399 - val_loss: 1.1559\n",
            "Epoch 14/15\n",
            "\u001b[1m23/23\u001b[0m \u001b[32m━━━━━━━━━━━━━━━━━━━━\u001b[0m\u001b[37m\u001b[0m \u001b[1m1s\u001b[0m 24ms/step - accuracy: 0.9772 - loss: 0.0776 - val_accuracy: 0.7293 - val_loss: 1.0664\n",
            "Epoch 15/15\n",
            "\u001b[1m23/23\u001b[0m \u001b[32m━━━━━━━━━━━━━━━━━━━━\u001b[0m\u001b[37m\u001b[0m \u001b[1m1s\u001b[0m 24ms/step - accuracy: 0.9756 - loss: 0.0809 - val_accuracy: 0.7329 - val_loss: 1.1565\n",
            "\u001b[1m5/5\u001b[0m \u001b[32m━━━━━━━━━━━━━━━━━━━━\u001b[0m\u001b[37m\u001b[0m \u001b[1m0s\u001b[0m 10ms/step - accuracy: 0.7454 - loss: 1.0719\n",
            "\u001b[1m5/5\u001b[0m \u001b[32m━━━━━━━━━━━━━━━━━━━━\u001b[0m\u001b[37m\u001b[0m \u001b[1m1s\u001b[0m 96ms/step\n",
            "\u001b[1m6/6\u001b[0m \u001b[32m━━━━━━━━━━━━━━━━━━━━\u001b[0m\u001b[37m\u001b[0m \u001b[1m0s\u001b[0m 13ms/step - accuracy: 0.8336 - loss: 0.7927\n",
            "\u001b[1m6/6\u001b[0m \u001b[32m━━━━━━━━━━━━━━━━━━━━\u001b[0m\u001b[37m\u001b[0m \u001b[1m0s\u001b[0m 11ms/step\n",
            "Epoch 1/15\n",
            "\u001b[1m23/23\u001b[0m \u001b[32m━━━━━━━━━━━━━━━━━━━━\u001b[0m\u001b[37m\u001b[0m \u001b[1m4s\u001b[0m 70ms/step - accuracy: 0.4806 - loss: 1.2466 - val_accuracy: 0.5202 - val_loss: 1.1916\n",
            "Epoch 2/15\n",
            "\u001b[1m23/23\u001b[0m \u001b[32m━━━━━━━━━━━━━━━━━━━━\u001b[0m\u001b[37m\u001b[0m \u001b[1m2s\u001b[0m 27ms/step - accuracy: 0.5936 - loss: 1.0159 - val_accuracy: 0.5677 - val_loss: 1.1269\n",
            "Epoch 3/15\n",
            "\u001b[1m23/23\u001b[0m \u001b[32m━━━━━━━━━━━━━━━━━━━━\u001b[0m\u001b[37m\u001b[0m \u001b[1m0s\u001b[0m 22ms/step - accuracy: 0.6618 - loss: 0.8761 - val_accuracy: 0.5729 - val_loss: 1.0783\n",
            "Epoch 4/15\n",
            "\u001b[1m23/23\u001b[0m \u001b[32m━━━━━━━━━━━━━━━━━━━━\u001b[0m\u001b[37m\u001b[0m \u001b[1m1s\u001b[0m 24ms/step - accuracy: 0.7212 - loss: 0.7233 - val_accuracy: 0.6134 - val_loss: 1.0318\n",
            "Epoch 5/15\n",
            "\u001b[1m23/23\u001b[0m \u001b[32m━━━━━━━━━━━━━━━━━━━━\u001b[0m\u001b[37m\u001b[0m \u001b[1m1s\u001b[0m 23ms/step - accuracy: 0.7814 - loss: 0.5732 - val_accuracy: 0.6450 - val_loss: 1.0353\n",
            "Epoch 6/15\n",
            "\u001b[1m23/23\u001b[0m \u001b[32m━━━━━━━━━━━━━━━━━━━━\u001b[0m\u001b[37m\u001b[0m \u001b[1m1s\u001b[0m 23ms/step - accuracy: 0.8492 - loss: 0.4447 - val_accuracy: 0.6257 - val_loss: 1.1068\n",
            "Epoch 7/15\n",
            "\u001b[1m23/23\u001b[0m \u001b[32m━━━━━━━━━━━━━━━━━━━━\u001b[0m\u001b[37m\u001b[0m \u001b[1m1s\u001b[0m 23ms/step - accuracy: 0.8688 - loss: 0.3780 - val_accuracy: 0.7012 - val_loss: 0.8878\n",
            "Epoch 8/15\n",
            "\u001b[1m23/23\u001b[0m \u001b[32m━━━━━━━━━━━━━━━━━━━━\u001b[0m\u001b[37m\u001b[0m \u001b[1m1s\u001b[0m 23ms/step - accuracy: 0.8973 - loss: 0.3179 - val_accuracy: 0.7258 - val_loss: 0.8806\n",
            "Epoch 9/15\n",
            "\u001b[1m23/23\u001b[0m \u001b[32m━━━━━━━━━━━━━━━━━━━━\u001b[0m\u001b[37m\u001b[0m \u001b[1m1s\u001b[0m 24ms/step - accuracy: 0.9444 - loss: 0.2214 - val_accuracy: 0.7434 - val_loss: 0.9628\n",
            "Epoch 10/15\n",
            "\u001b[1m23/23\u001b[0m \u001b[32m━━━━━━━━━━━━━━━━━━━━\u001b[0m\u001b[37m\u001b[0m \u001b[1m1s\u001b[0m 23ms/step - accuracy: 0.9568 - loss: 0.1749 - val_accuracy: 0.7452 - val_loss: 1.0235\n",
            "Epoch 11/15\n",
            "\u001b[1m23/23\u001b[0m \u001b[32m━━━━━━━━━━━━━━━━━━━━\u001b[0m\u001b[37m\u001b[0m \u001b[1m1s\u001b[0m 23ms/step - accuracy: 0.9637 - loss: 0.1351 - val_accuracy: 0.7346 - val_loss: 1.0929\n",
            "Epoch 12/15\n",
            "\u001b[1m23/23\u001b[0m \u001b[32m━━━━━━━━━━━━━━━━━━━━\u001b[0m\u001b[37m\u001b[0m \u001b[1m1s\u001b[0m 22ms/step - accuracy: 0.9659 - loss: 0.1196 - val_accuracy: 0.7364 - val_loss: 1.0544\n",
            "Epoch 13/15\n",
            "\u001b[1m23/23\u001b[0m \u001b[32m━━━━━━━━━━━━━━━━━━━━\u001b[0m\u001b[37m\u001b[0m \u001b[1m0s\u001b[0m 21ms/step - accuracy: 0.9734 - loss: 0.0969 - val_accuracy: 0.7434 - val_loss: 1.0574\n",
            "Epoch 14/15\n",
            "\u001b[1m23/23\u001b[0m \u001b[32m━━━━━━━━━━━━━━━━━━━━\u001b[0m\u001b[37m\u001b[0m \u001b[1m1s\u001b[0m 23ms/step - accuracy: 0.9770 - loss: 0.0827 - val_accuracy: 0.7329 - val_loss: 1.0919\n",
            "Epoch 15/15\n",
            "\u001b[1m23/23\u001b[0m \u001b[32m━━━━━━━━━━━━━━━━━━━━\u001b[0m\u001b[37m\u001b[0m \u001b[1m1s\u001b[0m 24ms/step - accuracy: 0.9774 - loss: 0.0769 - val_accuracy: 0.7504 - val_loss: 1.1209\n",
            "\u001b[1m5/5\u001b[0m \u001b[32m━━━━━━━━━━━━━━━━━━━━\u001b[0m\u001b[37m\u001b[0m \u001b[1m0s\u001b[0m 10ms/step - accuracy: 0.7601 - loss: 1.1049\n",
            "\u001b[1m5/5\u001b[0m \u001b[32m━━━━━━━━━━━━━━━━━━━━\u001b[0m\u001b[37m\u001b[0m \u001b[1m1s\u001b[0m 91ms/step\n",
            "\u001b[1m6/6\u001b[0m \u001b[32m━━━━━━━━━━━━━━━━━━━━\u001b[0m\u001b[37m\u001b[0m \u001b[1m0s\u001b[0m 13ms/step - accuracy: 0.8510 - loss: 0.7107\n",
            "\u001b[1m6/6\u001b[0m \u001b[32m━━━━━━━━━━━━━━━━━━━━\u001b[0m\u001b[37m\u001b[0m \u001b[1m0s\u001b[0m 9ms/step \n"
          ]
        }
      ]
    },
    {
      "cell_type": "markdown",
      "source": [
        "**Overfitting Analysis**  \n",
        "The gap between training and validation performance indicates that the model is overfitting the training data. Several factors contribute to this issue:\n",
        "1. **Insufficient Data**: The relatively small training dataset of 2848 instances is insufficient for the model to learn the intricate nuances of the task, particularly given its inherent complexity.\n",
        "2. **Task Complexity:** The 'disagree' and 'discuss' classes pose significant challenges due to their subtle distinctions. While 'unrelated' and 'agree' classes can often be identified through simple textual similarity, 'disagree' and 'discuss' require deeper semantic understanding and the ability to detect complex linguistic cues:\n",
        "   - **Discuss class:** Discussing involves giving more details and different viewpoints.\n",
        "   - **Disagree class:** Disagreement could involve simple negation terms or more complex negations like changing dates, quantities, or introducing opposing concepts (e.g. Sky is Blue vs. Sky is Black).\n",
        "\n",
        "3. **Annotation Errors:** Manual inspection has revealed a non-negligible number of misannotations, further complicating the learning process.\n",
        "4. **Language Challenges:** Arabic, the language of the dataset, presents additional complexities due to its rich morphology and diverse dialects.\n",
        "5. **Class Imbalance:** The 'unrelated' class significantly outnumbers the other classes. Additionally, the 'disagree' and 'discuss' classes are underrepresented compared to the 'agree' and 'unrelated' classes. The relative lower representations of the 'discuss' and 'disagree' classes across the three sets exacerbates the classification challenge.\n",
        "\n",
        "![image not found](tab_arastance.png)\n",
        "\n",
        "**Mitigating Overfitting**  \n",
        "While regularization techniques and early stopping may have limited effectiveness, addressing the underlying data limitations is crucial:\n",
        "1. **Data Augmentation:** Explore techniques like back-translation, synonym replacement, and text generation to artificially expand the dataset.\n",
        "2. **Transfer Learning:** Leverage pre-trained language models to incorporate prior knowledge and improve generalization.\n",
        "3. **Ensemble Methods:** Combine multiple models to reduce variance and improve overall performance.\n",
        "\n"
      ],
      "metadata": {
        "id": "GLc4UvS_lhZO"
      }
    },
    {
      "cell_type": "markdown",
      "source": [
        "### Results"
      ],
      "metadata": {
        "id": "QC_OfrPdREo1"
      }
    },
    {
      "cell_type": "code",
      "source": [
        "print(\"Validation Resutls:\")\n",
        "print(\"=====================\")\n",
        "print(f\"Mean Accuracy: {np.mean(val_accuracy):.3f}\")\n",
        "agree, disagree, discuss, unrelated = np.mean(val_f1score, axis=0)\n",
        "print(\"Mean Per Class F1 scores:\")\n",
        "print(f\"Agree   : {agree:.3f}\")\n",
        "print(f\"Disagree: {disagree:.3f}\")\n",
        "print(f\"Discuss : {discuss:.3f}\")\n",
        "print(f\"Unrelated: {unrelated:.3f}\")\n",
        "print(f\"Mean Macro F1 scores: {np.mean(val_mf1score):.3f}\")"
      ],
      "metadata": {
        "colab": {
          "base_uri": "https://localhost:8080/"
        },
        "id": "2JUotlvDRFSp",
        "outputId": "7c9443e1-0ba2-42b0-bd22-eec83831a359"
      },
      "execution_count": null,
      "outputs": [
        {
          "output_type": "stream",
          "name": "stdout",
          "text": [
            "Validation Resutls:\n",
            "=====================\n",
            "Mean Accuracy: 0.737\n",
            "Mean Per Class F1 scores:\n",
            "Agree   : 0.699\n",
            "Disagree: 0.657\n",
            "Discuss : 0.465\n",
            "Unrelated: 0.822\n",
            "Mean Macro F1 scores: 0.661\n"
          ]
        }
      ]
    },
    {
      "cell_type": "code",
      "source": [
        "print(\"Testing Resutls:\")\n",
        "print(\"=====================\")\n",
        "print(f\"Mean Accuracy: {np.mean(test_accuracy):.3f}\")\n",
        "agree, disagree, discuss, unrelated = np.mean(test_f1score, axis=0)\n",
        "print(\"Mean Per Class F1 scores:\")\n",
        "print(f\"Agree   : {agree:.3f}\")\n",
        "print(f\"Disagree: {disagree:.3f}\")\n",
        "print(f\"Discuss : {discuss:.3f}\")\n",
        "print(f\"Unrelated: {unrelated:.3f}\")\n",
        "print(f\"Mean Macro F1 scores: {np.mean(test_mf1score):.3f}\")"
      ],
      "metadata": {
        "colab": {
          "base_uri": "https://localhost:8080/"
        },
        "id": "G7On0LroRMzO",
        "outputId": "7a71ee5f-d4fb-4754-df4c-1cb753cb790a"
      },
      "execution_count": null,
      "outputs": [
        {
          "output_type": "stream",
          "name": "stdout",
          "text": [
            "Testing Resutls:\n",
            "=====================\n",
            "Mean Accuracy: 0.792\n",
            "Mean Per Class F1 scores:\n",
            "Agree   : 0.774\n",
            "Disagree: 0.710\n",
            "Discuss : 0.392\n",
            "Unrelated: 0.869\n",
            "Mean Macro F1 scores: 0.686\n"
          ]
        }
      ]
    }
  ]
}